{
 "cells": [
  {
   "cell_type": "markdown",
   "id": "44ebd930-b2b4-4a05-96e6-450296a4e229",
   "metadata": {},
   "source": [
    "# Prepare synthetic data\n",
    "\n",
    "- Zella King\n",
    "- 2022-09-30\n",
    "\n",
    "Our goal is to develop a Bayesian model to predict a patient's probability of being discharged in the next 24 hours. \n",
    "\n",
    "Here are three initial steps I think we need to do: \n",
    "\n",
    " 1. Decide on our \"prior\" probability and express it as a distribution \n",
    " 2. Identify some data we can use for the \"likelihood\". This can be synthetic to start with\n",
    " 3. Develop a posterior distribution from the prior and likelihood. \n",
    "\n",
    " In this example I'm using terminology and  methods from here: https://allendowney.github.io/ThinkBayes2/chap06.html"
   ]
  },
  {
   "cell_type": "code",
   "execution_count": 5,
   "id": "76896b08-547e-4b9e-965b-f6f91a862cb7",
   "metadata": {
    "execution": {
     "iopub.execute_input": "2022-09-11T22:36:58.995461Z",
     "iopub.status.busy": "2022-09-11T22:36:58.995084Z",
     "iopub.status.idle": "2022-09-11T22:37:01.107025Z",
     "shell.execute_reply": "2022-09-11T22:37:01.106152Z",
     "shell.execute_reply.started": "2022-09-11T22:36:58.995432Z"
    },
    "tags": []
   },
   "outputs": [],
   "source": [
    "import os\n",
    "from pathlib import Path\n",
    "\n",
    "import matplotlib.pyplot as plt\n",
    "import numpy as np\n",
    "import pandas as pd\n",
    "from scipy.stats import poisson, lognorm\n",
    "import sqlalchemy as sa"
   ]
  },
  {
   "cell_type": "code",
   "execution_count": null,
   "id": "b0fb50f5-6782-4a8f-9485-c62ac927bde7",
   "metadata": {
    "execution": {
     "iopub.execute_input": "2022-09-11T22:37:01.111585Z",
     "iopub.status.busy": "2022-09-11T22:37:01.111291Z",
     "iopub.status.idle": "2022-09-11T22:37:01.129827Z",
     "shell.execute_reply": "2022-09-11T22:37:01.128798Z",
     "shell.execute_reply.started": "2022-09-11T22:37:01.111556Z"
    }
   },
   "outputs": [],
   "source": [
    "%matplotlib inline"
   ]
  },
  {
   "cell_type": "markdown",
   "id": "9cd08a2b",
   "metadata": {},
   "source": [
    "## Prior odds\n",
    "\n",
    "Previously we found, by interrogating some synthetic data, that a patient's probability of discharge in the next 24 hours was .1111. Let's call this a probability of 1/9\n",
    "\n",
    "We could express this as odds. For everyone 1 patient discharged, 8 remain. Therefore the odds of discharge are 1:8 or 0.125. \n"
   ]
  },
  {
   "cell_type": "code",
   "execution_count": 83,
   "id": "1bda99aa",
   "metadata": {},
   "outputs": [],
   "source": [
    "def odds(p):\n",
    "    return p / (1-p)\n",
    "\n",
    "odds (1/9)\n",
    "\n",
    "def prob(o):\n",
    "    return o / (o+1)"
   ]
  },
  {
   "cell_type": "markdown",
   "id": "0776883d",
   "metadata": {},
   "source": [
    "## Likelihood\n",
    "\n",
    "\n",
    "In probability form, Bayes theorem is this:\n",
    "\n",
    "$ P(H | D) =\\frac{P(H)P(D|H)}{P(D)}$\n",
    "\n",
    "It can be rewritten in terms of odd (Bayes rule).  We can express the odds in favour of discharge as:\n",
    "\n",
    "$ odds(discharge | data) =odds (discharge) * \\frac{P( data | discharge)}{P( data | not discharged)}$"
   ]
  },
  {
   "cell_type": "markdown",
   "id": "80faf7f3-4cc7-47d1-bff5-a3151bb7c29f",
   "metadata": {},
   "source": [
    "We will read in the dummy data to get the likelihood. Note that this table of synthetic data has been adjusted to make it more likely that older people have a longer time to discharge"
   ]
  },
  {
   "cell_type": "code",
   "execution_count": 55,
   "id": "fa56bc9b",
   "metadata": {},
   "outputs": [
    {
     "name": "stdout",
     "output_type": "stream",
     "text": [
      "Number of people discharged in 24 hours: 32\n",
      "Total number of people observed: 444\n"
     ]
    }
   ],
   "source": [
    "sqlite_engine = sa.create_engine('sqlite:///../../data/dummy.db')\n",
    "df = pd.read_sql_query(\"SELECT id, hours_to_discharge, department, age, pulse from discharges_age_adjusted\", sqlite_engine)\n",
    "\n",
    "# Let N be the number of patients observed\n",
    "N = df.shape[0]\n",
    "\n",
    "# Let X be the number of patients who were discharged in 24 hours\n",
    "X = df[df.hours_to_discharge <= 24].shape[0]\n",
    "print(\"Number of people discharged in 24 hours: \" + str(X))\n",
    "print(\"Total number of people observed: \" + str(N))"
   ]
  },
  {
   "cell_type": "markdown",
   "id": "52c1c0ce",
   "metadata": {},
   "source": [
    "Let's group age into two categories (over 65 or not) and identify which ones were actually discharged in 24 hours. Then, cross-tabulating them:"
   ]
  },
  {
   "cell_type": "code",
   "execution_count": 65,
   "metadata": {},
   "outputs": [
    {
     "data": {
      "text/html": [
       "<div>\n",
       "<style scoped>\n",
       "    .dataframe tbody tr th:only-of-type {\n",
       "        vertical-align: middle;\n",
       "    }\n",
       "\n",
       "    .dataframe tbody tr th {\n",
       "        vertical-align: top;\n",
       "    }\n",
       "\n",
       "    .dataframe thead th {\n",
       "        text-align: right;\n",
       "    }\n",
       "</style>\n",
       "<table border=\"1\" class=\"dataframe\">\n",
       "  <thead>\n",
       "    <tr style=\"text-align: right;\">\n",
       "      <th>over65</th>\n",
       "      <th>False</th>\n",
       "      <th>True</th>\n",
       "    </tr>\n",
       "    <tr>\n",
       "      <th>dischargein24</th>\n",
       "      <th></th>\n",
       "      <th></th>\n",
       "    </tr>\n",
       "  </thead>\n",
       "  <tbody>\n",
       "    <tr>\n",
       "      <th>False</th>\n",
       "      <td>233</td>\n",
       "      <td>179</td>\n",
       "    </tr>\n",
       "    <tr>\n",
       "      <th>True</th>\n",
       "      <td>26</td>\n",
       "      <td>6</td>\n",
       "    </tr>\n",
       "  </tbody>\n",
       "</table>\n",
       "</div>"
      ],
      "text/plain": [
       "over65         False  True\n",
       "dischargein24             \n",
       "False            233   179\n",
       "True              26     6"
      ]
     },
     "execution_count": 65,
     "metadata": {},
     "output_type": "execute_result"
    }
   ],
   "source": [
    "df['age'] = df.age>65\n",
    "df['dischargein24'] = df.hours_to_discharge <= 24\n",
    "pivot = df.groupby('dischargein24')['over65'].value_counts().to_frame().rename(columns = {'over65':'N'}).reset_index().pivot(columns = 'over65', index = 'dischargein24', values = 'N')\n",
    "pivot"
   ]
  },
  {
   "cell_type": "markdown",
   "id": "e8259999",
   "metadata": {},
   "source": [
    "## Posterior"
   ]
  },
  {
   "cell_type": "markdown",
   "id": "77f13cb9",
   "metadata": {},
   "source": [
    "Let's say we are looking at one patient of the 444 and this person is over 65. We want to know whether this person will be discharged in the next 24 hours. These posterior odds are given by this equation: \n",
    "\n",
    "$ odds(discharge | over65 ) =odds (discharge) * \\frac{P( over65 | discharge)}{P( over65 | not discharged)}$\n",
    "\n",
    "$ P( over65 | discharged)$ is:"
   ]
  },
  {
   "cell_type": "code",
   "execution_count": 90,
   "id": "a7d88010",
   "metadata": {},
   "outputs": [
    {
     "name": "stdout",
     "output_type": "stream",
     "text": [
      "0.1875\n"
     ]
    }
   ],
   "source": [
    "likelihood_gt65_given_dis = df[(df.dischargein24) & (df.over65)].shape[0] / df[df.dischargein24].shape[0]\n",
    "print(likelihood_gt65_given_dis)"
   ]
  },
  {
   "cell_type": "markdown",
   "id": "9a73de8a",
   "metadata": {},
   "source": [
    "$ P( over65 | not discharged)$ is:"
   ]
  },
  {
   "cell_type": "code",
   "execution_count": 91,
   "id": "3b071004",
   "metadata": {},
   "outputs": [
    {
     "name": "stdout",
     "output_type": "stream",
     "text": [
      "0.4344660194174757\n"
     ]
    }
   ],
   "source": [
    "likelihood_lte65_given_dis = df[~(df.dischargein24) & (df.over65)].shape[0] / df[~df.dischargein24].shape[0]\n",
    "print(likelihood_lte65_given_dis)"
   ]
  },
  {
   "cell_type": "markdown",
   "id": "29988b8b",
   "metadata": {},
   "source": [
    "Likelihood ratio, given by $  \\frac{P( over65 | discharge)}{P( over65 | not discharged)}$ is:"
   ]
  },
  {
   "cell_type": "code",
   "execution_count": 92,
   "id": "345cde94",
   "metadata": {},
   "outputs": [
    {
     "data": {
      "text/plain": [
       "0.43156424581005587"
      ]
     },
     "execution_count": 92,
     "metadata": {},
     "output_type": "execute_result"
    }
   ],
   "source": [
    "likelihood_gt65_given_dis/likelihood_lte65_given_dis"
   ]
  },
  {
   "cell_type": "code",
   "execution_count": 82,
   "metadata": {},
   "outputs": [
    {
     "data": {
      "text/plain": [
       "0.053945530726256984"
      ]
     },
     "execution_count": 82,
     "metadata": {},
     "output_type": "execute_result"
    }
   ],
   "source": [
    "prior_odds = 1/8\n",
    "likelihood_ratio = likelihood_gt65_given_dis/likelihood_lte65_given_dis\n",
    "post_odds = prior_odds * likelihood_ratio\n",
    "post_odds"
   ]
  },
  {
   "cell_type": "markdown",
   "id": "86c13e03",
   "metadata": {},
   "source": [
    "The posterior odds, given a patient is over 65 are substantially reduced "
   ]
  },
  {
   "cell_type": "markdown",
   "id": "bd16cd71",
   "metadata": {},
   "source": [
    "## Using Allen Downey functions"
   ]
  },
  {
   "cell_type": "code",
   "execution_count": 86,
   "id": "fd2d3454",
   "metadata": {},
   "outputs": [
    {
     "data": {
      "text/html": [
       "<div>\n",
       "<style scoped>\n",
       "    .dataframe tbody tr th:only-of-type {\n",
       "        vertical-align: middle;\n",
       "    }\n",
       "\n",
       "    .dataframe tbody tr th {\n",
       "        vertical-align: top;\n",
       "    }\n",
       "\n",
       "    .dataframe thead th {\n",
       "        text-align: right;\n",
       "    }\n",
       "</style>\n",
       "<table border=\"1\" class=\"dataframe\">\n",
       "  <thead>\n",
       "    <tr style=\"text-align: right;\">\n",
       "      <th></th>\n",
       "      <th>odds</th>\n",
       "      <th>prob</th>\n",
       "    </tr>\n",
       "  </thead>\n",
       "  <tbody>\n",
       "    <tr>\n",
       "      <th>prior</th>\n",
       "      <td>0.125</td>\n",
       "      <td>0.111111</td>\n",
       "    </tr>\n",
       "  </tbody>\n",
       "</table>\n",
       "</div>"
      ],
      "text/plain": [
       "        odds      prob\n",
       "prior  0.125  0.111111"
      ]
     },
     "execution_count": 86,
     "metadata": {},
     "output_type": "execute_result"
    }
   ],
   "source": [
    "bindex = ['prior']\n",
    "table = pd.DataFrame(index = index)\n",
    "table['odds'] = 1/8\n",
    "table['prob'] = prob(table['odds'])\n",
    "table\n",
    "\n",
    "table"
   ]
  },
  {
   "cell_type": "code",
   "execution_count": 87,
   "id": "d713ac04",
   "metadata": {},
   "outputs": [
    {
     "data": {
      "text/html": [
       "<div>\n",
       "<style scoped>\n",
       "    .dataframe tbody tr th:only-of-type {\n",
       "        vertical-align: middle;\n",
       "    }\n",
       "\n",
       "    .dataframe tbody tr th {\n",
       "        vertical-align: top;\n",
       "    }\n",
       "\n",
       "    .dataframe thead th {\n",
       "        text-align: right;\n",
       "    }\n",
       "</style>\n",
       "<table border=\"1\" class=\"dataframe\">\n",
       "  <thead>\n",
       "    <tr style=\"text-align: right;\">\n",
       "      <th></th>\n",
       "      <th>odds</th>\n",
       "      <th>prob</th>\n",
       "    </tr>\n",
       "  </thead>\n",
       "  <tbody>\n",
       "    <tr>\n",
       "      <th>lte65</th>\n",
       "      <td>0.125</td>\n",
       "      <td>0.111111</td>\n",
       "    </tr>\n",
       "    <tr>\n",
       "      <th>gt65</th>\n",
       "      <td>0.125</td>\n",
       "      <td>0.111111</td>\n",
       "    </tr>\n",
       "  </tbody>\n",
       "</table>\n",
       "</div>"
      ],
      "text/plain": [
       "        odds      prob\n",
       "lte65  0.125  0.111111\n",
       "gt65   0.125  0.111111"
      ]
     },
     "execution_count": 87,
     "metadata": {},
     "output_type": "execute_result"
    }
   ],
   "source": [
    "index = ['lte65', 'gt65']\n",
    "table = pd.DataFrame(index = index)\n",
    "table['odds'] = 1/8\n",
    "table['prob'] = prob(table['odds'])\n",
    "table\n",
    "\n"
   ]
  },
  {
   "cell_type": "markdown",
   "id": "e972b291",
   "metadata": {},
   "source": [
    "Adding the likelihood we computed earlier:"
   ]
  },
  {
   "cell_type": "code",
   "execution_count": 89,
   "id": "d9ab15ee",
   "metadata": {},
   "outputs": [
    {
     "data": {
      "text/html": [
       "<div>\n",
       "<style scoped>\n",
       "    .dataframe tbody tr th:only-of-type {\n",
       "        vertical-align: middle;\n",
       "    }\n",
       "\n",
       "    .dataframe tbody tr th {\n",
       "        vertical-align: top;\n",
       "    }\n",
       "\n",
       "    .dataframe thead th {\n",
       "        text-align: right;\n",
       "    }\n",
       "</style>\n",
       "<table border=\"1\" class=\"dataframe\">\n",
       "  <thead>\n",
       "    <tr style=\"text-align: right;\">\n",
       "      <th></th>\n",
       "      <th>odds</th>\n",
       "      <th>prob</th>\n",
       "      <th>likelihood</th>\n",
       "    </tr>\n",
       "  </thead>\n",
       "  <tbody>\n",
       "    <tr>\n",
       "      <th>lte65</th>\n",
       "      <td>0.125</td>\n",
       "      <td>0.111111</td>\n",
       "      <td>0.187500</td>\n",
       "    </tr>\n",
       "    <tr>\n",
       "      <th>gt65</th>\n",
       "      <td>0.125</td>\n",
       "      <td>0.111111</td>\n",
       "      <td>0.434466</td>\n",
       "    </tr>\n",
       "  </tbody>\n",
       "</table>\n",
       "</div>"
      ],
      "text/plain": [
       "        odds      prob  likelihood\n",
       "lte65  0.125  0.111111    0.187500\n",
       "gt65   0.125  0.111111    0.434466"
      ]
     },
     "execution_count": 89,
     "metadata": {},
     "output_type": "execute_result"
    }
   ],
   "source": [
    "table['likelihood'] = [likelihood_gt65_given_dis, likelihood_lte65_given_dis]\n",
    "table"
   ]
  },
  {
   "cell_type": "markdown",
   "id": "76ecccb8",
   "metadata": {},
   "source": [
    "Calculating the posterior odds, by following this equation:"
   ]
  },
  {
   "cell_type": "code",
   "execution_count": 93,
   "id": "125e9f92",
   "metadata": {},
   "outputs": [
    {
     "data": {
      "text/html": [
       "<div>\n",
       "<style scoped>\n",
       "    .dataframe tbody tr th:only-of-type {\n",
       "        vertical-align: middle;\n",
       "    }\n",
       "\n",
       "    .dataframe tbody tr th {\n",
       "        vertical-align: top;\n",
       "    }\n",
       "\n",
       "    .dataframe thead th {\n",
       "        text-align: right;\n",
       "    }\n",
       "</style>\n",
       "<table border=\"1\" class=\"dataframe\">\n",
       "  <thead>\n",
       "    <tr style=\"text-align: right;\">\n",
       "      <th></th>\n",
       "      <th>odds</th>\n",
       "      <th>prob</th>\n",
       "      <th>likelihood</th>\n",
       "      <th>posterior odds</th>\n",
       "    </tr>\n",
       "  </thead>\n",
       "  <tbody>\n",
       "    <tr>\n",
       "      <th>lte65</th>\n",
       "      <td>0.125</td>\n",
       "      <td>0.111111</td>\n",
       "      <td>0.187500</td>\n",
       "      <td>0.187500</td>\n",
       "    </tr>\n",
       "    <tr>\n",
       "      <th>gt65</th>\n",
       "      <td>0.125</td>\n",
       "      <td>0.111111</td>\n",
       "      <td>0.434466</td>\n",
       "      <td>0.434466</td>\n",
       "    </tr>\n",
       "  </tbody>\n",
       "</table>\n",
       "</div>"
      ],
      "text/plain": [
       "        odds      prob  likelihood  posterior odds\n",
       "lte65  0.125  0.111111    0.187500        0.187500\n",
       "gt65   0.125  0.111111    0.434466        0.434466"
      ]
     },
     "execution_count": 93,
     "metadata": {},
     "output_type": "execute_result"
    }
   ],
   "source": [
    "table['posterior odds'] = df[(df.dischargein24) & (df.over65)].shape[0] / df[df.dischargein24].shape[0]\n",
    "table"
   ]
  },
  {
   "cell_type": "code",
   "execution_count": null,
   "id": "04f14486",
   "metadata": {},
   "outputs": [],
   "source": []
  }
 ],
 "metadata": {
  "kernelspec": {
   "display_name": "Python 3.9.13 ('hystakes')",
   "language": "python",
   "name": "python3"
  },
  "language_info": {
   "codemirror_mode": {
    "name": "ipython",
    "version": 3
   },
   "file_extension": ".py",
   "mimetype": "text/x-python",
   "name": "python",
   "nbconvert_exporter": "python",
   "pygments_lexer": "ipython3",
   "version": "3.9.13"
  },
  "vscode": {
   "interpreter": {
    "hash": "777d76e45dee6605b55d3e20abadc559ebb627ce5062984b1aa5036d21f44d79"
   }
  }
 },
 "nbformat": 4,
 "nbformat_minor": 5
}
