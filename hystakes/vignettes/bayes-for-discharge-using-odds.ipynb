{
 "cells": [
  {
   "cell_type": "markdown",
   "id": "44ebd930-b2b4-4a05-96e6-450296a4e229",
   "metadata": {},
   "source": [
    "# Prepare synthetic data\n",
    "\n",
    "- Zella King\n",
    "- 2022-09-30\n",
    "\n",
    "Our goal is to develop a Bayesian model to predict a patient's probability of being discharged in the next 24 hours. \n",
    "\n",
    "Here are three initial steps I think we need to do: \n",
    "\n",
    " 1. Decide on our \"prior\" probability and express it as a distribution \n",
    " 2. Identify some data we can use for the \"likelihood\". This can be synthetic to start with\n",
    " 3. Develop a posterior distribution from the prior and likelihood. \n",
    "\n",
    " In this example I'm using terminology and  methods from here: https://allendowney.github.io/ThinkBayes2/chap06.html"
   ]
  },
  {
   "cell_type": "code",
   "execution_count": 1,
   "id": "76896b08-547e-4b9e-965b-f6f91a862cb7",
   "metadata": {
    "execution": {
     "iopub.execute_input": "2022-09-11T22:36:58.995461Z",
     "iopub.status.busy": "2022-09-11T22:36:58.995084Z",
     "iopub.status.idle": "2022-09-11T22:37:01.107025Z",
     "shell.execute_reply": "2022-09-11T22:37:01.106152Z",
     "shell.execute_reply.started": "2022-09-11T22:36:58.995432Z"
    },
    "tags": []
   },
   "outputs": [],
   "source": [
    "import os\n",
    "from pathlib import Path\n",
    "\n",
    "import matplotlib.pyplot as plt\n",
    "import numpy as np\n",
    "import pandas as pd\n",
    "from scipy.stats import poisson, lognorm\n",
    "import sqlalchemy as sa"
   ]
  },
  {
   "cell_type": "code",
   "execution_count": 2,
   "id": "b0fb50f5-6782-4a8f-9485-c62ac927bde7",
   "metadata": {
    "execution": {
     "iopub.execute_input": "2022-09-11T22:37:01.111585Z",
     "iopub.status.busy": "2022-09-11T22:37:01.111291Z",
     "iopub.status.idle": "2022-09-11T22:37:01.129827Z",
     "shell.execute_reply": "2022-09-11T22:37:01.128798Z",
     "shell.execute_reply.started": "2022-09-11T22:37:01.111556Z"
    }
   },
   "outputs": [],
   "source": [
    "%matplotlib inline"
   ]
  },
  {
   "cell_type": "markdown",
   "id": "9cd08a2b",
   "metadata": {},
   "source": [
    "## Prior odds\n",
    "\n",
    "Previously we found, by interrogating some synthetic data, that a patient's probability of discharge in the next 24 hours was .1111. Let's call this a probability of 1/9\n",
    "\n",
    "We could express this as odds. For everyone 1 patient discharged, 8 remain. Therefore the odds of discharge are 1:8 or 0.125. \n"
   ]
  },
  {
   "cell_type": "code",
   "execution_count": 3,
   "id": "1bda99aa",
   "metadata": {},
   "outputs": [],
   "source": [
    "def odds(p):\n",
    "    return p / (1-p)\n",
    "\n",
    "odds (1/9)\n",
    "\n",
    "def prob(o):\n",
    "    return o / (o+1)"
   ]
  },
  {
   "cell_type": "markdown",
   "id": "0776883d",
   "metadata": {},
   "source": [
    "## Likelihood\n",
    "\n",
    "\n",
    "In probability form, Bayes theorem is this:\n",
    "\n",
    "$ P(H | D) =\\frac{P(H)P(D|H)}{P(D)}$\n",
    "\n",
    "It can be rewritten in terms of odd (Bayes rule).  We can express the odds in favour of discharge as:\n",
    "\n",
    "$ odds(discharge | data) =odds (discharge) * \\frac{P( data | discharge)}{P( data | not discharged)}$"
   ]
  },
  {
   "cell_type": "markdown",
   "id": "80faf7f3-4cc7-47d1-bff5-a3151bb7c29f",
   "metadata": {},
   "source": [
    "We will read in the dummy data to get the likelihood. Note that this table of synthetic data has been adjusted to make it more likely that older people have a longer time to discharge"
   ]
  },
  {
   "cell_type": "code",
   "execution_count": 9,
   "id": "fa56bc9b",
   "metadata": {},
   "outputs": [
    {
     "name": "stdout",
     "output_type": "stream",
     "text": [
      "Number of people discharged in 24 hours: 32\n",
      "Total number of people observed: 444\n"
     ]
    }
   ],
   "source": [
    "sqlite_engine = sa.create_engine('sqlite:///../../data/dummy.db')\n",
    "df = pd.read_sql_query(\"SELECT id, hours_to_discharge, department, age, pulse from discharges_age_adjusted\", sqlite_engine)\n",
    "\n",
    "# Let N be the number of patients observed\n",
    "N = df.shape[0]\n",
    "\n",
    "# Let X be the number of patients who were discharged in 24 hours\n",
    "X = df[df.hours_to_discharge <= 24].shape[0]\n",
    "print(\"Number of people discharged in 24 hours: \" + str(X))\n",
    "print(\"Total number of people observed: \" + str(N))"
   ]
  },
  {
   "cell_type": "markdown",
   "id": "52c1c0ce",
   "metadata": {},
   "source": [
    "Let's group age into two categories (over 65 or not) and identify which ones were actually discharged in 24 hours. Then, cross-tabulating them:"
   ]
  },
  {
   "cell_type": "code",
   "execution_count": 10,
   "id": "773dbe59",
   "metadata": {},
   "outputs": [
    {
     "data": {
      "text/html": [
       "<div>\n",
       "<style scoped>\n",
       "    .dataframe tbody tr th:only-of-type {\n",
       "        vertical-align: middle;\n",
       "    }\n",
       "\n",
       "    .dataframe tbody tr th {\n",
       "        vertical-align: top;\n",
       "    }\n",
       "\n",
       "    .dataframe thead th {\n",
       "        text-align: right;\n",
       "    }\n",
       "</style>\n",
       "<table border=\"1\" class=\"dataframe\">\n",
       "  <thead>\n",
       "    <tr style=\"text-align: right;\">\n",
       "      <th></th>\n",
       "      <th>id</th>\n",
       "      <th>hours_to_discharge</th>\n",
       "      <th>department</th>\n",
       "      <th>age</th>\n",
       "      <th>pulse</th>\n",
       "    </tr>\n",
       "  </thead>\n",
       "  <tbody>\n",
       "    <tr>\n",
       "      <th>0</th>\n",
       "      <td>0</td>\n",
       "      <td>36.000000</td>\n",
       "      <td>UCH T07 SOUTH</td>\n",
       "      <td>35.0</td>\n",
       "      <td>78.0</td>\n",
       "    </tr>\n",
       "    <tr>\n",
       "      <th>1</th>\n",
       "      <td>1</td>\n",
       "      <td>456.573401</td>\n",
       "      <td>UCH T14 NORTH TRAUMA</td>\n",
       "      <td>60.0</td>\n",
       "      <td>98.0</td>\n",
       "    </tr>\n",
       "    <tr>\n",
       "      <th>2</th>\n",
       "      <td>2</td>\n",
       "      <td>NaN</td>\n",
       "      <td>UCH T10 SOUTH (T10S)</td>\n",
       "      <td>70.0</td>\n",
       "      <td>76.0</td>\n",
       "    </tr>\n",
       "    <tr>\n",
       "      <th>3</th>\n",
       "      <td>3</td>\n",
       "      <td>17.000000</td>\n",
       "      <td>UCH T11 SOUTH (T11S)</td>\n",
       "      <td>55.0</td>\n",
       "      <td>104.0</td>\n",
       "    </tr>\n",
       "    <tr>\n",
       "      <th>4</th>\n",
       "      <td>4</td>\n",
       "      <td>NaN</td>\n",
       "      <td>UCH T01 ACUTE MEDICAL</td>\n",
       "      <td>35.0</td>\n",
       "      <td>68.0</td>\n",
       "    </tr>\n",
       "    <tr>\n",
       "      <th>...</th>\n",
       "      <td>...</td>\n",
       "      <td>...</td>\n",
       "      <td>...</td>\n",
       "      <td>...</td>\n",
       "      <td>...</td>\n",
       "    </tr>\n",
       "    <tr>\n",
       "      <th>439</th>\n",
       "      <td>439</td>\n",
       "      <td>NaN</td>\n",
       "      <td>UCH T06 HEAD (T06H)</td>\n",
       "      <td>70.0</td>\n",
       "      <td>74.0</td>\n",
       "    </tr>\n",
       "    <tr>\n",
       "      <th>440</th>\n",
       "      <td>440</td>\n",
       "      <td>NaN</td>\n",
       "      <td>UCH SDEC</td>\n",
       "      <td>35.0</td>\n",
       "      <td>76.0</td>\n",
       "    </tr>\n",
       "    <tr>\n",
       "      <th>441</th>\n",
       "      <td>441</td>\n",
       "      <td>213.938412</td>\n",
       "      <td>UCH T16 SOUTH WINTER</td>\n",
       "      <td>65.0</td>\n",
       "      <td>NaN</td>\n",
       "    </tr>\n",
       "    <tr>\n",
       "      <th>442</th>\n",
       "      <td>442</td>\n",
       "      <td>346.482699</td>\n",
       "      <td>UCH T12 NORTH (T12N)</td>\n",
       "      <td>60.0</td>\n",
       "      <td>55.0</td>\n",
       "    </tr>\n",
       "    <tr>\n",
       "      <th>443</th>\n",
       "      <td>443</td>\n",
       "      <td>66.000000</td>\n",
       "      <td>UCH T06 HEAD (T06H)</td>\n",
       "      <td>25.0</td>\n",
       "      <td>105.0</td>\n",
       "    </tr>\n",
       "  </tbody>\n",
       "</table>\n",
       "<p>444 rows × 5 columns</p>\n",
       "</div>"
      ],
      "text/plain": [
       "      id  hours_to_discharge             department   age  pulse\n",
       "0      0           36.000000          UCH T07 SOUTH  35.0   78.0\n",
       "1      1          456.573401   UCH T14 NORTH TRAUMA  60.0   98.0\n",
       "2      2                 NaN   UCH T10 SOUTH (T10S)  70.0   76.0\n",
       "3      3           17.000000   UCH T11 SOUTH (T11S)  55.0  104.0\n",
       "4      4                 NaN  UCH T01 ACUTE MEDICAL  35.0   68.0\n",
       "..   ...                 ...                    ...   ...    ...\n",
       "439  439                 NaN    UCH T06 HEAD (T06H)  70.0   74.0\n",
       "440  440                 NaN               UCH SDEC  35.0   76.0\n",
       "441  441          213.938412   UCH T16 SOUTH WINTER  65.0    NaN\n",
       "442  442          346.482699   UCH T12 NORTH (T12N)  60.0   55.0\n",
       "443  443           66.000000    UCH T06 HEAD (T06H)  25.0  105.0\n",
       "\n",
       "[444 rows x 5 columns]"
      ]
     },
     "execution_count": 10,
     "metadata": {},
     "output_type": "execute_result"
    }
   ],
   "source": [
    "df"
   ]
  },
  {
   "cell_type": "code",
   "execution_count": 11,
   "id": "69bd5ac5",
   "metadata": {},
   "outputs": [
    {
     "data": {
      "text/html": [
       "<div>\n",
       "<style scoped>\n",
       "    .dataframe tbody tr th:only-of-type {\n",
       "        vertical-align: middle;\n",
       "    }\n",
       "\n",
       "    .dataframe tbody tr th {\n",
       "        vertical-align: top;\n",
       "    }\n",
       "\n",
       "    .dataframe thead th {\n",
       "        text-align: right;\n",
       "    }\n",
       "</style>\n",
       "<table border=\"1\" class=\"dataframe\">\n",
       "  <thead>\n",
       "    <tr style=\"text-align: right;\">\n",
       "      <th>dischargein24</th>\n",
       "      <th>False</th>\n",
       "      <th>True</th>\n",
       "    </tr>\n",
       "    <tr>\n",
       "      <th>agegp</th>\n",
       "      <th></th>\n",
       "      <th></th>\n",
       "    </tr>\n",
       "  </thead>\n",
       "  <tbody>\n",
       "    <tr>\n",
       "      <th>gt65</th>\n",
       "      <td>179</td>\n",
       "      <td>6</td>\n",
       "    </tr>\n",
       "    <tr>\n",
       "      <th>lte65</th>\n",
       "      <td>233</td>\n",
       "      <td>26</td>\n",
       "    </tr>\n",
       "  </tbody>\n",
       "</table>\n",
       "</div>"
      ],
      "text/plain": [
       "dischargein24  False  True \n",
       "agegp                      \n",
       "gt65             179      6\n",
       "lte65            233     26"
      ]
     },
     "execution_count": 11,
     "metadata": {},
     "output_type": "execute_result"
    }
   ],
   "source": [
    "df['agegp'] = df['age'].apply(lambda x:  'gt65' if x>65 else 'lte65')\n",
    "df['dischargein24'] = df.hours_to_discharge <= 24\n",
    "pivot = df.groupby('agegp')['dischargein24'].value_counts().to_frame().rename(columns = {'dischargein24':'N'})\n",
    "pivot.reset_index().pivot(columns = 'dischargein24', index = 'agegp', values = 'N')\n",
    "\n"
   ]
  },
  {
   "cell_type": "markdown",
   "id": "e8259999",
   "metadata": {},
   "source": [
    "## Posterior"
   ]
  },
  {
   "cell_type": "markdown",
   "id": "77f13cb9",
   "metadata": {},
   "source": [
    "Let's say we are looking at one patient of the 444 and this person is over 65. We want to know whether this person will be discharged in the next 24 hours. These posterior odds are given by this equation: \n",
    "\n",
    "$ odds(discharge | over65 ) =odds (discharge) * \\frac{P( over65 | discharge)}{P( over65 | not discharged)}$\n",
    "\n"
   ]
  },
  {
   "cell_type": "code",
   "execution_count": 153,
   "id": "a7d88010",
   "metadata": {},
   "outputs": [
    {
     "name": "stdout",
     "output_type": "stream",
     "text": [
      "0.1875\n"
     ]
    }
   ],
   "source": [
    "likelihood_gt65_given_dis = df[(df.dischargein24) & (df.agegp == 'gt65')].shape[0] / df[df.dischargein24].shape[0]\n",
    "print(likelihood_gt65_given_dis)"
   ]
  },
  {
   "cell_type": "markdown",
   "id": "9a73de8a",
   "metadata": {},
   "source": [
    "$ P( over65 | not discharged)$ is:"
   ]
  },
  {
   "cell_type": "code",
   "execution_count": 13,
   "id": "3b071004",
   "metadata": {},
   "outputs": [
    {
     "name": "stdout",
     "output_type": "stream",
     "text": [
      "0.4344660194174757\n"
     ]
    }
   ],
   "source": [
    "likelihood_lte65_given_dis = df[~(df.dischargein24) & (df.agegp == 'gt65')].shape[0] / df[~df.dischargein24].shape[0]\n",
    "print(likelihood_lte65_given_dis)"
   ]
  },
  {
   "cell_type": "markdown",
   "id": "29988b8b",
   "metadata": {},
   "source": [
    "Likelihood ratio, given by $  \\frac{P( over65 | discharge)}{P( over65 | not discharged)}$ is:"
   ]
  },
  {
   "cell_type": "code",
   "execution_count": 155,
   "id": "345cde94",
   "metadata": {},
   "outputs": [
    {
     "data": {
      "text/plain": [
       "0.43156424581005587"
      ]
     },
     "execution_count": 155,
     "metadata": {},
     "output_type": "execute_result"
    }
   ],
   "source": [
    "likelihood_gt65_given_dis/likelihood_lte65_given_dis"
   ]
  },
  {
   "cell_type": "code",
   "execution_count": 157,
   "metadata": {},
   "outputs": [
    {
     "name": "stdout",
     "output_type": "stream",
     "text": [
      "0.43156424581005587\n"
     ]
    },
    {
     "data": {
      "text/plain": [
       "0.053945530726256984"
      ]
     },
     "execution_count": 157,
     "metadata": {},
     "output_type": "execute_result"
    }
   ],
   "source": [
    "prior_odds = 1/8\n",
    "likelihood_ratio = likelihood_gt65_given_dis/likelihood_lte65_given_dis\n",
    "print(likelihood_ratio)\n",
    "post_odds = prior_odds * likelihood_ratio\n",
    "post_odds"
   ]
  },
  {
   "cell_type": "markdown",
   "id": "86c13e03",
   "metadata": {},
   "source": [
    "The posterior odds, given a patient is over 65 are substantially reduced "
   ]
  },
  {
   "cell_type": "markdown",
   "id": "bd16cd71",
   "metadata": {},
   "source": [
    "## Using Allen Downey functions"
   ]
  },
  {
   "cell_type": "code",
   "execution_count": 141,
   "id": "fd2d3454",
   "metadata": {},
   "outputs": [
    {
     "data": {
      "text/html": [
       "<div>\n",
       "<style scoped>\n",
       "    .dataframe tbody tr th:only-of-type {\n",
       "        vertical-align: middle;\n",
       "    }\n",
       "\n",
       "    .dataframe tbody tr th {\n",
       "        vertical-align: top;\n",
       "    }\n",
       "\n",
       "    .dataframe thead th {\n",
       "        text-align: right;\n",
       "    }\n",
       "</style>\n",
       "<table border=\"1\" class=\"dataframe\">\n",
       "  <thead>\n",
       "    <tr style=\"text-align: right;\">\n",
       "      <th></th>\n",
       "      <th>odds</th>\n",
       "      <th>prob</th>\n",
       "    </tr>\n",
       "  </thead>\n",
       "  <tbody>\n",
       "    <tr>\n",
       "      <th>lte65</th>\n",
       "      <td>0.125</td>\n",
       "      <td>0.111111</td>\n",
       "    </tr>\n",
       "    <tr>\n",
       "      <th>gt65</th>\n",
       "      <td>0.125</td>\n",
       "      <td>0.111111</td>\n",
       "    </tr>\n",
       "  </tbody>\n",
       "</table>\n",
       "</div>"
      ],
      "text/plain": [
       "        odds      prob\n",
       "lte65  0.125  0.111111\n",
       "gt65   0.125  0.111111"
      ]
     },
     "execution_count": 141,
     "metadata": {},
     "output_type": "execute_result"
    }
   ],
   "source": [
    "bindex = ['prior']\n",
    "table = pd.DataFrame(index = index)\n",
    "table['odds'] = 1/8\n",
    "table['prob'] = prob(table['odds'])\n",
    "table\n",
    "\n",
    "table"
   ]
  },
  {
   "cell_type": "code",
   "execution_count": 142,
   "id": "d713ac04",
   "metadata": {},
   "outputs": [
    {
     "data": {
      "text/html": [
       "<div>\n",
       "<style scoped>\n",
       "    .dataframe tbody tr th:only-of-type {\n",
       "        vertical-align: middle;\n",
       "    }\n",
       "\n",
       "    .dataframe tbody tr th {\n",
       "        vertical-align: top;\n",
       "    }\n",
       "\n",
       "    .dataframe thead th {\n",
       "        text-align: right;\n",
       "    }\n",
       "</style>\n",
       "<table border=\"1\" class=\"dataframe\">\n",
       "  <thead>\n",
       "    <tr style=\"text-align: right;\">\n",
       "      <th></th>\n",
       "      <th>odds</th>\n",
       "      <th>prob</th>\n",
       "    </tr>\n",
       "  </thead>\n",
       "  <tbody>\n",
       "    <tr>\n",
       "      <th>lte65</th>\n",
       "      <td>0.125</td>\n",
       "      <td>0.111111</td>\n",
       "    </tr>\n",
       "    <tr>\n",
       "      <th>gt65</th>\n",
       "      <td>0.125</td>\n",
       "      <td>0.111111</td>\n",
       "    </tr>\n",
       "  </tbody>\n",
       "</table>\n",
       "</div>"
      ],
      "text/plain": [
       "        odds      prob\n",
       "lte65  0.125  0.111111\n",
       "gt65   0.125  0.111111"
      ]
     },
     "execution_count": 142,
     "metadata": {},
     "output_type": "execute_result"
    }
   ],
   "source": [
    "index = ['lte65', 'gt65']\n",
    "table = pd.DataFrame(index = index)\n",
    "table['odds'] = 1/8\n",
    "table['prob'] = prob(table['odds'])\n",
    "table\n",
    "\n"
   ]
  },
  {
   "cell_type": "markdown",
   "id": "e972b291",
   "metadata": {},
   "source": [
    "Adding the likelihood we computed earlier:"
   ]
  },
  {
   "cell_type": "markdown",
   "id": "76ecccb8",
   "metadata": {},
   "source": [
    "Calculating the posterior odds for both groups"
   ]
  },
  {
   "cell_type": "code",
   "execution_count": 143,
   "id": "125e9f92",
   "metadata": {},
   "outputs": [],
   "source": [
    "table_ = table.reset_index().rename(columns= {'index': 'agegp'})\n"
   ]
  },
  {
   "cell_type": "code",
   "execution_count": 144,
   "id": "4a1d58a5",
   "metadata": {},
   "outputs": [
    {
     "data": {
      "text/html": [
       "<div>\n",
       "<style scoped>\n",
       "    .dataframe tbody tr th:only-of-type {\n",
       "        vertical-align: middle;\n",
       "    }\n",
       "\n",
       "    .dataframe tbody tr th {\n",
       "        vertical-align: top;\n",
       "    }\n",
       "\n",
       "    .dataframe thead th {\n",
       "        text-align: right;\n",
       "    }\n",
       "</style>\n",
       "<table border=\"1\" class=\"dataframe\">\n",
       "  <thead>\n",
       "    <tr style=\"text-align: right;\">\n",
       "      <th></th>\n",
       "      <th>agegp</th>\n",
       "      <th>odds</th>\n",
       "      <th>prob</th>\n",
       "    </tr>\n",
       "  </thead>\n",
       "  <tbody>\n",
       "    <tr>\n",
       "      <th>0</th>\n",
       "      <td>lte65</td>\n",
       "      <td>0.125</td>\n",
       "      <td>0.111111</td>\n",
       "    </tr>\n",
       "    <tr>\n",
       "      <th>1</th>\n",
       "      <td>gt65</td>\n",
       "      <td>0.125</td>\n",
       "      <td>0.111111</td>\n",
       "    </tr>\n",
       "  </tbody>\n",
       "</table>\n",
       "</div>"
      ],
      "text/plain": [
       "   agegp   odds      prob\n",
       "0  lte65  0.125  0.111111\n",
       "1   gt65  0.125  0.111111"
      ]
     },
     "execution_count": 144,
     "metadata": {},
     "output_type": "execute_result"
    }
   ],
   "source": [
    "table_"
   ]
  },
  {
   "cell_type": "code",
   "execution_count": 158,
   "metadata": {},
   "outputs": [],
   "source": [
    "def get_lr(agegp_):\n",
    "    l_dis = df[(df.dischargein24) & (df.agegp == agegp_)].shape[0] / df[df.dischargein24].shape[0]\n",
    "    l_not_dis = df[~(df.dischargein24) & (df.agegp == agegp_)].shape[0] / df[~df.dischargein24].shape[0]\n",
    "    lr = l_dis/l_not_dis\n",
    "    return lr\n",
    "\n",
    "table_['likelihood ratio'] = table_['agegp'].apply(lambda x: get_lr(x))\n",
    "table_['posterior odds'] = table_['likelihood ratio']*table_['odds']\n",
    "table_['posterior prob'] = prob(table_['posterior odds'])"
   ]
  },
  {
   "cell_type": "code",
   "execution_count": 159,
   "id": "30d2035c",
   "metadata": {},
   "outputs": [
    {
     "data": {
      "text/html": [
       "<div>\n",
       "<style scoped>\n",
       "    .dataframe tbody tr th:only-of-type {\n",
       "        vertical-align: middle;\n",
       "    }\n",
       "\n",
       "    .dataframe tbody tr th {\n",
       "        vertical-align: top;\n",
       "    }\n",
       "\n",
       "    .dataframe thead th {\n",
       "        text-align: right;\n",
       "    }\n",
       "</style>\n",
       "<table border=\"1\" class=\"dataframe\">\n",
       "  <thead>\n",
       "    <tr style=\"text-align: right;\">\n",
       "      <th></th>\n",
       "      <th>agegp</th>\n",
       "      <th>odds</th>\n",
       "      <th>prob</th>\n",
       "      <th>likelihood ratio</th>\n",
       "      <th>posterior odds</th>\n",
       "      <th>posterior prob</th>\n",
       "    </tr>\n",
       "  </thead>\n",
       "  <tbody>\n",
       "    <tr>\n",
       "      <th>0</th>\n",
       "      <td>lte65</td>\n",
       "      <td>0.125</td>\n",
       "      <td>0.111111</td>\n",
       "      <td>1.436695</td>\n",
       "      <td>0.179587</td>\n",
       "      <td>0.152246</td>\n",
       "    </tr>\n",
       "    <tr>\n",
       "      <th>1</th>\n",
       "      <td>gt65</td>\n",
       "      <td>0.125</td>\n",
       "      <td>0.111111</td>\n",
       "      <td>0.431564</td>\n",
       "      <td>0.053946</td>\n",
       "      <td>0.051184</td>\n",
       "    </tr>\n",
       "  </tbody>\n",
       "</table>\n",
       "</div>"
      ],
      "text/plain": [
       "   agegp   odds      prob  likelihood ratio  posterior odds  posterior prob\n",
       "0  lte65  0.125  0.111111          1.436695        0.179587        0.152246\n",
       "1   gt65  0.125  0.111111          0.431564        0.053946        0.051184"
      ]
     },
     "execution_count": 159,
     "metadata": {},
     "output_type": "execute_result"
    }
   ],
   "source": [
    "table_"
   ]
  },
  {
   "cell_type": "code",
   "execution_count": 130,
   "id": "f51059d3",
   "metadata": {},
   "outputs": [
    {
     "data": {
      "text/plain": [
       "1.4366952789699572"
      ]
     },
     "execution_count": 130,
     "metadata": {},
     "output_type": "execute_result"
    }
   ],
   "source": [
    "agegp_ = 'lte65'\n",
    "l_dis = df[(df.dischargein24) & (df.agegp == agegp_)].shape[0] / df[df.dischargein24].shape[0]\n",
    "l_not_dis = df[~(df.dischargein24) & (df.agegp == agegp_)].shape[0] / df[~df.dischargein24].shape[0]\n",
    "lr = l_dis/l_not_dis\n",
    "lr"
   ]
  },
  {
   "cell_type": "markdown",
   "id": "bf59f9cf",
   "metadata": {},
   "source": [
    "## Now try a logistic regression\n",
    "\n",
    "The posterior odds were expressed in this equation:\n",
    "\n",
    "$ odds(discharge | over65 ) =odds (discharge) * \\frac{P( over65 | discharge)}{P( over65 | not discharged)}$\n",
    "\n",
    "$ \\log odds(discharge | over65 ) = \\log odds (discharge) + \\log \\frac{P( over65 | discharge)}{P( over65 | not discharged)}$\n"
   ]
  },
  {
   "cell_type": "code",
   "execution_count": 27,
   "id": "0b63a0bf",
   "metadata": {},
   "outputs": [],
   "source": [
    "# from Allen Downey github here https://github.com/AllenDowney/ThinkBayes2/blob/master/soln/utils.py\n",
    "def decorate(**options):\n",
    "    \"\"\"Decorate the current axes.\n",
    "    \n",
    "    Call decorate with keyword arguments like\n",
    "    decorate(title='Title',\n",
    "             xlabel='x',\n",
    "             ylabel='y')\n",
    "             \n",
    "    The keyword arguments can be any of the axis properties\n",
    "    https://matplotlib.org/api/axes_api.html\n",
    "    \"\"\"\n",
    "    ax = plt.gca()\n",
    "    ax.set(**options)\n",
    "    \n",
    "    handles, labels = ax.get_legend_handles_labels()\n",
    "    if handles:\n",
    "        ax.legend(handles, labels)\n",
    "\n",
    "    plt.tight_layout()\n",
    "\n",
    "# modified from https://allendowney.github.io/ThinkBayes2/chap16.html\n",
    "    \n",
    "def plot_data(data):\n",
    "    \"\"\"Plot damage as a function of temperature.\n",
    "    \n",
    "    data: DataFrame\n",
    "    \"\"\"\n",
    "    plt.plot(data['age'], data['dischargein24'], 'o', \n",
    "             label='data', color='C0', alpha=0.4)\n",
    "\n",
    "    decorate(ylabel=\"Discharged in 24 hours\",\n",
    "         xlabel=\"Age\",\n",
    "         title=\"Age by probability\")"
   ]
  },
  {
   "cell_type": "code",
   "execution_count": 28,
   "id": "16458215",
   "metadata": {},
   "outputs": [
    {
     "data": {
      "image/png": "[encoded data removed]",
      "text/plain": [
       "<Figure size 640x480 with 1 Axes>"
      ]
     },
     "metadata": {},
     "output_type": "display_data"
    }
   ],
   "source": [
    "plot_data(df)"
   ]
  },
  {
   "cell_type": "code",
   "execution_count": 20,
   "id": "c20ad55b",
   "metadata": {},
   "outputs": [
    {
     "data": {
      "image/png": "[encoded data removed]",
      "text/plain": [
       "<Figure size 640x480 with 1 Axes>"
      ]
     },
     "metadata": {},
     "output_type": "display_data"
    }
   ],
   "source": [
    "import matplotlib.pyplot as plt\n",
    "\n",
    "fig, ax = plt.subplots(1, 1)\n",
    "ax.plot(df['age'], df['dischargein24'], 'o', \n",
    "            label='data', color='C0', alpha=0.4)\n",
    "\n",
    "ax.set_ylabel('Discharged in 24 hours')\n",
    "ax.set_xlabel('Age')\n",
    "\n",
    "plt.show()\n",
    "\n",
    "\n"
   ]
  },
  {
   "cell_type": "markdown",
   "id": "ce2f8a5e",
   "metadata": {},
   "source": [
    "Based on this, there does not appear to be much of a relationship between age and probability of discharge. Nonetheless, let's assume this probability follows a logistic model. \n",
    "\n",
    "$ \\log odds(discharge | over65 ) = \\beta_{0} + \\beta_{1} age $"
   ]
  },
  {
   "cell_type": "code",
   "execution_count": 14,
   "id": "6692aab4",
   "metadata": {},
   "outputs": [
    {
     "data": {
      "text/plain": [
       "Intercept   -2.659918\n",
       "x           -0.021289\n",
       "dtype: float64"
      ]
     },
     "execution_count": 14,
     "metadata": {},
     "output_type": "execute_result"
    }
   ],
   "source": [
    "age_offset = df['age'].mean().round()\n",
    "df['x'] = df['age'] - age_offset\n",
    "df['y'] = df['dischargein24'].apply(lambda x: 1 if x else 0)\n",
    "\n",
    "import statsmodels.api as sm\n",
    "import statsmodels.formula.api as smf\n",
    "\n",
    "formula = 'y ~ x'\n",
    "results = smf.logit(formula, data=df[['x', 'y']]).fit(disp=False)\n",
    "results.params"
   ]
  },
  {
   "cell_type": "markdown",
   "id": "54fd85a1",
   "metadata": {},
   "source": [
    "We can use these parameters to compute probabilities for a range of ages. "
   ]
  },
  {
   "cell_type": "code",
   "execution_count": 15,
   "id": "db34ba7a",
   "metadata": {},
   "outputs": [],
   "source": [
    "inter = results.params['Intercept']\n",
    "slope = results.params['x']\n",
    "xs = np.arange(53, 83) - age_offset"
   ]
  },
  {
   "cell_type": "code",
   "execution_count": 16,
   "id": "80877ce2",
   "metadata": {},
   "outputs": [],
   "source": [
    "log_odds = inter + slope * xs"
   ]
  },
  {
   "cell_type": "markdown",
   "id": "f3547e3d",
   "metadata": {},
   "source": [
    "And then convert to probabilities"
   ]
  },
  {
   "cell_type": "code",
   "execution_count": 17,
   "id": "2dd67e23",
   "metadata": {},
   "outputs": [],
   "source": [
    "odds = np.exp(log_odds)\n",
    "ps = odds / (odds + 1)"
   ]
  },
  {
   "cell_type": "code",
   "execution_count": 18,
   "id": "4674c095",
   "metadata": {},
   "outputs": [],
   "source": [
    "from scipy.special import expit\n",
    "\n",
    "ps = expit(inter + slope * xs)"
   ]
  },
  {
   "cell_type": "code",
   "execution_count": null,
   "id": "09fdec7a",
   "metadata": {},
   "outputs": [],
   "source": [
    "fig, ax = plt.subplots(1, 1)\n",
    "ax.plot(df['age'], df['dischargein24'], 'o', \n",
    "            label='data', color='C0', alpha=0.4)\n",
    "\n",
    "ax.set_ylabel('Discharged in 24 hours')\n",
    "ax.set_xlabel('Age')\n",
    "\n",
    "plt.show()"
   ]
  },
  {
   "cell_type": "markdown",
   "id": "65a5b8cb",
   "metadata": {},
   "source": []
  }
 ],
 "metadata": {
  "kernelspec": {
   "display_name": "Python 3.9.13 ('hystakes')",
   "language": "python",
   "name": "python3"
  },
  "language_info": {
   "codemirror_mode": {
    "name": "ipython",
    "version": 3
   },
   "file_extension": ".py",
   "mimetype": "text/x-python",
   "name": "python",
   "nbconvert_exporter": "python",
   "pygments_lexer": "ipython3",
   "version": "3.9.13"
  },
  "vscode": {
   "interpreter": {
    "hash": "777d76e45dee6605b55d3e20abadc559ebb627ce5062984b1aa5036d21f44d79"
   }
  }
 },
 "nbformat": 4,
 "nbformat_minor": 5
}
