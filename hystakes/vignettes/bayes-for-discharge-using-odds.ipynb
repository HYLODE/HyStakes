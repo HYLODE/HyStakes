{
 "cells": [
  {
   "cell_type": "markdown",
   "id": "44ebd930-b2b4-4a05-96e6-450296a4e229",
   "metadata": {},
   "source": [
    "# Prepare synthetic data\n",
    "\n",
    "- Zella King\n",
    "- 2022-09-30\n",
    "\n",
    "Our goal is to develop a Bayesian model to predict a patient's probability of being discharged in the next 24 hours. \n",
    "\n",
    "Here are three initial steps I think we need to do: \n",
    "\n",
    " 1. Decide on our \"prior\" probability and express it as a distribution \n",
    " 2. Identify some data we can use for the \"likelihood\". This can be synthetic to start with\n",
    " 3. Develop a posterior distribution from the prior and likelihood. \n",
    "\n",
    " In this example I'm using terminology and  methods from here: https://allendowney.github.io/ThinkBayes2/chap06.html"
   ]
  },
  {
   "cell_type": "code",
   "execution_count": 70,
   "id": "76896b08-547e-4b9e-965b-f6f91a862cb7",
   "metadata": {
    "execution": {
     "iopub.execute_input": "2022-09-11T22:36:58.995461Z",
     "iopub.status.busy": "2022-09-11T22:36:58.995084Z",
     "iopub.status.idle": "2022-09-11T22:37:01.107025Z",
     "shell.execute_reply": "2022-09-11T22:37:01.106152Z",
     "shell.execute_reply.started": "2022-09-11T22:36:58.995432Z"
    },
    "tags": []
   },
   "outputs": [],
   "source": [
    "import os\n",
    "from pathlib import Path\n",
    "\n",
    "import matplotlib.pyplot as plt\n",
    "import numpy as np\n",
    "import pandas as pd\n",
    "from scipy.stats import poisson, lognorm\n",
    "import sqlalchemy as sa\n",
    "\n",
    "from empiricaldist import Pmf"
   ]
  },
  {
   "cell_type": "code",
   "execution_count": 2,
   "id": "b0fb50f5-6782-4a8f-9485-c62ac927bde7",
   "metadata": {
    "execution": {
     "iopub.execute_input": "2022-09-11T22:37:01.111585Z",
     "iopub.status.busy": "2022-09-11T22:37:01.111291Z",
     "iopub.status.idle": "2022-09-11T22:37:01.129827Z",
     "shell.execute_reply": "2022-09-11T22:37:01.128798Z",
     "shell.execute_reply.started": "2022-09-11T22:37:01.111556Z"
    }
   },
   "outputs": [],
   "source": [
    "%matplotlib inline"
   ]
  },
  {
   "cell_type": "markdown",
   "id": "9cd08a2b",
   "metadata": {},
   "source": [
    "## Prior odds\n",
    "\n",
    "Previously we found, by interrogating some synthetic data, that a patient's probability of discharge in the next 24 hours was .1111. Let's call this a probability of 1/9\n",
    "\n",
    "We could express this as odds. For everyone 1 patient discharged, 8 remain. Therefore the odds of discharge are 1:8 or 0.125. \n"
   ]
  },
  {
   "cell_type": "code",
   "execution_count": 3,
   "id": "1bda99aa",
   "metadata": {},
   "outputs": [],
   "source": [
    "def odds(p):\n",
    "    return p / (1-p)\n",
    "\n",
    "odds (1/9)\n",
    "\n",
    "def prob(o):\n",
    "    return o / (o+1)"
   ]
  },
  {
   "cell_type": "markdown",
   "id": "0776883d",
   "metadata": {},
   "source": [
    "## Likelihood\n",
    "\n",
    "\n",
    "In probability form, Bayes theorem is this:\n",
    "\n",
    "$ P(H | D) =\\frac{P(H)P(D|H)}{P(D)}$\n",
    "\n",
    "It can be rewritten in terms of odd (Bayes rule).  We can express the odds in favour of discharge as:\n",
    "\n",
    "$ odds(discharge | data) =odds (discharge) * \\frac{P( data | discharge)}{P( data | not discharged)}$"
   ]
  },
  {
   "cell_type": "markdown",
   "id": "80faf7f3-4cc7-47d1-bff5-a3151bb7c29f",
   "metadata": {},
   "source": [
    "We will read in the dummy data to get the likelihood. Note that this table of synthetic data has been adjusted to make it more likely that older people have a longer time to discharge"
   ]
  },
  {
   "cell_type": "code",
   "execution_count": 9,
   "id": "fa56bc9b",
   "metadata": {},
   "outputs": [
    {
     "name": "stdout",
     "output_type": "stream",
     "text": [
      "Number of people discharged in 24 hours: 32\n",
      "Total number of people observed: 444\n"
     ]
    }
   ],
   "source": [
    "sqlite_engine = sa.create_engine('sqlite:///../../data/dummy.db')\n",
    "df = pd.read_sql_query(\"SELECT id, hours_to_discharge, department, age, pulse from discharges_age_adjusted\", sqlite_engine)\n",
    "\n",
    "# Let N be the number of patients observed\n",
    "N = df.shape[0]\n",
    "\n",
    "# Let X be the number of patients who were discharged in 24 hours\n",
    "X = df[df.hours_to_discharge <= 24].shape[0]\n",
    "print(\"Number of people discharged in 24 hours: \" + str(X))\n",
    "print(\"Total number of people observed: \" + str(N))"
   ]
  },
  {
   "cell_type": "markdown",
   "id": "52c1c0ce",
   "metadata": {},
   "source": [
    "Let's group age into two categories (over 65 or not) and identify which ones were actually discharged in 24 hours. Then, cross-tabulating them:"
   ]
  },
  {
   "cell_type": "code",
   "execution_count": 10,
   "id": "773dbe59",
   "metadata": {},
   "outputs": [
    {
     "data": {
      "text/html": [
       "<div>\n",
       "<style scoped>\n",
       "    .dataframe tbody tr th:only-of-type {\n",
       "        vertical-align: middle;\n",
       "    }\n",
       "\n",
       "    .dataframe tbody tr th {\n",
       "        vertical-align: top;\n",
       "    }\n",
       "\n",
       "    .dataframe thead th {\n",
       "        text-align: right;\n",
       "    }\n",
       "</style>\n",
       "<table border=\"1\" class=\"dataframe\">\n",
       "  <thead>\n",
       "    <tr style=\"text-align: right;\">\n",
       "      <th></th>\n",
       "      <th>id</th>\n",
       "      <th>hours_to_discharge</th>\n",
       "      <th>department</th>\n",
       "      <th>age</th>\n",
       "      <th>pulse</th>\n",
       "    </tr>\n",
       "  </thead>\n",
       "  <tbody>\n",
       "    <tr>\n",
       "      <th>0</th>\n",
       "      <td>0</td>\n",
       "      <td>36.000000</td>\n",
       "      <td>UCH T07 SOUTH</td>\n",
       "      <td>35.0</td>\n",
       "      <td>78.0</td>\n",
       "    </tr>\n",
       "    <tr>\n",
       "      <th>1</th>\n",
       "      <td>1</td>\n",
       "      <td>456.573401</td>\n",
       "      <td>UCH T14 NORTH TRAUMA</td>\n",
       "      <td>60.0</td>\n",
       "      <td>98.0</td>\n",
       "    </tr>\n",
       "    <tr>\n",
       "      <th>2</th>\n",
       "      <td>2</td>\n",
       "      <td>NaN</td>\n",
       "      <td>UCH T10 SOUTH (T10S)</td>\n",
       "      <td>70.0</td>\n",
       "      <td>76.0</td>\n",
       "    </tr>\n",
       "    <tr>\n",
       "      <th>3</th>\n",
       "      <td>3</td>\n",
       "      <td>17.000000</td>\n",
       "      <td>UCH T11 SOUTH (T11S)</td>\n",
       "      <td>55.0</td>\n",
       "      <td>104.0</td>\n",
       "    </tr>\n",
       "    <tr>\n",
       "      <th>4</th>\n",
       "      <td>4</td>\n",
       "      <td>NaN</td>\n",
       "      <td>UCH T01 ACUTE MEDICAL</td>\n",
       "      <td>35.0</td>\n",
       "      <td>68.0</td>\n",
       "    </tr>\n",
       "    <tr>\n",
       "      <th>...</th>\n",
       "      <td>...</td>\n",
       "      <td>...</td>\n",
       "      <td>...</td>\n",
       "      <td>...</td>\n",
       "      <td>...</td>\n",
       "    </tr>\n",
       "    <tr>\n",
       "      <th>439</th>\n",
       "      <td>439</td>\n",
       "      <td>NaN</td>\n",
       "      <td>UCH T06 HEAD (T06H)</td>\n",
       "      <td>70.0</td>\n",
       "      <td>74.0</td>\n",
       "    </tr>\n",
       "    <tr>\n",
       "      <th>440</th>\n",
       "      <td>440</td>\n",
       "      <td>NaN</td>\n",
       "      <td>UCH SDEC</td>\n",
       "      <td>35.0</td>\n",
       "      <td>76.0</td>\n",
       "    </tr>\n",
       "    <tr>\n",
       "      <th>441</th>\n",
       "      <td>441</td>\n",
       "      <td>213.938412</td>\n",
       "      <td>UCH T16 SOUTH WINTER</td>\n",
       "      <td>65.0</td>\n",
       "      <td>NaN</td>\n",
       "    </tr>\n",
       "    <tr>\n",
       "      <th>442</th>\n",
       "      <td>442</td>\n",
       "      <td>346.482699</td>\n",
       "      <td>UCH T12 NORTH (T12N)</td>\n",
       "      <td>60.0</td>\n",
       "      <td>55.0</td>\n",
       "    </tr>\n",
       "    <tr>\n",
       "      <th>443</th>\n",
       "      <td>443</td>\n",
       "      <td>66.000000</td>\n",
       "      <td>UCH T06 HEAD (T06H)</td>\n",
       "      <td>25.0</td>\n",
       "      <td>105.0</td>\n",
       "    </tr>\n",
       "  </tbody>\n",
       "</table>\n",
       "<p>444 rows × 5 columns</p>\n",
       "</div>"
      ],
      "text/plain": [
       "      id  hours_to_discharge             department   age  pulse\n",
       "0      0           36.000000          UCH T07 SOUTH  35.0   78.0\n",
       "1      1          456.573401   UCH T14 NORTH TRAUMA  60.0   98.0\n",
       "2      2                 NaN   UCH T10 SOUTH (T10S)  70.0   76.0\n",
       "3      3           17.000000   UCH T11 SOUTH (T11S)  55.0  104.0\n",
       "4      4                 NaN  UCH T01 ACUTE MEDICAL  35.0   68.0\n",
       "..   ...                 ...                    ...   ...    ...\n",
       "439  439                 NaN    UCH T06 HEAD (T06H)  70.0   74.0\n",
       "440  440                 NaN               UCH SDEC  35.0   76.0\n",
       "441  441          213.938412   UCH T16 SOUTH WINTER  65.0    NaN\n",
       "442  442          346.482699   UCH T12 NORTH (T12N)  60.0   55.0\n",
       "443  443           66.000000    UCH T06 HEAD (T06H)  25.0  105.0\n",
       "\n",
       "[444 rows x 5 columns]"
      ]
     },
     "execution_count": 10,
     "metadata": {},
     "output_type": "execute_result"
    }
   ],
   "source": [
    "df"
   ]
  },
  {
   "cell_type": "code",
   "execution_count": 11,
   "id": "69bd5ac5",
   "metadata": {},
   "outputs": [
    {
     "data": {
      "text/html": [
       "<div>\n",
       "<style scoped>\n",
       "    .dataframe tbody tr th:only-of-type {\n",
       "        vertical-align: middle;\n",
       "    }\n",
       "\n",
       "    .dataframe tbody tr th {\n",
       "        vertical-align: top;\n",
       "    }\n",
       "\n",
       "    .dataframe thead th {\n",
       "        text-align: right;\n",
       "    }\n",
       "</style>\n",
       "<table border=\"1\" class=\"dataframe\">\n",
       "  <thead>\n",
       "    <tr style=\"text-align: right;\">\n",
       "      <th>dischargein24</th>\n",
       "      <th>False</th>\n",
       "      <th>True</th>\n",
       "    </tr>\n",
       "    <tr>\n",
       "      <th>agegp</th>\n",
       "      <th></th>\n",
       "      <th></th>\n",
       "    </tr>\n",
       "  </thead>\n",
       "  <tbody>\n",
       "    <tr>\n",
       "      <th>gt65</th>\n",
       "      <td>179</td>\n",
       "      <td>6</td>\n",
       "    </tr>\n",
       "    <tr>\n",
       "      <th>lte65</th>\n",
       "      <td>233</td>\n",
       "      <td>26</td>\n",
       "    </tr>\n",
       "  </tbody>\n",
       "</table>\n",
       "</div>"
      ],
      "text/plain": [
       "dischargein24  False  True \n",
       "agegp                      \n",
       "gt65             179      6\n",
       "lte65            233     26"
      ]
     },
     "execution_count": 11,
     "metadata": {},
     "output_type": "execute_result"
    }
   ],
   "source": [
    "df['agegp'] = df['age'].apply(lambda x:  'gt65' if x>65 else 'lte65')\n",
    "df['dischargein24'] = df.hours_to_discharge <= 24\n",
    "pivot = df.groupby('agegp')['dischargein24'].value_counts().to_frame().rename(columns = {'dischargein24':'N'})\n",
    "pivot.reset_index().pivot(columns = 'dischargein24', index = 'agegp', values = 'N')\n",
    "\n"
   ]
  },
  {
   "cell_type": "markdown",
   "id": "e8259999",
   "metadata": {},
   "source": [
    "## Posterior"
   ]
  },
  {
   "cell_type": "markdown",
   "id": "77f13cb9",
   "metadata": {},
   "source": [
    "Let's say we are looking at one patient of the 444 and this person is over 65. We want to know whether this person will be discharged in the next 24 hours. These posterior odds are given by this equation: \n",
    "\n",
    "$ odds(discharge | over65 ) =odds (discharge) * \\frac{P( over65 | discharge)}{P( over65 | not discharged)}$\n",
    "\n"
   ]
  },
  {
   "cell_type": "code",
   "execution_count": 153,
   "id": "a7d88010",
   "metadata": {},
   "outputs": [
    {
     "name": "stdout",
     "output_type": "stream",
     "text": [
      "0.1875\n"
     ]
    }
   ],
   "source": [
    "likelihood_gt65_given_dis = df[(df.dischargein24) & (df.agegp == 'gt65')].shape[0] / df[df.dischargein24].shape[0]\n",
    "print(likelihood_gt65_given_dis)"
   ]
  },
  {
   "cell_type": "markdown",
   "id": "9a73de8a",
   "metadata": {},
   "source": [
    "$ P( over65 | not discharged)$ is:"
   ]
  },
  {
   "cell_type": "code",
   "execution_count": 13,
   "id": "3b071004",
   "metadata": {},
   "outputs": [
    {
     "name": "stdout",
     "output_type": "stream",
     "text": [
      "0.4344660194174757\n"
     ]
    }
   ],
   "source": [
    "likelihood_lte65_given_dis = df[~(df.dischargein24) & (df.agegp == 'gt65')].shape[0] / df[~df.dischargein24].shape[0]\n",
    "print(likelihood_lte65_given_dis)"
   ]
  },
  {
   "cell_type": "markdown",
   "id": "29988b8b",
   "metadata": {},
   "source": [
    "Likelihood ratio, given by $  \\frac{P( over65 | discharge)}{P( over65 | not discharged)}$ is:"
   ]
  },
  {
   "cell_type": "code",
   "execution_count": 155,
   "id": "345cde94",
   "metadata": {},
   "outputs": [
    {
     "data": {
      "text/plain": [
       "0.43156424581005587"
      ]
     },
     "execution_count": 155,
     "metadata": {},
     "output_type": "execute_result"
    }
   ],
   "source": [
    "likelihood_gt65_given_dis/likelihood_lte65_given_dis"
   ]
  },
  {
   "cell_type": "code",
   "execution_count": 157,
   "metadata": {},
   "outputs": [
    {
     "name": "stdout",
     "output_type": "stream",
     "text": [
      "0.43156424581005587\n"
     ]
    },
    {
     "data": {
      "text/plain": [
       "0.053945530726256984"
      ]
     },
     "execution_count": 157,
     "metadata": {},
     "output_type": "execute_result"
    }
   ],
   "source": [
    "prior_odds = 1/8\n",
    "likelihood_ratio = likelihood_gt65_given_dis/likelihood_lte65_given_dis\n",
    "print(likelihood_ratio)\n",
    "post_odds = prior_odds * likelihood_ratio\n",
    "post_odds"
   ]
  },
  {
   "cell_type": "markdown",
   "id": "86c13e03",
   "metadata": {},
   "source": [
    "The posterior odds, given a patient is over 65 are substantially reduced "
   ]
  },
  {
   "cell_type": "markdown",
   "id": "bd16cd71",
   "metadata": {},
   "source": [
    "## Using Allen Downey functions"
   ]
  },
  {
   "cell_type": "code",
   "execution_count": 141,
   "id": "fd2d3454",
   "metadata": {},
   "outputs": [
    {
     "data": {
      "text/html": [
       "<div>\n",
       "<style scoped>\n",
       "    .dataframe tbody tr th:only-of-type {\n",
       "        vertical-align: middle;\n",
       "    }\n",
       "\n",
       "    .dataframe tbody tr th {\n",
       "        vertical-align: top;\n",
       "    }\n",
       "\n",
       "    .dataframe thead th {\n",
       "        text-align: right;\n",
       "    }\n",
       "</style>\n",
       "<table border=\"1\" class=\"dataframe\">\n",
       "  <thead>\n",
       "    <tr style=\"text-align: right;\">\n",
       "      <th></th>\n",
       "      <th>odds</th>\n",
       "      <th>prob</th>\n",
       "    </tr>\n",
       "  </thead>\n",
       "  <tbody>\n",
       "    <tr>\n",
       "      <th>lte65</th>\n",
       "      <td>0.125</td>\n",
       "      <td>0.111111</td>\n",
       "    </tr>\n",
       "    <tr>\n",
       "      <th>gt65</th>\n",
       "      <td>0.125</td>\n",
       "      <td>0.111111</td>\n",
       "    </tr>\n",
       "  </tbody>\n",
       "</table>\n",
       "</div>"
      ],
      "text/plain": [
       "        odds      prob\n",
       "lte65  0.125  0.111111\n",
       "gt65   0.125  0.111111"
      ]
     },
     "execution_count": 141,
     "metadata": {},
     "output_type": "execute_result"
    }
   ],
   "source": [
    "bindex = ['prior']\n",
    "table = pd.DataFrame(index = index)\n",
    "table['odds'] = 1/8\n",
    "table['prob'] = prob(table['odds'])\n",
    "table\n",
    "\n",
    "table"
   ]
  },
  {
   "cell_type": "code",
   "execution_count": 142,
   "id": "d713ac04",
   "metadata": {},
   "outputs": [
    {
     "data": {
      "text/html": [
       "<div>\n",
       "<style scoped>\n",
       "    .dataframe tbody tr th:only-of-type {\n",
       "        vertical-align: middle;\n",
       "    }\n",
       "\n",
       "    .dataframe tbody tr th {\n",
       "        vertical-align: top;\n",
       "    }\n",
       "\n",
       "    .dataframe thead th {\n",
       "        text-align: right;\n",
       "    }\n",
       "</style>\n",
       "<table border=\"1\" class=\"dataframe\">\n",
       "  <thead>\n",
       "    <tr style=\"text-align: right;\">\n",
       "      <th></th>\n",
       "      <th>odds</th>\n",
       "      <th>prob</th>\n",
       "    </tr>\n",
       "  </thead>\n",
       "  <tbody>\n",
       "    <tr>\n",
       "      <th>lte65</th>\n",
       "      <td>0.125</td>\n",
       "      <td>0.111111</td>\n",
       "    </tr>\n",
       "    <tr>\n",
       "      <th>gt65</th>\n",
       "      <td>0.125</td>\n",
       "      <td>0.111111</td>\n",
       "    </tr>\n",
       "  </tbody>\n",
       "</table>\n",
       "</div>"
      ],
      "text/plain": [
       "        odds      prob\n",
       "lte65  0.125  0.111111\n",
       "gt65   0.125  0.111111"
      ]
     },
     "execution_count": 142,
     "metadata": {},
     "output_type": "execute_result"
    }
   ],
   "source": [
    "index = ['lte65', 'gt65']\n",
    "table = pd.DataFrame(index = index)\n",
    "table['odds'] = 1/8\n",
    "table['prob'] = prob(table['odds'])\n",
    "table\n",
    "\n"
   ]
  },
  {
   "cell_type": "markdown",
   "id": "e972b291",
   "metadata": {},
   "source": [
    "Adding the likelihood we computed earlier:"
   ]
  },
  {
   "cell_type": "markdown",
   "id": "76ecccb8",
   "metadata": {},
   "source": [
    "Calculating the posterior odds for both groups"
   ]
  },
  {
   "cell_type": "code",
   "execution_count": 143,
   "id": "125e9f92",
   "metadata": {},
   "outputs": [],
   "source": [
    "table_ = table.reset_index().rename(columns= {'index': 'agegp'})\n"
   ]
  },
  {
   "cell_type": "code",
   "execution_count": 144,
   "id": "4a1d58a5",
   "metadata": {},
   "outputs": [
    {
     "data": {
      "text/html": [
       "<div>\n",
       "<style scoped>\n",
       "    .dataframe tbody tr th:only-of-type {\n",
       "        vertical-align: middle;\n",
       "    }\n",
       "\n",
       "    .dataframe tbody tr th {\n",
       "        vertical-align: top;\n",
       "    }\n",
       "\n",
       "    .dataframe thead th {\n",
       "        text-align: right;\n",
       "    }\n",
       "</style>\n",
       "<table border=\"1\" class=\"dataframe\">\n",
       "  <thead>\n",
       "    <tr style=\"text-align: right;\">\n",
       "      <th></th>\n",
       "      <th>agegp</th>\n",
       "      <th>odds</th>\n",
       "      <th>prob</th>\n",
       "    </tr>\n",
       "  </thead>\n",
       "  <tbody>\n",
       "    <tr>\n",
       "      <th>0</th>\n",
       "      <td>lte65</td>\n",
       "      <td>0.125</td>\n",
       "      <td>0.111111</td>\n",
       "    </tr>\n",
       "    <tr>\n",
       "      <th>1</th>\n",
       "      <td>gt65</td>\n",
       "      <td>0.125</td>\n",
       "      <td>0.111111</td>\n",
       "    </tr>\n",
       "  </tbody>\n",
       "</table>\n",
       "</div>"
      ],
      "text/plain": [
       "   agegp   odds      prob\n",
       "0  lte65  0.125  0.111111\n",
       "1   gt65  0.125  0.111111"
      ]
     },
     "execution_count": 144,
     "metadata": {},
     "output_type": "execute_result"
    }
   ],
   "source": [
    "table_"
   ]
  },
  {
   "cell_type": "code",
   "execution_count": 158,
   "metadata": {},
   "outputs": [],
   "source": [
    "def get_lr(agegp_):\n",
    "    l_dis = df[(df.dischargein24) & (df.agegp == agegp_)].shape[0] / df[df.dischargein24].shape[0]\n",
    "    l_not_dis = df[~(df.dischargein24) & (df.agegp == agegp_)].shape[0] / df[~df.dischargein24].shape[0]\n",
    "    lr = l_dis/l_not_dis\n",
    "    return lr\n",
    "\n",
    "table_['likelihood ratio'] = table_['agegp'].apply(lambda x: get_lr(x))\n",
    "table_['posterior odds'] = table_['likelihood ratio']*table_['odds']\n",
    "table_['posterior prob'] = prob(table_['posterior odds'])"
   ]
  },
  {
   "cell_type": "code",
   "execution_count": 159,
   "id": "30d2035c",
   "metadata": {},
   "outputs": [
    {
     "data": {
      "text/html": [
       "<div>\n",
       "<style scoped>\n",
       "    .dataframe tbody tr th:only-of-type {\n",
       "        vertical-align: middle;\n",
       "    }\n",
       "\n",
       "    .dataframe tbody tr th {\n",
       "        vertical-align: top;\n",
       "    }\n",
       "\n",
       "    .dataframe thead th {\n",
       "        text-align: right;\n",
       "    }\n",
       "</style>\n",
       "<table border=\"1\" class=\"dataframe\">\n",
       "  <thead>\n",
       "    <tr style=\"text-align: right;\">\n",
       "      <th></th>\n",
       "      <th>agegp</th>\n",
       "      <th>odds</th>\n",
       "      <th>prob</th>\n",
       "      <th>likelihood ratio</th>\n",
       "      <th>posterior odds</th>\n",
       "      <th>posterior prob</th>\n",
       "    </tr>\n",
       "  </thead>\n",
       "  <tbody>\n",
       "    <tr>\n",
       "      <th>0</th>\n",
       "      <td>lte65</td>\n",
       "      <td>0.125</td>\n",
       "      <td>0.111111</td>\n",
       "      <td>1.436695</td>\n",
       "      <td>0.179587</td>\n",
       "      <td>0.152246</td>\n",
       "    </tr>\n",
       "    <tr>\n",
       "      <th>1</th>\n",
       "      <td>gt65</td>\n",
       "      <td>0.125</td>\n",
       "      <td>0.111111</td>\n",
       "      <td>0.431564</td>\n",
       "      <td>0.053946</td>\n",
       "      <td>0.051184</td>\n",
       "    </tr>\n",
       "  </tbody>\n",
       "</table>\n",
       "</div>"
      ],
      "text/plain": [
       "   agegp   odds      prob  likelihood ratio  posterior odds  posterior prob\n",
       "0  lte65  0.125  0.111111          1.436695        0.179587        0.152246\n",
       "1   gt65  0.125  0.111111          0.431564        0.053946        0.051184"
      ]
     },
     "execution_count": 159,
     "metadata": {},
     "output_type": "execute_result"
    }
   ],
   "source": [
    "table_"
   ]
  },
  {
   "cell_type": "code",
   "execution_count": 130,
   "id": "f51059d3",
   "metadata": {},
   "outputs": [
    {
     "data": {
      "text/plain": [
       "1.4366952789699572"
      ]
     },
     "execution_count": 130,
     "metadata": {},
     "output_type": "execute_result"
    }
   ],
   "source": [
    "agegp_ = 'lte65'\n",
    "l_dis = df[(df.dischargein24) & (df.agegp == agegp_)].shape[0] / df[df.dischargein24].shape[0]\n",
    "l_not_dis = df[~(df.dischargein24) & (df.agegp == agegp_)].shape[0] / df[~df.dischargein24].shape[0]\n",
    "lr = l_dis/l_not_dis\n",
    "lr"
   ]
  },
  {
   "cell_type": "markdown",
   "id": "bf59f9cf",
   "metadata": {},
   "source": [
    "## Now try a logistic regression\n"
   ]
  },
  {
   "cell_type": "code",
   "execution_count": 69,
   "id": "0b63a0bf",
   "metadata": {},
   "outputs": [],
   "source": [
    "# from Allen Downey github here https://github.com/AllenDowney/ThinkBayes2/blob/master/soln/utils.py\n",
    "def decorate(**options):\n",
    "    \"\"\"Decorate the current axes.\n",
    "    \n",
    "    Call decorate with keyword arguments like\n",
    "    decorate(title='Title',\n",
    "             xlabel='x',\n",
    "             ylabel='y')\n",
    "             \n",
    "    The keyword arguments can be any of the axis properties\n",
    "    https://matplotlib.org/api/axes_api.html\n",
    "    \"\"\"\n",
    "    ax = plt.gca()\n",
    "    ax.set(**options)\n",
    "    \n",
    "    handles, labels = ax.get_legend_handles_labels()\n",
    "    if handles:\n",
    "        ax.legend(handles, labels)\n",
    "\n",
    "    plt.tight_layout()\n",
    "\n",
    "def make_uniform(qs, name=None, **options):\n",
    "    \"\"\"Make a Pmf that represents a uniform distribution.\n",
    "    \n",
    "    qs: quantities\n",
    "    name: string name for the quantities\n",
    "    options: passed to Pmf\n",
    "    \n",
    "    returns: Pmf\n",
    "    \"\"\"\n",
    "    pmf = Pmf(1.0, qs, **options)\n",
    "    pmf.normalize()\n",
    "    if name:\n",
    "        pmf.index.name = name\n",
    "    return pmf\n",
    "\n",
    "def make_joint(s1, s2):\n",
    "    \"\"\"Compute the outer product of two Series.\n",
    "    \n",
    "    First Series goes across the columns;\n",
    "    second goes down the rows.\n",
    "    \n",
    "    s1: Series\n",
    "    s2: Series\n",
    "    \n",
    "    return: DataFrame\n",
    "    \"\"\"\n",
    "    X, Y = np.meshgrid(s1, s2)\n",
    "    return pd.DataFrame(X*Y, columns=s1.index, index=s2.index)\n",
    "\n",
    "# modified from https://allendowney.github.io/ThinkBayes2/chap16.html\n",
    "    \n",
    "def plot_data(data):\n",
    "    \"\"\"Plot damage as a function of temperature.\n",
    "    \n",
    "    data: DataFrame\n",
    "    \"\"\"\n",
    "    plt.plot(data['age'], data['dischargein24'], 'o', \n",
    "             label='data', color='C0', alpha=0.4)\n",
    "\n",
    "    decorate(ylabel=\"Discharged in 24 hours\",\n",
    "         xlabel=\"Age\",\n",
    "         title=\"Age by probability\")\n",
    "\n",
    "def underride(d, **options):\n",
    "    \"\"\"Add key-value pairs to d only if key is not in d.\n",
    "    d: dictionary\n",
    "    options: keyword args to add to d\n",
    "    \"\"\"\n",
    "    for key, val in options.items():\n",
    "        d.setdefault(key, val)\n",
    "\n",
    "    return d\n",
    "\n",
    "\n",
    "def plot_contour(joint, **options):\n",
    "    \"\"\"Plot a joint distribution.\n",
    "    \n",
    "    joint: DataFrame representing a joint PMF\n",
    "    \"\"\"\n",
    "    low = joint.to_numpy().min()\n",
    "    high = joint.to_numpy().max()\n",
    "    levels = np.linspace(low, high, 6)\n",
    "    levels = levels[1:]\n",
    "    \n",
    "    underride(options, levels=levels, linewidths=1)\n",
    "    cs = plt.contour(joint.columns, joint.index, joint, **options)\n",
    "    decorate(xlabel=joint.columns.name, \n",
    "             ylabel=joint.index.name)\n",
    "    return cs\n",
    "\n",
    "\n",
    "def marginal(joint, axis):\n",
    "    \"\"\"Compute a marginal distribution.\n",
    "    \n",
    "    axis=0 returns the marginal distribution of the first variable\n",
    "    axis=1 returns the marginal distribution of the second variable\n",
    "    \n",
    "    joint: DataFrame representing a joint distribution\n",
    "    axis: int axis to sum along\n",
    "    \n",
    "    returns: Pmf\n",
    "    \"\"\"\n",
    "    return Pmf(joint.sum(axis=axis))"
   ]
  },
  {
   "cell_type": "code",
   "execution_count": 31,
   "id": "16458215",
   "metadata": {},
   "outputs": [
    {
     "data": {
      "image/png": "[encoded data removed]",
      "text/plain": [
       "<Figure size 640x480 with 1 Axes>"
      ]
     },
     "metadata": {},
     "output_type": "display_data"
    }
   ],
   "source": [
    "plot_data(df)"
   ]
  },
  {
   "cell_type": "markdown",
   "id": "ce2f8a5e",
   "metadata": {},
   "source": [
    "Based on this, there does not appear to be much of a relationship between age and probability of discharge. Nonetheless, let's assume this probability follows a logistic model. \n",
    "\n",
    "$ \\log odds(discharge | age ) = \\beta_{0} + \\beta_{1} age $\n",
    "\n"
   ]
  },
  {
   "cell_type": "markdown",
   "id": "25c9a47c",
   "metadata": {},
   "source": [
    "### Conventional logistic regression "
   ]
  },
  {
   "cell_type": "code",
   "execution_count": 14,
   "id": "6692aab4",
   "metadata": {},
   "outputs": [
    {
     "data": {
      "text/plain": [
       "Intercept   -2.659918\n",
       "x           -0.021289\n",
       "dtype: float64"
      ]
     },
     "execution_count": 14,
     "metadata": {},
     "output_type": "execute_result"
    }
   ],
   "source": [
    "age_offset = df['age'].mean().round()\n",
    "df['x'] = df['age'] - age_offset\n",
    "df['y'] = df['dischargein24'].apply(lambda x: 1 if x else 0)\n",
    "\n",
    "import statsmodels.api as sm\n",
    "import statsmodels.formula.api as smf\n",
    "\n",
    "formula = 'y ~ x'\n",
    "results = smf.logit(formula, data=df[['x', 'y']]).fit(disp=False)\n",
    "results.params"
   ]
  },
  {
   "cell_type": "markdown",
   "id": "c0223235",
   "metadata": {},
   "source": [
    "Checking, the exponential of the intercept to see the probability for age when it is at its median value. "
   ]
  },
  {
   "cell_type": "code",
   "execution_count": 48,
   "id": "3857c20b",
   "metadata": {},
   "outputs": [
    {
     "data": {
      "text/plain": [
       "0.06538034246242286"
      ]
     },
     "execution_count": 48,
     "metadata": {},
     "output_type": "execute_result"
    }
   ],
   "source": [
    "from scipy.special import expit\n",
    "expit(results.params['Intercept'])"
   ]
  },
  {
   "cell_type": "markdown",
   "id": "54fd85a1",
   "metadata": {},
   "source": [
    "We can use these parameters to compute probabilities for a range of ages. "
   ]
  },
  {
   "cell_type": "code",
   "execution_count": 45,
   "id": "db34ba7a",
   "metadata": {},
   "outputs": [],
   "source": [
    "inter = results.params['Intercept']\n",
    "slope = results.params['x']\n",
    "xs = np.arange(df.age.min(), df.age.max()) - age_offset\n",
    "log_odds = inter + slope * xs\n"
   ]
  },
  {
   "cell_type": "code",
   "execution_count": 38,
   "id": "80877ce2",
   "metadata": {},
   "outputs": [],
   "source": []
  },
  {
   "cell_type": "markdown",
   "id": "f3547e3d",
   "metadata": {},
   "source": [
    "And then convert to probabilities"
   ]
  },
  {
   "cell_type": "code",
   "execution_count": 47,
   "id": "2dd67e23",
   "metadata": {},
   "outputs": [
    {
     "data": {
      "text/plain": [
       "array([0.19720258, 0.19385397, 0.19054871, 0.18728672, 0.18406788,\n",
       "       0.18089204, 0.17775905, 0.17466876, 0.17162098, 0.16861552,\n",
       "       0.16565216, 0.16273069, 0.15985087, 0.15701246, 0.1542152 ,\n",
       "       0.15145882, 0.14874304, 0.14606757, 0.14343212, 0.14083638,\n",
       "       0.13828003, 0.13576275, 0.1332842 , 0.13084406, 0.12844196,\n",
       "       0.12607757, 0.12375053, 0.12146046, 0.11920701, 0.1169898 ,\n",
       "       0.11480846, 0.11266259, 0.11055183, 0.10847578, 0.10643405,\n",
       "       0.10442624, 0.10245197, 0.10051084, 0.09860244, 0.09672638,\n",
       "       0.09488226, 0.09306968, 0.09128823, 0.08953751, 0.08781712,\n",
       "       0.08612666, 0.08446573, 0.08283393, 0.08123085, 0.07965611,\n",
       "       0.0781093 , 0.07659002, 0.07509789, 0.07363251, 0.07219349,\n",
       "       0.07078045, 0.06939299, 0.06803074, 0.06669332, 0.06538034,\n",
       "       0.06409144, 0.06282624, 0.06158437, 0.06036547, 0.05916917,\n",
       "       0.05799512, 0.05684295, 0.05571232, 0.05460288, 0.05351428,\n",
       "       0.05244618, 0.05139823, 0.05037012, 0.0493615 , 0.04837205,\n",
       "       0.04740144, 0.04644936, 0.04551548, 0.04459951, 0.04370112,\n",
       "       0.04282002, 0.04195591, 0.04110848, 0.04027745, 0.03946253,\n",
       "       0.03866343, 0.03787988, 0.03711159, 0.0363583 , 0.03561973,\n",
       "       0.03489562, 0.03418571, 0.03348974, 0.03280745, 0.03213861])"
      ]
     },
     "execution_count": 47,
     "metadata": {},
     "output_type": "execute_result"
    }
   ],
   "source": [
    "odds = np.exp(log_odds)\n",
    "ps = odds / (odds + 1)\n",
    "ps"
   ]
  },
  {
   "cell_type": "code",
   "execution_count": 40,
   "id": "4674c095",
   "metadata": {},
   "outputs": [],
   "source": [
    "\n",
    "ps = expit(inter + slope * xs)"
   ]
  },
  {
   "cell_type": "code",
   "execution_count": 49,
   "id": "8ed47b6a",
   "metadata": {},
   "outputs": [
    {
     "data": {
      "image/png": "[encoded data removed]",
      "text/plain": [
       "<Figure size 640x480 with 1 Axes>"
      ]
     },
     "metadata": {},
     "output_type": "display_data"
    }
   ],
   "source": [
    "plt.plot(xs+age_offset, ps, label='model', color='C1')\n",
    "plot_data(df)"
   ]
  },
  {
   "cell_type": "markdown",
   "id": "65a5b8cb",
   "metadata": {},
   "source": [
    "### Bayesian logistic regression \n",
    "\n",
    "Using point estimates from the previous section to help determine choices of starting values for the prior distribution. \n",
    "\n",
    "joint_pmf is a probability mass functio (Pmf) with two levels in the index, one for each parameter. That makes it easy to loop through possible pairs of parameters, as we’ll see in the next section"
   ]
  },
  {
   "cell_type": "code",
   "execution_count": 54,
   "id": "7fe33225",
   "metadata": {},
   "outputs": [
    {
     "data": {
      "text/html": [
       "<div>\n",
       "<style scoped>\n",
       "    .dataframe tbody tr th:only-of-type {\n",
       "        vertical-align: middle;\n",
       "    }\n",
       "\n",
       "    .dataframe tbody tr th {\n",
       "        vertical-align: top;\n",
       "    }\n",
       "\n",
       "    .dataframe thead th {\n",
       "        text-align: right;\n",
       "    }\n",
       "</style>\n",
       "<table border=\"1\" class=\"dataframe\">\n",
       "  <thead>\n",
       "    <tr style=\"text-align: right;\">\n",
       "      <th></th>\n",
       "      <th></th>\n",
       "      <th>probs</th>\n",
       "    </tr>\n",
       "    <tr>\n",
       "      <th>Slope</th>\n",
       "      <th>Intercept</th>\n",
       "      <th></th>\n",
       "    </tr>\n",
       "  </thead>\n",
       "  <tbody>\n",
       "    <tr>\n",
       "      <th rowspan=\"3\" valign=\"top\">-0.05</th>\n",
       "      <th>-5.00</th>\n",
       "      <td>0.000098</td>\n",
       "    </tr>\n",
       "    <tr>\n",
       "      <th>-4.94</th>\n",
       "      <td>0.000098</td>\n",
       "    </tr>\n",
       "    <tr>\n",
       "      <th>-4.88</th>\n",
       "      <td>0.000098</td>\n",
       "    </tr>\n",
       "  </tbody>\n",
       "</table>\n",
       "</div>"
      ],
      "text/plain": [
       "Slope  Intercept\n",
       "-0.05  -5.00        0.000098\n",
       "       -4.94        0.000098\n",
       "       -4.88        0.000098\n",
       "Name: , dtype: float64"
      ]
     },
     "execution_count": 54,
     "metadata": {},
     "output_type": "execute_result"
    }
   ],
   "source": [
    "from empiricaldist import Pmf\n",
    "qs = np.linspace(-5, 1, num=101)\n",
    "prior_inter = make_uniform(qs, 'Intercept')\n",
    "\n",
    "qs = np.linspace(-0.05, 0.01, num=101)\n",
    "prior_slope = make_uniform(qs, 'Slope')\n",
    "\n",
    "joint = make_joint(prior_inter, prior_slope)\n",
    "\n",
    "joint_pmf = Pmf(joint.stack())\n",
    "joint_pmf.head()\n"
   ]
  },
  {
   "cell_type": "markdown",
   "id": "a41a350e",
   "metadata": {},
   "source": [
    "To do the update, we have to compute the likelihood of the data for each possible pair of parameters.\n",
    "\n",
    "To make that easier, I’m going to group the data by age, x, and count the number of discharges at each age. \n",
    "\n",
    "(Note that the dummy data has age rounded to 5 year increments)"
   ]
  },
  {
   "cell_type": "code",
   "execution_count": 56,
   "id": "bf27bdb9",
   "metadata": {},
   "outputs": [
    {
     "data": {
      "text/html": [
       "<div>\n",
       "<style scoped>\n",
       "    .dataframe tbody tr th:only-of-type {\n",
       "        vertical-align: middle;\n",
       "    }\n",
       "\n",
       "    .dataframe tbody tr th {\n",
       "        vertical-align: top;\n",
       "    }\n",
       "\n",
       "    .dataframe thead th {\n",
       "        text-align: right;\n",
       "    }\n",
       "</style>\n",
       "<table border=\"1\" class=\"dataframe\">\n",
       "  <thead>\n",
       "    <tr style=\"text-align: right;\">\n",
       "      <th></th>\n",
       "      <th>count</th>\n",
       "      <th>sum</th>\n",
       "    </tr>\n",
       "    <tr>\n",
       "      <th>x</th>\n",
       "      <th></th>\n",
       "      <th></th>\n",
       "    </tr>\n",
       "  </thead>\n",
       "  <tbody>\n",
       "    <tr>\n",
       "      <th>-59.0</th>\n",
       "      <td>3</td>\n",
       "      <td>0</td>\n",
       "    </tr>\n",
       "    <tr>\n",
       "      <th>-49.0</th>\n",
       "      <td>4</td>\n",
       "      <td>1</td>\n",
       "    </tr>\n",
       "    <tr>\n",
       "      <th>-44.0</th>\n",
       "      <td>17</td>\n",
       "      <td>1</td>\n",
       "    </tr>\n",
       "    <tr>\n",
       "      <th>-39.0</th>\n",
       "      <td>20</td>\n",
       "      <td>4</td>\n",
       "    </tr>\n",
       "    <tr>\n",
       "      <th>-34.0</th>\n",
       "      <td>15</td>\n",
       "      <td>2</td>\n",
       "    </tr>\n",
       "  </tbody>\n",
       "</table>\n",
       "</div>"
      ],
      "text/plain": [
       "       count  sum\n",
       "x                \n",
       "-59.0      3    0\n",
       "-49.0      4    1\n",
       "-44.0     17    1\n",
       "-39.0     20    4\n",
       "-34.0     15    2"
      ]
     },
     "execution_count": 56,
     "metadata": {},
     "output_type": "execute_result"
    }
   ],
   "source": [
    "grouped = df.groupby('x')['y'].agg(['count', 'sum'])\n",
    "grouped.head()"
   ]
  },
  {
   "cell_type": "markdown",
   "id": "7fe454c9",
   "metadata": {},
   "source": [
    "The result is a DataFrame with two columns: count is the number of patients at each age; sum is the number of discharges. To be consistent with the parameters of the binomial distributions, I’ll assign them to variables named ns and ks.\n",
    "\n"
   ]
  },
  {
   "cell_type": "code",
   "execution_count": 58,
   "id": "99c33810",
   "metadata": {},
   "outputs": [],
   "source": [
    "ns = grouped['count']\n",
    "ks = grouped['sum']"
   ]
  },
  {
   "cell_type": "markdown",
   "id": "1089ba71",
   "metadata": {},
   "source": [
    "To compute the likelihood of the data, let’s assume temporarily that the parameters we just estimated, slope and inter, are correct. We can use them to compute the probability of discharge at each age, like this:\n",
    "\n"
   ]
  },
  {
   "cell_type": "code",
   "execution_count": 59,
   "id": "1171005b",
   "metadata": {},
   "outputs": [],
   "source": [
    "xs = grouped.index\n",
    "ps = expit(inter + slope * xs)"
   ]
  },
  {
   "cell_type": "markdown",
   "id": "552ef8ec",
   "metadata": {},
   "source": [
    "ps contains the probability of discharge for each age, according to the model.\n",
    "\n",
    "Now, for each age we have ns, ps, and ks; we can use the binomial distribution to compute the likelihood of the data.\n",
    "\n",
    "\n",
    "\n"
   ]
  },
  {
   "cell_type": "code",
   "execution_count": 60,
   "id": "bfc6f35c",
   "metadata": {},
   "outputs": [
    {
     "data": {
      "text/plain": [
       "array([0.51738984, 0.38485624, 0.18599886, 0.16375333, 0.28947594,\n",
       "       0.34543338, 0.33444133, 0.27446382, 0.18678911, 0.03077659,\n",
       "       0.22153198, 0.25856194, 0.27095509, 0.08390327, 0.2071413 ,\n",
       "       0.34982154, 0.34156717, 0.36412761, 0.1818935 ])"
      ]
     },
     "execution_count": 60,
     "metadata": {},
     "output_type": "execute_result"
    }
   ],
   "source": [
    "from scipy.stats import binom\n",
    "\n",
    "likes = binom.pmf(ks, ns, ps)\n",
    "likes"
   ]
  },
  {
   "cell_type": "markdown",
   "id": "26ae8e7e",
   "metadata": {},
   "source": [
    "Each element of likes is the probability of seeing k discharges in n patients if the probability of discharge is p. The likelihood of the whole dataset is the product of this array.\n",
    "\n"
   ]
  },
  {
   "cell_type": "code",
   "execution_count": 61,
   "id": "afb79320",
   "metadata": {},
   "outputs": [
    {
     "data": {
      "text/plain": [
       "6.831374996979833e-13"
      ]
     },
     "execution_count": 61,
     "metadata": {},
     "output_type": "execute_result"
    }
   ],
   "source": [
    "likes.prod()"
   ]
  },
  {
   "cell_type": "code",
   "execution_count": 62,
   "id": "f3da22d5",
   "metadata": {},
   "outputs": [
    {
     "data": {
      "text/html": [
       "<div>\n",
       "<style scoped>\n",
       "    .dataframe tbody tr th:only-of-type {\n",
       "        vertical-align: middle;\n",
       "    }\n",
       "\n",
       "    .dataframe tbody tr th {\n",
       "        vertical-align: top;\n",
       "    }\n",
       "\n",
       "    .dataframe thead th {\n",
       "        text-align: right;\n",
       "    }\n",
       "</style>\n",
       "<table border=\"1\" class=\"dataframe\">\n",
       "  <thead>\n",
       "    <tr style=\"text-align: right;\">\n",
       "      <th></th>\n",
       "      <th></th>\n",
       "      <th>probs</th>\n",
       "    </tr>\n",
       "    <tr>\n",
       "      <th>Slope</th>\n",
       "      <th>Intercept</th>\n",
       "      <th></th>\n",
       "    </tr>\n",
       "  </thead>\n",
       "  <tbody>\n",
       "    <tr>\n",
       "      <th rowspan=\"5\" valign=\"top\">-0.05</th>\n",
       "      <th>-5.00</th>\n",
       "      <td>4.106178e-29</td>\n",
       "    </tr>\n",
       "    <tr>\n",
       "      <th>-4.94</th>\n",
       "      <td>1.964790e-28</td>\n",
       "    </tr>\n",
       "    <tr>\n",
       "      <th>-4.88</th>\n",
       "      <td>9.205627e-28</td>\n",
       "    </tr>\n",
       "    <tr>\n",
       "      <th>-4.82</th>\n",
       "      <td>4.218222e-27</td>\n",
       "    </tr>\n",
       "    <tr>\n",
       "      <th>-4.76</th>\n",
       "      <td>1.887979e-26</td>\n",
       "    </tr>\n",
       "    <tr>\n",
       "      <th>...</th>\n",
       "      <th>...</th>\n",
       "      <td>...</td>\n",
       "    </tr>\n",
       "    <tr>\n",
       "      <th rowspan=\"5\" valign=\"top\">0.01</th>\n",
       "      <th>0.76</th>\n",
       "      <td>1.008940e-176</td>\n",
       "    </tr>\n",
       "    <tr>\n",
       "      <th>0.82</th>\n",
       "      <td>8.085172e-184</td>\n",
       "    </tr>\n",
       "    <tr>\n",
       "      <th>0.88</th>\n",
       "      <td>4.625067e-191</td>\n",
       "    </tr>\n",
       "    <tr>\n",
       "      <th>0.94</th>\n",
       "      <td>1.903363e-198</td>\n",
       "    </tr>\n",
       "    <tr>\n",
       "      <th>1.00</th>\n",
       "      <td>5.680628e-206</td>\n",
       "    </tr>\n",
       "  </tbody>\n",
       "</table>\n",
       "<p>10201 rows × 1 columns</p>\n",
       "</div>"
      ],
      "text/plain": [
       "Slope  Intercept\n",
       "-0.05  -5.00         4.106178e-29\n",
       "       -4.94         1.964790e-28\n",
       "       -4.88         9.205627e-28\n",
       "       -4.82         4.218222e-27\n",
       "       -4.76         1.887979e-26\n",
       "                        ...      \n",
       " 0.01   0.76        1.008940e-176\n",
       "        0.82        8.085172e-184\n",
       "        0.88        4.625067e-191\n",
       "        0.94        1.903363e-198\n",
       "        1.00        5.680628e-206\n",
       "Name: , Length: 10201, dtype: float64"
      ]
     },
     "execution_count": 62,
     "metadata": {},
     "output_type": "execute_result"
    }
   ],
   "source": [
    "\n",
    "likelihood = joint_pmf.copy()\n",
    "for slope, inter in joint_pmf.index:\n",
    "    ps = expit(inter + slope * xs)\n",
    "    likes = binom.pmf(ks, ns, ps)\n",
    "    likelihood[slope, inter] = likes.prod() \n",
    "likelihood"
   ]
  },
  {
   "cell_type": "code",
   "execution_count": 63,
   "id": "b1953c40",
   "metadata": {},
   "outputs": [
    {
     "data": {
      "text/plain": [
       "1.7132597757564664e-14"
      ]
     },
     "execution_count": 63,
     "metadata": {},
     "output_type": "execute_result"
    }
   ],
   "source": [
    "posterior_pmf = joint_pmf * likelihood\n",
    "posterior_pmf.normalize()"
   ]
  },
  {
   "cell_type": "code",
   "execution_count": 64,
   "id": "f853519b",
   "metadata": {},
   "outputs": [
    {
     "data": {
      "text/plain": [
       "slope   -0.0212\n",
       "inter   -2.6600\n",
       "dtype: float64"
      ]
     },
     "execution_count": 64,
     "metadata": {},
     "output_type": "execute_result"
    }
   ],
   "source": [
    "pd.Series(posterior_pmf.max_prob(),\n",
    "          index=['slope', 'inter'])"
   ]
  },
  {
   "cell_type": "markdown",
   "id": "2226256f",
   "metadata": {},
   "source": [
    "If we unstack the posterior Pmf we can make a contour plot of the joint posterior distribution.\n",
    "\n"
   ]
  },
  {
   "cell_type": "code",
   "execution_count": 68,
   "id": "8fcef3dd",
   "metadata": {},
   "outputs": [
    {
     "data": {
      "image/png": "[encoded data removed]",
      "text/plain": [
       "<Figure size 640x480 with 1 Axes>"
      ]
     },
     "metadata": {},
     "output_type": "display_data"
    }
   ],
   "source": [
    "joint_posterior = posterior_pmf.unstack()\n",
    "plot_contour(joint_posterior)\n",
    "decorate(title='Joint posterior distribution')"
   ]
  },
  {
   "cell_type": "code",
   "execution_count": 72,
   "id": "86c380fa",
   "metadata": {},
   "outputs": [
    {
     "data": {
      "image/png": "[encoded data removed]",
      "text/plain": [
       "<Figure size 640x480 with 1 Axes>"
      ]
     },
     "metadata": {},
     "output_type": "display_data"
    }
   ],
   "source": [
    "marginal_inter = marginal(joint_posterior, 0)\n",
    "marginal_slope = marginal(joint_posterior, 1)\n",
    "\n",
    "marginal_inter.plot(label='intercept', color='C4')\n",
    "\n",
    "decorate(xlabel='Intercept',\n",
    "         ylabel='PDF',\n",
    "         title='Posterior marginal distribution of intercept')"
   ]
  },
  {
   "cell_type": "code",
   "execution_count": 73,
   "id": "e5e6fae3",
   "metadata": {},
   "outputs": [
    {
     "data": {
      "image/png": "[encoded data removed]",
      "text/plain": [
       "<Figure size 640x480 with 1 Axes>"
      ]
     },
     "metadata": {},
     "output_type": "display_data"
    }
   ],
   "source": [
    "marginal_slope.plot(label='slope', color='C2')\n",
    "\n",
    "decorate(xlabel='Slope',\n",
    "         ylabel='PDF',\n",
    "         title='Posterior marginal distribution of slope')"
   ]
  },
  {
   "cell_type": "code",
   "execution_count": 74,
   "id": "dd82d037",
   "metadata": {},
   "outputs": [
    {
     "data": {
      "text/plain": [
       "inter   -2.688931\n",
       "slope   -0.021384\n",
       "dtype: float64"
      ]
     },
     "execution_count": 74,
     "metadata": {},
     "output_type": "execute_result"
    }
   ],
   "source": [
    "pd.Series([marginal_inter.mean(), marginal_slope.mean()],\n",
    "          index=['inter', 'slope'])"
   ]
  },
  {
   "cell_type": "code",
   "execution_count": 75,
   "id": "a8758411",
   "metadata": {},
   "outputs": [],
   "source": [
    "marginal_probs = marginal_inter.transform(expit)\n"
   ]
  },
  {
   "cell_type": "code",
   "execution_count": 76,
   "id": "e6faaf18",
   "metadata": {},
   "outputs": [
    {
     "data": {
      "text/plain": [
       "58.76126126126126"
      ]
     },
     "execution_count": 76,
     "metadata": {},
     "output_type": "execute_result"
    }
   ],
   "source": [
    "df.age.mean()"
   ]
  },
  {
   "cell_type": "code",
   "execution_count": 77,
   "id": "e2e27cea",
   "metadata": {},
   "outputs": [
    {
     "data": {
      "image/png": "[encoded data removed]",
      "text/plain": [
       "<Figure size 640x480 with 1 Axes>"
      ]
     },
     "metadata": {},
     "output_type": "display_data"
    }
   ],
   "source": [
    "marginal_probs.plot(color='C1')\n",
    "\n",
    "decorate(xlabel='Probability of discharge at mean age',\n",
    "         ylabel='PDF',\n",
    "         title='Posterior marginal distribution of probabilities')"
   ]
  },
  {
   "cell_type": "code",
   "execution_count": 78,
   "id": "57fa8007",
   "metadata": {},
   "outputs": [
    {
     "data": {
      "text/html": [
       "<div>\n",
       "<style scoped>\n",
       "    .dataframe tbody tr th:only-of-type {\n",
       "        vertical-align: middle;\n",
       "    }\n",
       "\n",
       "    .dataframe tbody tr th {\n",
       "        vertical-align: top;\n",
       "    }\n",
       "\n",
       "    .dataframe thead th {\n",
       "        text-align: right;\n",
       "    }\n",
       "</style>\n",
       "<table border=\"1\" class=\"dataframe\">\n",
       "  <thead>\n",
       "    <tr style=\"text-align: right;\">\n",
       "      <th></th>\n",
       "      <th></th>\n",
       "      <th>probs</th>\n",
       "    </tr>\n",
       "    <tr>\n",
       "      <th>Slope</th>\n",
       "      <th>Intercept</th>\n",
       "      <th></th>\n",
       "    </tr>\n",
       "  </thead>\n",
       "  <tbody>\n",
       "    <tr>\n",
       "      <th rowspan=\"5\" valign=\"top\">-0.05</th>\n",
       "      <th>-5.00</th>\n",
       "      <td>2.349481e-19</td>\n",
       "    </tr>\n",
       "    <tr>\n",
       "      <th>-4.94</th>\n",
       "      <td>1.124217e-18</td>\n",
       "    </tr>\n",
       "    <tr>\n",
       "      <th>-4.88</th>\n",
       "      <td>5.267292e-18</td>\n",
       "    </tr>\n",
       "    <tr>\n",
       "      <th>-4.82</th>\n",
       "      <td>2.413590e-17</td>\n",
       "    </tr>\n",
       "    <tr>\n",
       "      <th>-4.76</th>\n",
       "      <td>1.080267e-16</td>\n",
       "    </tr>\n",
       "    <tr>\n",
       "      <th>...</th>\n",
       "      <th>...</th>\n",
       "      <td>...</td>\n",
       "    </tr>\n",
       "    <tr>\n",
       "      <th rowspan=\"5\" valign=\"top\">0.01</th>\n",
       "      <th>0.76</th>\n",
       "      <td>5.772972e-167</td>\n",
       "    </tr>\n",
       "    <tr>\n",
       "      <th>0.82</th>\n",
       "      <td>4.626188e-174</td>\n",
       "    </tr>\n",
       "    <tr>\n",
       "      <th>0.88</th>\n",
       "      <td>2.646379e-181</td>\n",
       "    </tr>\n",
       "    <tr>\n",
       "      <th>0.94</th>\n",
       "      <td>1.089070e-188</td>\n",
       "    </tr>\n",
       "    <tr>\n",
       "      <th>1.00</th>\n",
       "      <td>3.250352e-196</td>\n",
       "    </tr>\n",
       "  </tbody>\n",
       "</table>\n",
       "<p>10201 rows × 1 columns</p>\n",
       "</div>"
      ],
      "text/plain": [
       "Slope  Intercept\n",
       "-0.05  -5.00         2.349481e-19\n",
       "       -4.94         1.124217e-18\n",
       "       -4.88         5.267292e-18\n",
       "       -4.82         2.413590e-17\n",
       "       -4.76         1.080267e-16\n",
       "                        ...      \n",
       " 0.01   0.76        5.772972e-167\n",
       "        0.82        4.626188e-174\n",
       "        0.88        2.646379e-181\n",
       "        0.94        1.089070e-188\n",
       "        1.00        3.250352e-196\n",
       "Name: , Length: 10201, dtype: float64"
      ]
     },
     "execution_count": 78,
     "metadata": {},
     "output_type": "execute_result"
    }
   ],
   "source": [
    "posterior_pmf"
   ]
  },
  {
   "cell_type": "markdown",
   "id": "c540b074",
   "metadata": {},
   "source": [
    "## Predictive distribution"
   ]
  },
  {
   "cell_type": "code",
   "execution_count": 79,
   "id": "b0a29906",
   "metadata": {},
   "outputs": [],
   "source": [
    "sample = posterior_pmf.choice(101)\n"
   ]
  },
  {
   "cell_type": "code",
   "execution_count": 80,
   "id": "21874b24",
   "metadata": {},
   "outputs": [],
   "source": [
    "ages = np.arange(df.age.min(), df.age.max())\n",
    "xs = ages - age_offset"
   ]
  },
  {
   "cell_type": "code",
   "execution_count": 81,
   "id": "186efd43",
   "metadata": {},
   "outputs": [],
   "source": [
    "pred = np.empty((len(sample), len(xs)))\n",
    "\n",
    "for i, (slope, inter) in enumerate(sample):\n",
    "    pred[i] = expit(inter + slope * xs)"
   ]
  },
  {
   "cell_type": "code",
   "execution_count": 84,
   "id": "11a54164",
   "metadata": {},
   "outputs": [
    {
     "data": {
      "image/png": "[encoded data removed]",
      "text/plain": [
       "<Figure size 640x480 with 1 Axes>"
      ]
     },
     "metadata": {},
     "output_type": "display_data"
    }
   ],
   "source": [
    "for ps in pred:\n",
    "    plt.plot(ages, ps, color='C1', lw=0.5, alpha=0.4)\n",
    "    \n",
    "plot_data(df)"
   ]
  },
  {
   "cell_type": "code",
   "execution_count": 85,
   "id": "ed2b70d7",
   "metadata": {},
   "outputs": [
    {
     "data": {
      "image/png": "[encoded data removed]",
      "text/plain": [
       "<Figure size 640x480 with 1 Axes>"
      ]
     },
     "metadata": {},
     "output_type": "display_data"
    }
   ],
   "source": [
    "low, median, high = np.percentile(pred, [5, 50, 95], axis=0)\n",
    "plt.fill_between(ages, low, high, color='C1', alpha=0.2)\n",
    "plt.plot(ages, median, color='C1', label='logistic model')\n",
    "\n",
    "plot_data(df)"
   ]
  },
  {
   "cell_type": "markdown",
   "id": "99b43535",
   "metadata": {},
   "source": [
    "what is the probability for an individual patient?"
   ]
  }
 ],
 "metadata": {
  "kernelspec": {
   "display_name": "Python 3.9.13 ('hystakes')",
   "language": "python",
   "name": "python3"
  },
  "language_info": {
   "codemirror_mode": {
    "name": "ipython",
    "version": 3
   },
   "file_extension": ".py",
   "mimetype": "text/x-python",
   "name": "python",
   "nbconvert_exporter": "python",
   "pygments_lexer": "ipython3",
   "version": "3.9.13"
  },
  "vscode": {
   "interpreter": {
    "hash": "777d76e45dee6605b55d3e20abadc559ebb627ce5062984b1aa5036d21f44d79"
   }
  }
 },
 "nbformat": 4,
 "nbformat_minor": 5
}
