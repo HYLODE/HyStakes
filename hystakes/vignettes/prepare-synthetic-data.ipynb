{
 "cells": [
  {
   "cell_type": "markdown",
   "id": "44ebd930-b2b4-4a05-96e6-450296a4e229",
   "metadata": {},
   "source": [
    "# Prepare synthetic data\n",
    "\n",
    "We need synthetic data.  \n",
    "We will inspect live data in this notebook, and then derive a short script that will generate suitable dummy data."
   ]
  },
  {
   "cell_type": "markdown",
   "id": "6625867f-b7eb-47cc-9a54-7d7093768e98",
   "metadata": {
    "tags": []
   },
   "source": [
    "**NOTE**\n",
    "\n",
    "This notebook will be be run manually.  \n",
    "That should happen from the _project root directory_ where the `readme.md` and the `.env` file are stored.\n",
    "\n",
    "The following changes to the project root assuming that the notebook kernel is normally starting from the same directory as the notebook itself."
   ]
  },
  {
   "cell_type": "code",
   "execution_count": 1,
   "id": "c6c12e67-515e-49a7-aeb0-370db90f59d7",
   "metadata": {
    "execution": {
     "iopub.execute_input": "2022-09-08T22:47:55.078567Z",
     "iopub.status.busy": "2022-09-08T22:47:55.078248Z",
     "iopub.status.idle": "2022-09-08T22:47:55.090549Z",
     "shell.execute_reply": "2022-09-08T22:47:55.089586Z",
     "shell.execute_reply.started": "2022-09-08T22:47:55.078496Z"
    },
    "tags": []
   },
   "outputs": [
    {
     "name": "stdout",
     "output_type": "stream",
     "text": [
      "/data/hymind/home/steve/HyStakes\n"
     ]
    }
   ],
   "source": [
    "%cd ../.."
   ]
  },
  {
   "cell_type": "code",
   "execution_count": 11,
   "id": "76896b08-547e-4b9e-965b-f6f91a862cb7",
   "metadata": {
    "execution": {
     "iopub.execute_input": "2022-09-08T22:52:46.393006Z",
     "iopub.status.busy": "2022-09-08T22:52:46.392543Z",
     "iopub.status.idle": "2022-09-08T22:52:47.162436Z",
     "shell.execute_reply": "2022-09-08T22:52:47.161448Z",
     "shell.execute_reply.started": "2022-09-08T22:52:46.392962Z"
    },
    "tags": []
   },
   "outputs": [],
   "source": [
    "import os\n",
    "from dotenv import load_dotenv\n",
    "from pathlib import Path\n",
    "\n",
    "import plotly.express as px\n",
    "import numpy as np\n",
    "import pandas as pd\n",
    "import sqlalchemy as sa"
   ]
  },
  {
   "cell_type": "markdown",
   "id": "0fff9d0c-e0cd-4cec-acc8-5630d90c3a83",
   "metadata": {
    "execution": {
     "iopub.execute_input": "2021-09-22T21:58:10.979482Z",
     "iopub.status.busy": "2021-09-22T21:58:10.979109Z",
     "iopub.status.idle": "2021-09-22T21:58:10.984761Z",
     "shell.execute_reply": "2021-09-22T21:58:10.983337Z",
     "shell.execute_reply.started": "2021-09-22T21:58:10.979452Z"
    }
   },
   "source": [
    "## Load environment variables\n",
    "\n",
    "Load environment variables and set-up SQLAlchemy connection engine for the EMAP Star"
   ]
  },
  {
   "cell_type": "code",
   "execution_count": 3,
   "id": "0ec87771-99d3-4753-9b2a-26820370b16d",
   "metadata": {
    "execution": {
     "iopub.execute_input": "2022-09-08T22:47:56.292720Z",
     "iopub.status.busy": "2022-09-08T22:47:56.292198Z",
     "iopub.status.idle": "2022-09-08T22:47:56.298937Z",
     "shell.execute_reply": "2022-09-08T22:47:56.298114Z",
     "shell.execute_reply.started": "2022-09-08T22:47:56.292689Z"
    },
    "tags": []
   },
   "outputs": [],
   "source": [
    "load_dotenv(dotenv_path=\".env\")\n",
    "try:\n",
    "    assert os.getenv(\"DOTENV_FILE_EXISTS\") == 'TRUE'\n",
    "except AssertionError:\n",
    "    print(\"!!! ERROR: check that the .env file exists at the top level of the project\")\n",
    "    print(\"!!! ERROR: check that the relative path is correct\")"
   ]
  },
  {
   "cell_type": "code",
   "execution_count": 4,
   "id": "ac6fd269-77f5-4694-88e9-3546ed3795a1",
   "metadata": {
    "execution": {
     "iopub.execute_input": "2022-09-08T22:47:56.301081Z",
     "iopub.status.busy": "2022-09-08T22:47:56.300571Z",
     "iopub.status.idle": "2022-09-08T22:47:56.340769Z",
     "shell.execute_reply": "2022-09-08T22:47:56.339964Z",
     "shell.execute_reply.started": "2022-09-08T22:47:56.301052Z"
    },
    "tags": []
   },
   "outputs": [],
   "source": [
    "# Construct the PostgreSQL connection\n",
    "uds_host = os.getenv('EMAP_DB_HOST')\n",
    "uds_name = os.getenv('EMAP_DB_NAME')\n",
    "uds_port = os.getenv('EMAP_DB_PORT')\n",
    "uds_user = os.getenv('EMAP_DB_USER')\n",
    "uds_passwd = os.getenv('EMAP_DB_PASSWORD')\n",
    "\n",
    "emapdb_engine = sa.create_engine(f'postgresql://{uds_user}:{uds_passwd}@{uds_host}:{uds_port}/{uds_name}')"
   ]
  },
  {
   "cell_type": "markdown",
   "id": "29357ecc-f69e-4a09-9c36-6e48871ddb35",
   "metadata": {},
   "source": [
    "Here's the _very_ long query that I built.  \n",
    "It selects all patients on tower wards 2 weeks ago (336 hours), and then finds the age (rounded) and the last heart rate. The remaining data has _no_ identifiers."
   ]
  },
  {
   "cell_type": "markdown",
   "id": "26b3d976-b5f2-4677-8e12-033ba0d0b951",
   "metadata": {},
   "source": [
    "```sql\n",
    "\n",
    "SELECT\n",
    " left(md5(lv.hospital_visit_id::TEXT), 6) id\n",
    "--,lv.location_visit_id\n",
    "--,lv.admission_datetime admit_dt_bed\n",
    "--,lv.discharge_datetime disch_dt_bed\n",
    "--,hv.admission_datetime admit_dt_hosp\n",
    "--,hv.discharge_datetime disch_dt_hosp\n",
    ",ROUND(EXTRACT(epoch FROM \n",
    "    (hv.discharge_datetime - (NOW() - '336 HOURS'::INTERVAL)\n",
    "    ))/3600) hours_to_discharge\n",
    "--,hv.discharge_destination\n",
    "--,hv.patient_class\n",
    "--,lo.location_string\n",
    ",dept.name department\n",
    "\n",
    "-- include age rounded to 5\n",
    ", ROUND(DATE_PART('year',AGE(cd.date_of_birth ))/5) * 5 AGE\n",
    "\n",
    "-- add last heart rate\n",
    ",hr.value_as_real pulse\n",
    "--,hr.observation_datetime\n",
    "\n",
    "\n",
    "FROM star.location_visit lv\n",
    "LEFT JOIN star.location lo ON lv.location_id = lo.location_id\n",
    "LEFT JOIN star.department dept ON lo.department_id = dept.department_id \n",
    "LEFT JOIN star.hospital_visit hv ON lv.hospital_visit_id = hv.hospital_visit_id\n",
    "LEFT JOIN star.core_demographic cd ON hv.mrn_id = cd.mrn_id\n",
    "LEFT JOIN (\n",
    "    WITH obs AS (\n",
    "        SELECT\n",
    "\n",
    "         vo.visit_observation_id\n",
    "        ,vo.hospital_visit_id\n",
    "        ,vo.observation_datetime\n",
    "        ,vo.value_as_real\n",
    "        ,ot.name\n",
    "\n",
    "        FROM star.visit_observation vo\n",
    "        LEFT JOIN star.visit_observation_type ot ON vo.visit_observation_type_id = ot.visit_observation_type_id\n",
    "        WHERE \n",
    "        ot.id_in_application = '8' -- heart rate\n",
    "        AND\n",
    "        vo.observation_datetime < NOW() - '336 HOURS'::INTERVAL \n",
    "        AND\n",
    "        vo.observation_datetime > NOW() - '360 HOURS'::INTERVAL \n",
    "    ),\n",
    "    obs_tail AS (\n",
    "        SELECT \n",
    "         obs.*\n",
    "        ,row_number() over (partition BY obs.hospital_visit_id ORDER BY obs.observation_datetime DESC) obs_tail\n",
    "        FROM obs\n",
    "    )\n",
    "    SELECT \n",
    "     visit_observation_id\n",
    "    ,hospital_visit_id\n",
    "    ,observation_datetime\n",
    "    ,value_as_real\n",
    "    ,NAME\n",
    "    FROM obs_tail \n",
    "    WHERE obs_tail = 1\n",
    ") hr -- heart rate\n",
    "ON lv.hospital_visit_id = hr.hospital_visit_id\n",
    "\n",
    "WHERE \n",
    "dept.name IN (\n",
    "'UCH T03 INTENSIVE CARE'\n",
    ",'UCH SDEC'\n",
    ",'UCH T01 ACUTE MEDICAL'\n",
    ",'UCH T01 ENHANCED CARE'\n",
    ",'UCH T06 HEAD (T06H)'\n",
    ",'UCH T06 CENTRAL (T06C)'\n",
    ",'UCH T06 SOUTH PACU'\n",
    ",'UCH T06 GYNAE (T06G)'\n",
    ",'UCH T07 NORTH (T07N)'\n",
    ",'UCH T07 CV SURGE'\n",
    ",'UCH T07 SOUTH'\n",
    ",'UCH T07 SOUTH (T07S)'\n",
    ",'UCH T07 HDRU'\n",
    ",'UCH T08 NORTH (T08N)'\n",
    ",'UCH T08 SOUTH (T08S)'\n",
    ",'UCH T08S ARCU'\n",
    ",'UCH T09 SOUTH (T09S)'\n",
    ",'UCH T09 NORTH (T09N)'\n",
    ",'UCH T09 CENTRAL (T09C)'\n",
    ",'UCH T10 SOUTH (T10S)'\n",
    ",'UCH T10 NORTH (T10N)'\n",
    ",'UCH T10 MED (T10M)'\n",
    ",'UCH T11 SOUTH (T11S)'\n",
    ",'UCH T11 NORTH (T11N)'\n",
    ",'UCH T11 EAST (T11E)'\n",
    ",'UCH T11 NORTH (T11NO)'\n",
    ",'UCH T12 SOUTH (T12S)'\n",
    ",'UCH T12 NORTH (T12N)'\n",
    ",'UCH T13 SOUTH (T13S)'\n",
    ",'UCH T13 NORTH ONCOLOGY'\n",
    ",'UCH T13 NORTH (T13N)'\n",
    ",'UCH T14 NORTH TRAUMA'\n",
    ",'UCH T14 NORTH (T14N)'\n",
    ",'UCH T14 SOUTH ASU'\n",
    ",'UCH T14 SOUTH (T14S)'\n",
    ",'UCH T15 SOUTH DECANT'\n",
    ",'UCH T15 SOUTH (T15S)'\n",
    ",'UCH T15 NORTH (T15N)'\n",
    ",'UCH T15 NORTH DECANT'\n",
    ",'UCH T16 NORTH (T16N)'\n",
    ",'UCH T16 SOUTH (T16S)'\n",
    ",'UCH T16 SOUTH WINTER'\n",
    "\n",
    ")\n",
    "AND\n",
    "lv.admission_datetime < NOW() - '336 HOURS'::INTERVAL \n",
    "AND\n",
    "    (lv.discharge_datetime > NOW() - '336 HOURS'::INTERVAL \n",
    "     OR\n",
    "      (lv.discharge_datetime IS NULL AND hv.discharge_datetime IS NULL)\n",
    "    )\n",
    "AND \n",
    "lo.location_string NOT LIKE '%WAIT%'\n",
    "AND \n",
    "lo.location_string NOT LIKE '%null%'\n",
    ";\n",
    "```"
   ]
  },
  {
   "cell_type": "code",
   "execution_count": 16,
   "id": "40a8e2cd-47a3-494d-a115-8b0720539c92",
   "metadata": {
    "execution": {
     "iopub.execute_input": "2022-09-08T22:59:59.151184Z",
     "iopub.status.busy": "2022-09-08T22:59:59.149989Z",
     "iopub.status.idle": "2022-09-08T22:59:59.157929Z",
     "shell.execute_reply": "2022-09-08T22:59:59.156758Z",
     "shell.execute_reply.started": "2022-09-08T22:59:59.151146Z"
    },
    "tags": []
   },
   "outputs": [],
   "source": [
    "q = Path('utils/queries/discharges_dummy.sql').read_text()\n",
    "\n",
    "# this handles escaping etc (e.g. % should be %%)\n",
    "q = sa.text(q)"
   ]
  },
  {
   "cell_type": "code",
   "execution_count": 17,
   "id": "22908be3-6cb5-4dd8-b2c1-a769397c9078",
   "metadata": {
    "execution": {
     "iopub.execute_input": "2022-09-08T22:59:59.674971Z",
     "iopub.status.busy": "2022-09-08T22:59:59.674420Z",
     "iopub.status.idle": "2022-09-08T23:00:01.061387Z",
     "shell.execute_reply": "2022-09-08T23:00:01.060274Z",
     "shell.execute_reply.started": "2022-09-08T22:59:59.674938Z"
    },
    "tags": []
   },
   "outputs": [],
   "source": [
    "df = pd.read_sql_query(q, emapdb_engine)"
   ]
  },
  {
   "cell_type": "code",
   "execution_count": null,
   "id": "b1dea2bf-0718-4113-a278-657f3ac502c8",
   "metadata": {
    "tags": []
   },
   "outputs": [],
   "source": [
    "df.head()"
   ]
  },
  {
   "cell_type": "code",
   "execution_count": 19,
   "id": "6a562cde-aae3-4d52-a4c1-ce25a3fc5202",
   "metadata": {
    "execution": {
     "iopub.execute_input": "2022-09-08T23:00:04.815701Z",
     "iopub.status.busy": "2022-09-08T23:00:04.815171Z",
     "iopub.status.idle": "2022-09-08T23:00:04.824238Z",
     "shell.execute_reply": "2022-09-08T23:00:04.823254Z",
     "shell.execute_reply.started": "2022-09-08T23:00:04.815668Z"
    },
    "tags": []
   },
   "outputs": [
    {
     "data": {
      "text/plain": [
       "UCH T10 SOUTH (T10S)      34\n",
       "UCH T01 ACUTE MEDICAL     33\n",
       "UCH SDEC                  30\n",
       "UCH T09 NORTH (T09N)      26\n",
       "UCH T03 INTENSIVE CARE    25\n",
       "UCH T10 NORTH (T10N)      23\n",
       "UCH T13 SOUTH (T13S)      22\n",
       "UCH T13 NORTH ONCOLOGY    22\n",
       "UCH T07 NORTH (T07N)      19\n",
       "UCH T09 CENTRAL (T09C)    19\n",
       "UCH T08 SOUTH (T08S)      19\n",
       "UCH T08 NORTH (T08N)      18\n",
       "UCH T16 NORTH (T16N)      16\n",
       "UCH T14 NORTH TRAUMA      15\n",
       "UCH T12 NORTH (T12N)      15\n",
       "UCH T14 SOUTH ASU         14\n",
       "UCH T16 SOUTH WINTER      14\n",
       "UCH T06 HEAD (T06H)       14\n",
       "UCH T01 ENHANCED CARE     14\n",
       "UCH T12 SOUTH (T12S)      11\n",
       "UCH T11 NORTH (T11N)      10\n",
       "UCH T07 SOUTH             10\n",
       "UCH T06 SOUTH PACU         9\n",
       "UCH T06 CENTRAL (T06C)     9\n",
       "UCH T11 SOUTH (T11S)       9\n",
       "UCH T14 NORTH (T14N)       4\n",
       "UCH T06 GYNAE (T06G)       3\n",
       "UCH T09 SOUTH (T09S)       3\n",
       "UCH T07 SOUTH (T07S)       2\n",
       "UCH T15 SOUTH (T15S)       2\n",
       "UCH T10 MED (T10M)         1\n",
       "UCH T08S ARCU              1\n",
       "UCH T15 NORTH (T15N)       1\n",
       "UCH T16 SOUTH (T16S)       1\n",
       "Name: department, dtype: int64"
      ]
     },
     "execution_count": 19,
     "metadata": {},
     "output_type": "execute_result"
    }
   ],
   "source": [
    "df.department.value_counts()"
   ]
  },
  {
   "cell_type": "code",
   "execution_count": 20,
   "id": "7e162c46-397e-45cc-a5c1-d8880c0a8185",
   "metadata": {
    "execution": {
     "iopub.execute_input": "2022-09-08T23:00:10.937747Z",
     "iopub.status.busy": "2022-09-08T23:00:10.937199Z",
     "iopub.status.idle": "2022-09-08T23:00:11.008443Z",
     "shell.execute_reply": "2022-09-08T23:00:11.007521Z",
     "shell.execute_reply.started": "2022-09-08T23:00:10.937702Z"
    },
    "tags": []
   },
   "outputs": [
    {
     "data": {
      "application/vnd.plotly.v1+json": {
       "config": {
        "plotlyServerURL": "https://plot.ly"
       },
       "data": [
        {
         "alignmentgroup": "True",
         "bingroup": "x",
         "hovertemplate": "variable=age<br>value=%{x}<br>count=%{y}<extra></extra>",
         "legendgroup": "age",
         "marker": {
          "color": "#636efa",
          "pattern": {
           "shape": ""
          }
         },
         "name": "age",
         "offsetgroup": "age",
         "orientation": "v",
         "showlegend": true,
         "type": "histogram",
         "x": [
          65,
          85,
          90,
          80,
          100,
          35,
          0,
          65,
          15,
          65,
          20,
          60,
          15,
          95,
          80,
          70,
          75,
          45,
          60,
          60,
          65,
          65,
          55,
          30,
          75,
          65,
          55,
          30,
          65,
          35,
          55,
          120,
          75,
          60,
          95,
          80,
          75,
          45,
          50,
          55,
          50,
          70,
          55,
          55,
          55,
          95,
          65,
          75,
          40,
          95,
          30,
          35,
          55,
          85,
          90,
          60,
          75,
          70,
          80,
          75,
          55,
          65,
          50,
          30,
          10,
          80,
          70,
          60,
          80,
          55,
          15,
          65,
          85,
          30,
          30,
          55,
          65,
          90,
          35,
          75,
          60,
          95,
          65,
          65,
          60,
          15,
          100,
          90,
          15,
          30,
          65,
          50,
          35,
          85,
          25,
          55,
          15,
          10,
          15,
          70,
          85,
          90,
          85,
          50,
          40,
          65,
          75,
          55,
          75,
          90,
          40,
          30,
          70,
          75,
          85,
          35,
          25,
          80,
          90,
          80,
          75,
          95,
          80,
          75,
          85,
          85,
          80,
          40,
          85,
          90,
          90,
          60,
          50,
          75,
          90,
          65,
          45,
          75,
          70,
          65,
          40,
          20,
          75,
          60,
          80,
          75,
          75,
          60,
          80,
          65,
          70,
          65,
          70,
          50,
          70,
          85,
          35,
          75,
          55,
          55,
          75,
          60,
          80,
          75,
          50,
          85,
          70,
          25,
          60,
          20,
          70,
          45,
          35,
          75,
          65,
          85,
          65,
          30,
          70,
          65,
          25,
          85,
          80,
          60,
          80,
          85,
          55,
          20,
          65,
          75,
          45,
          80,
          60,
          70,
          55,
          20,
          25,
          75,
          25,
          45,
          65,
          45,
          60,
          75,
          45,
          50,
          80,
          80,
          35,
          55,
          25,
          70,
          70,
          50,
          65,
          60,
          60,
          60,
          60,
          65,
          75,
          40,
          90,
          75,
          20,
          85,
          65,
          80,
          70,
          75,
          80,
          65,
          45,
          70,
          30,
          60,
          75,
          45,
          60,
          75,
          40,
          55,
          40,
          60,
          65,
          70,
          60,
          70,
          90,
          65,
          85,
          65,
          70,
          45,
          90,
          30,
          65,
          75,
          60,
          50,
          80,
          70,
          65,
          85,
          85,
          55,
          10,
          70,
          5,
          80,
          60,
          90,
          75,
          45,
          15,
          85,
          15,
          15,
          85,
          15,
          90,
          20,
          85,
          70,
          20,
          15,
          95,
          20,
          80,
          85,
          90,
          75,
          75,
          15,
          55,
          10,
          50,
          80,
          90,
          70,
          65,
          35,
          80,
          85,
          55,
          70,
          85,
          75,
          85,
          50,
          90,
          50,
          80,
          85,
          15,
          85,
          5,
          75,
          15,
          85,
          75,
          15,
          10,
          5,
          80,
          15,
          80,
          15,
          70,
          60,
          5,
          15,
          15,
          15,
          85,
          75,
          45,
          10,
          10,
          15,
          15,
          15,
          65,
          55,
          0,
          45,
          20,
          70,
          35,
          35,
          20,
          55,
          90,
          40,
          55,
          35,
          50,
          60,
          10,
          60,
          75,
          75,
          65,
          80,
          55,
          30,
          65,
          40,
          65,
          70,
          70,
          60,
          45,
          55,
          45,
          40,
          55,
          55,
          55,
          45,
          55,
          65,
          85,
          75,
          5,
          55,
          55,
          80,
          20,
          50,
          30,
          80,
          65,
          30,
          80,
          25,
          65,
          60,
          45,
          75,
          65,
          65,
          80,
          45,
          50,
          60,
          60,
          30,
          75,
          75,
          60,
          65,
          55,
          70,
          30,
          65,
          65,
          75,
          75,
          50,
          70,
          50,
          35,
          60,
          35,
          60,
          65,
          70,
          30,
          70,
          60,
          85,
          30,
          20,
          65,
          40,
          45,
          60,
          45,
          65,
          85,
          25,
          30,
          70,
          65,
          25,
          20,
          25,
          60,
          30,
          70,
          40,
          65,
          30,
          90,
          65,
          20,
          60,
          55,
          80,
          70,
          85,
          50,
          55,
          65,
          70,
          75,
          75
         ],
         "xaxis": "x",
         "yaxis": "y"
        }
       ],
       "layout": {
        "autosize": true,
        "barmode": "relative",
        "legend": {
         "title": {
          "text": "variable"
         },
         "tracegroupgap": 0
        },
        "margin": {
         "t": 60
        },
        "template": {
         "data": {
          "bar": [
           {
            "error_x": {
             "color": "#2a3f5f"
            },
            "error_y": {
             "color": "#2a3f5f"
            },
            "marker": {
             "line": {
              "color": "#E5ECF6",
              "width": 0.5
             },
             "pattern": {
              "fillmode": "overlay",
              "size": 10,
              "solidity": 0.2
             }
            },
            "type": "bar"
           }
          ],
          "barpolar": [
           {
            "marker": {
             "line": {
              "color": "#E5ECF6",
              "width": 0.5
             },
             "pattern": {
              "fillmode": "overlay",
              "size": 10,
              "solidity": 0.2
             }
            },
            "type": "barpolar"
           }
          ],
          "carpet": [
           {
            "aaxis": {
             "endlinecolor": "#2a3f5f",
             "gridcolor": "white",
             "linecolor": "white",
             "minorgridcolor": "white",
             "startlinecolor": "#2a3f5f"
            },
            "baxis": {
             "endlinecolor": "#2a3f5f",
             "gridcolor": "white",
             "linecolor": "white",
             "minorgridcolor": "white",
             "startlinecolor": "#2a3f5f"
            },
            "type": "carpet"
           }
          ],
          "choropleth": [
           {
            "colorbar": {
             "outlinewidth": 0,
             "ticks": ""
            },
            "type": "choropleth"
           }
          ],
          "contour": [
           {
            "colorbar": {
             "outlinewidth": 0,
             "ticks": ""
            },
            "colorscale": [
             [
              0,
              "#0d0887"
             ],
             [
              0.1111111111111111,
              "#46039f"
             ],
             [
              0.2222222222222222,
              "#7201a8"
             ],
             [
              0.3333333333333333,
              "#9c179e"
             ],
             [
              0.4444444444444444,
              "#bd3786"
             ],
             [
              0.5555555555555556,
              "#d8576b"
             ],
             [
              0.6666666666666666,
              "#ed7953"
             ],
             [
              0.7777777777777778,
              "#fb9f3a"
             ],
             [
              0.8888888888888888,
              "#fdca26"
             ],
             [
              1,
              "#f0f921"
             ]
            ],
            "type": "contour"
           }
          ],
          "contourcarpet": [
           {
            "colorbar": {
             "outlinewidth": 0,
             "ticks": ""
            },
            "type": "contourcarpet"
           }
          ],
          "heatmap": [
           {
            "colorbar": {
             "outlinewidth": 0,
             "ticks": ""
            },
            "colorscale": [
             [
              0,
              "#0d0887"
             ],
             [
              0.1111111111111111,
              "#46039f"
             ],
             [
              0.2222222222222222,
              "#7201a8"
             ],
             [
              0.3333333333333333,
              "#9c179e"
             ],
             [
              0.4444444444444444,
              "#bd3786"
             ],
             [
              0.5555555555555556,
              "#d8576b"
             ],
             [
              0.6666666666666666,
              "#ed7953"
             ],
             [
              0.7777777777777778,
              "#fb9f3a"
             ],
             [
              0.8888888888888888,
              "#fdca26"
             ],
             [
              1,
              "#f0f921"
             ]
            ],
            "type": "heatmap"
           }
          ],
          "heatmapgl": [
           {
            "colorbar": {
             "outlinewidth": 0,
             "ticks": ""
            },
            "colorscale": [
             [
              0,
              "#0d0887"
             ],
             [
              0.1111111111111111,
              "#46039f"
             ],
             [
              0.2222222222222222,
              "#7201a8"
             ],
             [
              0.3333333333333333,
              "#9c179e"
             ],
             [
              0.4444444444444444,
              "#bd3786"
             ],
             [
              0.5555555555555556,
              "#d8576b"
             ],
             [
              0.6666666666666666,
              "#ed7953"
             ],
             [
              0.7777777777777778,
              "#fb9f3a"
             ],
             [
              0.8888888888888888,
              "#fdca26"
             ],
             [
              1,
              "#f0f921"
             ]
            ],
            "type": "heatmapgl"
           }
          ],
          "histogram": [
           {
            "marker": {
             "pattern": {
              "fillmode": "overlay",
              "size": 10,
              "solidity": 0.2
             }
            },
            "type": "histogram"
           }
          ],
          "histogram2d": [
           {
            "colorbar": {
             "outlinewidth": 0,
             "ticks": ""
            },
            "colorscale": [
             [
              0,
              "#0d0887"
             ],
             [
              0.1111111111111111,
              "#46039f"
             ],
             [
              0.2222222222222222,
              "#7201a8"
             ],
             [
              0.3333333333333333,
              "#9c179e"
             ],
             [
              0.4444444444444444,
              "#bd3786"
             ],
             [
              0.5555555555555556,
              "#d8576b"
             ],
             [
              0.6666666666666666,
              "#ed7953"
             ],
             [
              0.7777777777777778,
              "#fb9f3a"
             ],
             [
              0.8888888888888888,
              "#fdca26"
             ],
             [
              1,
              "#f0f921"
             ]
            ],
            "type": "histogram2d"
           }
          ],
          "histogram2dcontour": [
           {
            "colorbar": {
             "outlinewidth": 0,
             "ticks": ""
            },
            "colorscale": [
             [
              0,
              "#0d0887"
             ],
             [
              0.1111111111111111,
              "#46039f"
             ],
             [
              0.2222222222222222,
              "#7201a8"
             ],
             [
              0.3333333333333333,
              "#9c179e"
             ],
             [
              0.4444444444444444,
              "#bd3786"
             ],
             [
              0.5555555555555556,
              "#d8576b"
             ],
             [
              0.6666666666666666,
              "#ed7953"
             ],
             [
              0.7777777777777778,
              "#fb9f3a"
             ],
             [
              0.8888888888888888,
              "#fdca26"
             ],
             [
              1,
              "#f0f921"
             ]
            ],
            "type": "histogram2dcontour"
           }
          ],
          "mesh3d": [
           {
            "colorbar": {
             "outlinewidth": 0,
             "ticks": ""
            },
            "type": "mesh3d"
           }
          ],
          "parcoords": [
           {
            "line": {
             "colorbar": {
              "outlinewidth": 0,
              "ticks": ""
             }
            },
            "type": "parcoords"
           }
          ],
          "pie": [
           {
            "automargin": true,
            "type": "pie"
           }
          ],
          "scatter": [
           {
            "fillpattern": {
             "fillmode": "overlay",
             "size": 10,
             "solidity": 0.2
            },
            "type": "scatter"
           }
          ],
          "scatter3d": [
           {
            "line": {
             "colorbar": {
              "outlinewidth": 0,
              "ticks": ""
             }
            },
            "marker": {
             "colorbar": {
              "outlinewidth": 0,
              "ticks": ""
             }
            },
            "type": "scatter3d"
           }
          ],
          "scattercarpet": [
           {
            "marker": {
             "colorbar": {
              "outlinewidth": 0,
              "ticks": ""
             }
            },
            "type": "scattercarpet"
           }
          ],
          "scattergeo": [
           {
            "marker": {
             "colorbar": {
              "outlinewidth": 0,
              "ticks": ""
             }
            },
            "type": "scattergeo"
           }
          ],
          "scattergl": [
           {
            "marker": {
             "colorbar": {
              "outlinewidth": 0,
              "ticks": ""
             }
            },
            "type": "scattergl"
           }
          ],
          "scattermapbox": [
           {
            "marker": {
             "colorbar": {
              "outlinewidth": 0,
              "ticks": ""
             }
            },
            "type": "scattermapbox"
           }
          ],
          "scatterpolar": [
           {
            "marker": {
             "colorbar": {
              "outlinewidth": 0,
              "ticks": ""
             }
            },
            "type": "scatterpolar"
           }
          ],
          "scatterpolargl": [
           {
            "marker": {
             "colorbar": {
              "outlinewidth": 0,
              "ticks": ""
             }
            },
            "type": "scatterpolargl"
           }
          ],
          "scatterternary": [
           {
            "marker": {
             "colorbar": {
              "outlinewidth": 0,
              "ticks": ""
             }
            },
            "type": "scatterternary"
           }
          ],
          "surface": [
           {
            "colorbar": {
             "outlinewidth": 0,
             "ticks": ""
            },
            "colorscale": [
             [
              0,
              "#0d0887"
             ],
             [
              0.1111111111111111,
              "#46039f"
             ],
             [
              0.2222222222222222,
              "#7201a8"
             ],
             [
              0.3333333333333333,
              "#9c179e"
             ],
             [
              0.4444444444444444,
              "#bd3786"
             ],
             [
              0.5555555555555556,
              "#d8576b"
             ],
             [
              0.6666666666666666,
              "#ed7953"
             ],
             [
              0.7777777777777778,
              "#fb9f3a"
             ],
             [
              0.8888888888888888,
              "#fdca26"
             ],
             [
              1,
              "#f0f921"
             ]
            ],
            "type": "surface"
           }
          ],
          "table": [
           {
            "cells": {
             "fill": {
              "color": "#EBF0F8"
             },
             "line": {
              "color": "white"
             }
            },
            "header": {
             "fill": {
              "color": "#C8D4E3"
             },
             "line": {
              "color": "white"
             }
            },
            "type": "table"
           }
          ]
         },
         "layout": {
          "annotationdefaults": {
           "arrowcolor": "#2a3f5f",
           "arrowhead": 0,
           "arrowwidth": 1
          },
          "autotypenumbers": "strict",
          "coloraxis": {
           "colorbar": {
            "outlinewidth": 0,
            "ticks": ""
           }
          },
          "colorscale": {
           "diverging": [
            [
             0,
             "#8e0152"
            ],
            [
             0.1,
             "#c51b7d"
            ],
            [
             0.2,
             "#de77ae"
            ],
            [
             0.3,
             "#f1b6da"
            ],
            [
             0.4,
             "#fde0ef"
            ],
            [
             0.5,
             "#f7f7f7"
            ],
            [
             0.6,
             "#e6f5d0"
            ],
            [
             0.7,
             "#b8e186"
            ],
            [
             0.8,
             "#7fbc41"
            ],
            [
             0.9,
             "#4d9221"
            ],
            [
             1,
             "#276419"
            ]
           ],
           "sequential": [
            [
             0,
             "#0d0887"
            ],
            [
             0.1111111111111111,
             "#46039f"
            ],
            [
             0.2222222222222222,
             "#7201a8"
            ],
            [
             0.3333333333333333,
             "#9c179e"
            ],
            [
             0.4444444444444444,
             "#bd3786"
            ],
            [
             0.5555555555555556,
             "#d8576b"
            ],
            [
             0.6666666666666666,
             "#ed7953"
            ],
            [
             0.7777777777777778,
             "#fb9f3a"
            ],
            [
             0.8888888888888888,
             "#fdca26"
            ],
            [
             1,
             "#f0f921"
            ]
           ],
           "sequentialminus": [
            [
             0,
             "#0d0887"
            ],
            [
             0.1111111111111111,
             "#46039f"
            ],
            [
             0.2222222222222222,
             "#7201a8"
            ],
            [
             0.3333333333333333,
             "#9c179e"
            ],
            [
             0.4444444444444444,
             "#bd3786"
            ],
            [
             0.5555555555555556,
             "#d8576b"
            ],
            [
             0.6666666666666666,
             "#ed7953"
            ],
            [
             0.7777777777777778,
             "#fb9f3a"
            ],
            [
             0.8888888888888888,
             "#fdca26"
            ],
            [
             1,
             "#f0f921"
            ]
           ]
          },
          "colorway": [
           "#636efa",
           "#EF553B",
           "#00cc96",
           "#ab63fa",
           "#FFA15A",
           "#19d3f3",
           "#FF6692",
           "#B6E880",
           "#FF97FF",
           "#FECB52"
          ],
          "font": {
           "color": "#2a3f5f"
          },
          "geo": {
           "bgcolor": "white",
           "lakecolor": "white",
           "landcolor": "#E5ECF6",
           "showlakes": true,
           "showland": true,
           "subunitcolor": "white"
          },
          "hoverlabel": {
           "align": "left"
          },
          "hovermode": "closest",
          "mapbox": {
           "style": "light"
          },
          "paper_bgcolor": "white",
          "plot_bgcolor": "#E5ECF6",
          "polar": {
           "angularaxis": {
            "gridcolor": "white",
            "linecolor": "white",
            "ticks": ""
           },
           "bgcolor": "#E5ECF6",
           "radialaxis": {
            "gridcolor": "white",
            "linecolor": "white",
            "ticks": ""
           }
          },
          "scene": {
           "xaxis": {
            "backgroundcolor": "#E5ECF6",
            "gridcolor": "white",
            "gridwidth": 2,
            "linecolor": "white",
            "showbackground": true,
            "ticks": "",
            "zerolinecolor": "white"
           },
           "yaxis": {
            "backgroundcolor": "#E5ECF6",
            "gridcolor": "white",
            "gridwidth": 2,
            "linecolor": "white",
            "showbackground": true,
            "ticks": "",
            "zerolinecolor": "white"
           },
           "zaxis": {
            "backgroundcolor": "#E5ECF6",
            "gridcolor": "white",
            "gridwidth": 2,
            "linecolor": "white",
            "showbackground": true,
            "ticks": "",
            "zerolinecolor": "white"
           }
          },
          "shapedefaults": {
           "line": {
            "color": "#2a3f5f"
           }
          },
          "ternary": {
           "aaxis": {
            "gridcolor": "white",
            "linecolor": "white",
            "ticks": ""
           },
           "baxis": {
            "gridcolor": "white",
            "linecolor": "white",
            "ticks": ""
           },
           "bgcolor": "#E5ECF6",
           "caxis": {
            "gridcolor": "white",
            "linecolor": "white",
            "ticks": ""
           }
          },
          "title": {
           "x": 0.05
          },
          "xaxis": {
           "automargin": true,
           "gridcolor": "white",
           "linecolor": "white",
           "ticks": "",
           "title": {
            "standoff": 15
           },
           "zerolinecolor": "white",
           "zerolinewidth": 2
          },
          "yaxis": {
           "automargin": true,
           "gridcolor": "white",
           "linecolor": "white",
           "ticks": "",
           "title": {
            "standoff": 15
           },
           "zerolinecolor": "white",
           "zerolinewidth": 2
          }
         }
        },
        "xaxis": {
         "anchor": "y",
         "autorange": true,
         "domain": [
          0,
          1
         ],
         "range": [
          -0.5,
          124.5
         ],
         "title": {
          "text": "value"
         },
         "type": "linear"
        },
        "yaxis": {
         "anchor": "x",
         "autorange": true,
         "domain": [
          0,
          1
         ],
         "range": [
          0,
          55.78947368421053
         ],
         "title": {
          "text": "count"
         }
        }
       }
      },
      "image/png": "[encoded data removed]",
      "text/html": [
       "<div>                            <div id=\"d5871055-6a5e-4fa5-9ad5-b758382caad2\" class=\"plotly-graph-div\" style=\"height:525px; width:100%;\"></div>            <script type=\"text/javascript\">                require([\"plotly\"], function(Plotly) {                    window.PLOTLYENV=window.PLOTLYENV || {};                                    if (document.getElementById(\"d5871055-6a5e-4fa5-9ad5-b758382caad2\")) {                    Plotly.newPlot(                        \"d5871055-6a5e-4fa5-9ad5-b758382caad2\",                        [{\"alignmentgroup\":\"True\",\"bingroup\":\"x\",\"hovertemplate\":\"variable=age<br>value=%{x}<br>count=%{y}<extra></extra>\",\"legendgroup\":\"age\",\"marker\":{\"color\":\"#636efa\",\"pattern\":{\"shape\":\"\"}},\"name\":\"age\",\"offsetgroup\":\"age\",\"orientation\":\"v\",\"showlegend\":true,\"x\":[65.0,85.0,90.0,80.0,100.0,35.0,0.0,65.0,15.0,65.0,20.0,60.0,15.0,95.0,80.0,70.0,75.0,45.0,60.0,60.0,65.0,65.0,55.0,30.0,75.0,65.0,55.0,30.0,65.0,35.0,55.0,120.0,75.0,60.0,95.0,80.0,75.0,45.0,50.0,55.0,50.0,70.0,55.0,55.0,55.0,95.0,65.0,75.0,40.0,95.0,30.0,35.0,55.0,85.0,90.0,60.0,75.0,70.0,80.0,75.0,55.0,65.0,50.0,30.0,10.0,80.0,70.0,60.0,80.0,55.0,15.0,65.0,85.0,30.0,30.0,55.0,65.0,90.0,35.0,75.0,60.0,95.0,65.0,65.0,60.0,15.0,100.0,90.0,15.0,30.0,65.0,50.0,35.0,85.0,25.0,55.0,15.0,10.0,15.0,70.0,85.0,90.0,85.0,50.0,40.0,65.0,75.0,55.0,75.0,90.0,40.0,30.0,70.0,75.0,85.0,35.0,25.0,80.0,90.0,80.0,75.0,95.0,80.0,75.0,85.0,85.0,80.0,40.0,85.0,90.0,90.0,60.0,50.0,75.0,90.0,65.0,45.0,75.0,70.0,65.0,40.0,20.0,75.0,60.0,80.0,75.0,75.0,60.0,80.0,65.0,70.0,65.0,70.0,50.0,70.0,85.0,35.0,75.0,55.0,55.0,75.0,60.0,80.0,75.0,50.0,85.0,70.0,25.0,60.0,20.0,70.0,45.0,35.0,75.0,65.0,85.0,65.0,30.0,70.0,65.0,25.0,85.0,80.0,60.0,80.0,85.0,55.0,20.0,65.0,75.0,45.0,80.0,60.0,70.0,55.0,20.0,25.0,75.0,25.0,45.0,65.0,45.0,60.0,75.0,45.0,50.0,80.0,80.0,35.0,55.0,25.0,70.0,70.0,50.0,65.0,60.0,60.0,60.0,60.0,65.0,75.0,40.0,90.0,75.0,20.0,85.0,65.0,80.0,70.0,75.0,80.0,65.0,45.0,70.0,30.0,60.0,75.0,45.0,60.0,75.0,40.0,55.0,40.0,60.0,65.0,70.0,60.0,70.0,90.0,65.0,85.0,65.0,70.0,45.0,90.0,30.0,65.0,75.0,60.0,50.0,80.0,70.0,65.0,85.0,85.0,55.0,10.0,70.0,5.0,80.0,60.0,90.0,75.0,45.0,15.0,85.0,15.0,15.0,85.0,15.0,90.0,20.0,85.0,70.0,20.0,15.0,95.0,20.0,80.0,85.0,90.0,75.0,75.0,15.0,55.0,10.0,50.0,80.0,90.0,70.0,65.0,35.0,80.0,85.0,55.0,70.0,85.0,75.0,85.0,50.0,90.0,50.0,80.0,85.0,15.0,85.0,5.0,75.0,15.0,85.0,75.0,15.0,10.0,5.0,80.0,15.0,80.0,15.0,70.0,60.0,5.0,15.0,15.0,15.0,85.0,75.0,45.0,10.0,10.0,15.0,15.0,15.0,65.0,55.0,0.0,45.0,20.0,70.0,35.0,35.0,20.0,55.0,90.0,40.0,55.0,35.0,50.0,60.0,10.0,60.0,75.0,75.0,65.0,80.0,55.0,30.0,65.0,40.0,65.0,70.0,70.0,60.0,45.0,55.0,45.0,40.0,55.0,55.0,55.0,45.0,55.0,65.0,85.0,75.0,5.0,55.0,55.0,80.0,20.0,50.0,30.0,80.0,65.0,30.0,80.0,25.0,65.0,60.0,45.0,75.0,65.0,65.0,80.0,45.0,50.0,60.0,60.0,30.0,75.0,75.0,60.0,65.0,55.0,70.0,30.0,65.0,65.0,75.0,75.0,50.0,70.0,50.0,35.0,60.0,35.0,60.0,65.0,70.0,30.0,70.0,60.0,85.0,30.0,20.0,65.0,40.0,45.0,60.0,45.0,65.0,85.0,25.0,30.0,70.0,65.0,25.0,20.0,25.0,60.0,30.0,70.0,40.0,65.0,30.0,90.0,65.0,20.0,60.0,55.0,80.0,70.0,85.0,50.0,55.0,65.0,70.0,75.0,75.0],\"xaxis\":\"x\",\"yaxis\":\"y\",\"type\":\"histogram\"}],                        {\"template\":{\"data\":{\"histogram2dcontour\":[{\"type\":\"histogram2dcontour\",\"colorbar\":{\"outlinewidth\":0,\"ticks\":\"\"},\"colorscale\":[[0.0,\"#0d0887\"],[0.1111111111111111,\"#46039f\"],[0.2222222222222222,\"#7201a8\"],[0.3333333333333333,\"#9c179e\"],[0.4444444444444444,\"#bd3786\"],[0.5555555555555556,\"#d8576b\"],[0.6666666666666666,\"#ed7953\"],[0.7777777777777778,\"#fb9f3a\"],[0.8888888888888888,\"#fdca26\"],[1.0,\"#f0f921\"]]}],\"choropleth\":[{\"type\":\"choropleth\",\"colorbar\":{\"outlinewidth\":0,\"ticks\":\"\"}}],\"histogram2d\":[{\"type\":\"histogram2d\",\"colorbar\":{\"outlinewidth\":0,\"ticks\":\"\"},\"colorscale\":[[0.0,\"#0d0887\"],[0.1111111111111111,\"#46039f\"],[0.2222222222222222,\"#7201a8\"],[0.3333333333333333,\"#9c179e\"],[0.4444444444444444,\"#bd3786\"],[0.5555555555555556,\"#d8576b\"],[0.6666666666666666,\"#ed7953\"],[0.7777777777777778,\"#fb9f3a\"],[0.8888888888888888,\"#fdca26\"],[1.0,\"#f0f921\"]]}],\"heatmap\":[{\"type\":\"heatmap\",\"colorbar\":{\"outlinewidth\":0,\"ticks\":\"\"},\"colorscale\":[[0.0,\"#0d0887\"],[0.1111111111111111,\"#46039f\"],[0.2222222222222222,\"#7201a8\"],[0.3333333333333333,\"#9c179e\"],[0.4444444444444444,\"#bd3786\"],[0.5555555555555556,\"#d8576b\"],[0.6666666666666666,\"#ed7953\"],[0.7777777777777778,\"#fb9f3a\"],[0.8888888888888888,\"#fdca26\"],[1.0,\"#f0f921\"]]}],\"heatmapgl\":[{\"type\":\"heatmapgl\",\"colorbar\":{\"outlinewidth\":0,\"ticks\":\"\"},\"colorscale\":[[0.0,\"#0d0887\"],[0.1111111111111111,\"#46039f\"],[0.2222222222222222,\"#7201a8\"],[0.3333333333333333,\"#9c179e\"],[0.4444444444444444,\"#bd3786\"],[0.5555555555555556,\"#d8576b\"],[0.6666666666666666,\"#ed7953\"],[0.7777777777777778,\"#fb9f3a\"],[0.8888888888888888,\"#fdca26\"],[1.0,\"#f0f921\"]]}],\"contourcarpet\":[{\"type\":\"contourcarpet\",\"colorbar\":{\"outlinewidth\":0,\"ticks\":\"\"}}],\"contour\":[{\"type\":\"contour\",\"colorbar\":{\"outlinewidth\":0,\"ticks\":\"\"},\"colorscale\":[[0.0,\"#0d0887\"],[0.1111111111111111,\"#46039f\"],[0.2222222222222222,\"#7201a8\"],[0.3333333333333333,\"#9c179e\"],[0.4444444444444444,\"#bd3786\"],[0.5555555555555556,\"#d8576b\"],[0.6666666666666666,\"#ed7953\"],[0.7777777777777778,\"#fb9f3a\"],[0.8888888888888888,\"#fdca26\"],[1.0,\"#f0f921\"]]}],\"surface\":[{\"type\":\"surface\",\"colorbar\":{\"outlinewidth\":0,\"ticks\":\"\"},\"colorscale\":[[0.0,\"#0d0887\"],[0.1111111111111111,\"#46039f\"],[0.2222222222222222,\"#7201a8\"],[0.3333333333333333,\"#9c179e\"],[0.4444444444444444,\"#bd3786\"],[0.5555555555555556,\"#d8576b\"],[0.6666666666666666,\"#ed7953\"],[0.7777777777777778,\"#fb9f3a\"],[0.8888888888888888,\"#fdca26\"],[1.0,\"#f0f921\"]]}],\"mesh3d\":[{\"type\":\"mesh3d\",\"colorbar\":{\"outlinewidth\":0,\"ticks\":\"\"}}],\"scatter\":[{\"fillpattern\":{\"fillmode\":\"overlay\",\"size\":10,\"solidity\":0.2},\"type\":\"scatter\"}],\"parcoords\":[{\"type\":\"parcoords\",\"line\":{\"colorbar\":{\"outlinewidth\":0,\"ticks\":\"\"}}}],\"scatterpolargl\":[{\"type\":\"scatterpolargl\",\"marker\":{\"colorbar\":{\"outlinewidth\":0,\"ticks\":\"\"}}}],\"bar\":[{\"error_x\":{\"color\":\"#2a3f5f\"},\"error_y\":{\"color\":\"#2a3f5f\"},\"marker\":{\"line\":{\"color\":\"#E5ECF6\",\"width\":0.5},\"pattern\":{\"fillmode\":\"overlay\",\"size\":10,\"solidity\":0.2}},\"type\":\"bar\"}],\"scattergeo\":[{\"type\":\"scattergeo\",\"marker\":{\"colorbar\":{\"outlinewidth\":0,\"ticks\":\"\"}}}],\"scatterpolar\":[{\"type\":\"scatterpolar\",\"marker\":{\"colorbar\":{\"outlinewidth\":0,\"ticks\":\"\"}}}],\"histogram\":[{\"marker\":{\"pattern\":{\"fillmode\":\"overlay\",\"size\":10,\"solidity\":0.2}},\"type\":\"histogram\"}],\"scattergl\":[{\"type\":\"scattergl\",\"marker\":{\"colorbar\":{\"outlinewidth\":0,\"ticks\":\"\"}}}],\"scatter3d\":[{\"type\":\"scatter3d\",\"line\":{\"colorbar\":{\"outlinewidth\":0,\"ticks\":\"\"}},\"marker\":{\"colorbar\":{\"outlinewidth\":0,\"ticks\":\"\"}}}],\"scattermapbox\":[{\"type\":\"scattermapbox\",\"marker\":{\"colorbar\":{\"outlinewidth\":0,\"ticks\":\"\"}}}],\"scatterternary\":[{\"type\":\"scatterternary\",\"marker\":{\"colorbar\":{\"outlinewidth\":0,\"ticks\":\"\"}}}],\"scattercarpet\":[{\"type\":\"scattercarpet\",\"marker\":{\"colorbar\":{\"outlinewidth\":0,\"ticks\":\"\"}}}],\"carpet\":[{\"aaxis\":{\"endlinecolor\":\"#2a3f5f\",\"gridcolor\":\"white\",\"linecolor\":\"white\",\"minorgridcolor\":\"white\",\"startlinecolor\":\"#2a3f5f\"},\"baxis\":{\"endlinecolor\":\"#2a3f5f\",\"gridcolor\":\"white\",\"linecolor\":\"white\",\"minorgridcolor\":\"white\",\"startlinecolor\":\"#2a3f5f\"},\"type\":\"carpet\"}],\"table\":[{\"cells\":{\"fill\":{\"color\":\"#EBF0F8\"},\"line\":{\"color\":\"white\"}},\"header\":{\"fill\":{\"color\":\"#C8D4E3\"},\"line\":{\"color\":\"white\"}},\"type\":\"table\"}],\"barpolar\":[{\"marker\":{\"line\":{\"color\":\"#E5ECF6\",\"width\":0.5},\"pattern\":{\"fillmode\":\"overlay\",\"size\":10,\"solidity\":0.2}},\"type\":\"barpolar\"}],\"pie\":[{\"automargin\":true,\"type\":\"pie\"}]},\"layout\":{\"autotypenumbers\":\"strict\",\"colorway\":[\"#636efa\",\"#EF553B\",\"#00cc96\",\"#ab63fa\",\"#FFA15A\",\"#19d3f3\",\"#FF6692\",\"#B6E880\",\"#FF97FF\",\"#FECB52\"],\"font\":{\"color\":\"#2a3f5f\"},\"hovermode\":\"closest\",\"hoverlabel\":{\"align\":\"left\"},\"paper_bgcolor\":\"white\",\"plot_bgcolor\":\"#E5ECF6\",\"polar\":{\"bgcolor\":\"#E5ECF6\",\"angularaxis\":{\"gridcolor\":\"white\",\"linecolor\":\"white\",\"ticks\":\"\"},\"radialaxis\":{\"gridcolor\":\"white\",\"linecolor\":\"white\",\"ticks\":\"\"}},\"ternary\":{\"bgcolor\":\"#E5ECF6\",\"aaxis\":{\"gridcolor\":\"white\",\"linecolor\":\"white\",\"ticks\":\"\"},\"baxis\":{\"gridcolor\":\"white\",\"linecolor\":\"white\",\"ticks\":\"\"},\"caxis\":{\"gridcolor\":\"white\",\"linecolor\":\"white\",\"ticks\":\"\"}},\"coloraxis\":{\"colorbar\":{\"outlinewidth\":0,\"ticks\":\"\"}},\"colorscale\":{\"sequential\":[[0.0,\"#0d0887\"],[0.1111111111111111,\"#46039f\"],[0.2222222222222222,\"#7201a8\"],[0.3333333333333333,\"#9c179e\"],[0.4444444444444444,\"#bd3786\"],[0.5555555555555556,\"#d8576b\"],[0.6666666666666666,\"#ed7953\"],[0.7777777777777778,\"#fb9f3a\"],[0.8888888888888888,\"#fdca26\"],[1.0,\"#f0f921\"]],\"sequentialminus\":[[0.0,\"#0d0887\"],[0.1111111111111111,\"#46039f\"],[0.2222222222222222,\"#7201a8\"],[0.3333333333333333,\"#9c179e\"],[0.4444444444444444,\"#bd3786\"],[0.5555555555555556,\"#d8576b\"],[0.6666666666666666,\"#ed7953\"],[0.7777777777777778,\"#fb9f3a\"],[0.8888888888888888,\"#fdca26\"],[1.0,\"#f0f921\"]],\"diverging\":[[0,\"#8e0152\"],[0.1,\"#c51b7d\"],[0.2,\"#de77ae\"],[0.3,\"#f1b6da\"],[0.4,\"#fde0ef\"],[0.5,\"#f7f7f7\"],[0.6,\"#e6f5d0\"],[0.7,\"#b8e186\"],[0.8,\"#7fbc41\"],[0.9,\"#4d9221\"],[1,\"#276419\"]]},\"xaxis\":{\"gridcolor\":\"white\",\"linecolor\":\"white\",\"ticks\":\"\",\"title\":{\"standoff\":15},\"zerolinecolor\":\"white\",\"automargin\":true,\"zerolinewidth\":2},\"yaxis\":{\"gridcolor\":\"white\",\"linecolor\":\"white\",\"ticks\":\"\",\"title\":{\"standoff\":15},\"zerolinecolor\":\"white\",\"automargin\":true,\"zerolinewidth\":2},\"scene\":{\"xaxis\":{\"backgroundcolor\":\"#E5ECF6\",\"gridcolor\":\"white\",\"linecolor\":\"white\",\"showbackground\":true,\"ticks\":\"\",\"zerolinecolor\":\"white\",\"gridwidth\":2},\"yaxis\":{\"backgroundcolor\":\"#E5ECF6\",\"gridcolor\":\"white\",\"linecolor\":\"white\",\"showbackground\":true,\"ticks\":\"\",\"zerolinecolor\":\"white\",\"gridwidth\":2},\"zaxis\":{\"backgroundcolor\":\"#E5ECF6\",\"gridcolor\":\"white\",\"linecolor\":\"white\",\"showbackground\":true,\"ticks\":\"\",\"zerolinecolor\":\"white\",\"gridwidth\":2}},\"shapedefaults\":{\"line\":{\"color\":\"#2a3f5f\"}},\"annotationdefaults\":{\"arrowcolor\":\"#2a3f5f\",\"arrowhead\":0,\"arrowwidth\":1},\"geo\":{\"bgcolor\":\"white\",\"landcolor\":\"#E5ECF6\",\"subunitcolor\":\"white\",\"showland\":true,\"showlakes\":true,\"lakecolor\":\"white\"},\"title\":{\"x\":0.05},\"mapbox\":{\"style\":\"light\"}}},\"xaxis\":{\"anchor\":\"y\",\"domain\":[0.0,1.0],\"title\":{\"text\":\"value\"}},\"yaxis\":{\"anchor\":\"x\",\"domain\":[0.0,1.0],\"title\":{\"text\":\"count\"}},\"legend\":{\"title\":{\"text\":\"variable\"},\"tracegroupgap\":0},\"margin\":{\"t\":60},\"barmode\":\"relative\"},                        {\"responsive\": true}                    ).then(function(){\n",
       "                            \n",
       "var gd = document.getElementById('d5871055-6a5e-4fa5-9ad5-b758382caad2');\n",
       "var x = new MutationObserver(function (mutations, observer) {{\n",
       "        var display = window.getComputedStyle(gd).display;\n",
       "        if (!display || display === 'none') {{\n",
       "            console.log([gd, 'removed!']);\n",
       "            Plotly.purge(gd);\n",
       "            observer.disconnect();\n",
       "        }}\n",
       "}});\n",
       "\n",
       "// Listen for the removal of the full notebook cells\n",
       "var notebookContainer = gd.closest('#notebook-container');\n",
       "if (notebookContainer) {{\n",
       "    x.observe(notebookContainer, {childList: true});\n",
       "}}\n",
       "\n",
       "// Listen for the clearing of the current output cell\n",
       "var outputEl = gd.closest('.output');\n",
       "if (outputEl) {{\n",
       "    x.observe(outputEl, {childList: true});\n",
       "}}\n",
       "\n",
       "                        })                };                });            </script>        </div>"
      ]
     },
     "metadata": {},
     "output_type": "display_data"
    }
   ],
   "source": [
    "px.histogram(df.age)"
   ]
  },
  {
   "cell_type": "code",
   "execution_count": 21,
   "id": "d0268154-b5a0-445f-9a69-9f6d3d32e4f1",
   "metadata": {
    "execution": {
     "iopub.execute_input": "2022-09-08T23:00:13.395993Z",
     "iopub.status.busy": "2022-09-08T23:00:13.395036Z",
     "iopub.status.idle": "2022-09-08T23:00:13.459603Z",
     "shell.execute_reply": "2022-09-08T23:00:13.458733Z",
     "shell.execute_reply.started": "2022-09-08T23:00:13.395954Z"
    },
    "tags": []
   },
   "outputs": [
    {
     "data": {
      "application/vnd.plotly.v1+json": {
       "config": {
        "plotlyServerURL": "https://plot.ly"
       },
       "data": [
        {
         "alignmentgroup": "True",
         "bingroup": "x",
         "hovertemplate": "variable=pulse<br>value=%{x}<br>count=%{y}<extra></extra>",
         "legendgroup": "pulse",
         "marker": {
          "color": "#636efa",
          "pattern": {
           "shape": ""
          }
         },
         "name": "pulse",
         "offsetgroup": "pulse",
         "orientation": "v",
         "showlegend": true,
         "type": "histogram",
         "x": [
          86,
          54,
          72,
          81,
          null,
          68,
          149,
          88,
          66,
          72,
          null,
          55,
          104,
          101,
          76,
          null,
          null,
          85,
          null,
          66,
          null,
          72,
          52,
          103,
          55,
          69,
          58,
          99,
          98,
          54,
          90,
          61,
          69,
          115,
          null,
          73,
          79,
          72,
          123,
          77,
          87,
          null,
          103,
          115,
          70,
          79,
          74,
          79,
          90,
          65,
          62,
          89,
          80,
          73,
          78,
          80,
          64,
          67,
          91,
          null,
          80,
          null,
          89,
          64,
          78,
          null,
          77,
          86,
          78,
          102,
          109,
          84,
          65,
          124,
          null,
          58,
          81,
          59,
          100,
          77,
          58,
          57,
          59,
          73,
          null,
          72,
          67,
          76,
          107,
          86,
          79,
          88,
          86,
          68,
          79,
          null,
          110,
          null,
          83,
          87,
          null,
          null,
          73,
          117,
          121,
          null,
          91,
          70,
          63,
          75,
          98,
          108,
          null,
          86,
          82,
          81,
          88,
          69,
          100,
          78,
          65,
          88,
          63,
          78,
          69,
          74,
          58,
          94,
          94,
          98,
          78,
          67,
          82,
          85,
          65,
          63,
          87,
          81,
          80,
          92,
          null,
          null,
          80,
          54,
          88,
          86,
          73,
          84,
          86,
          75,
          82,
          44,
          76,
          57,
          57,
          72,
          61,
          65,
          64,
          68,
          73,
          75,
          89,
          96,
          98,
          72,
          83,
          null,
          89,
          111,
          88,
          null,
          109,
          68,
          79,
          80,
          68,
          65,
          82,
          106,
          137,
          81,
          89,
          91,
          69,
          100,
          68,
          65,
          83,
          null,
          70,
          73,
          83,
          68,
          102,
          65,
          80,
          66,
          105,
          77,
          null,
          92,
          78,
          88,
          68,
          77,
          null,
          null,
          null,
          92,
          71,
          73,
          88,
          96,
          94,
          83,
          67,
          78,
          73,
          98,
          78,
          104,
          97,
          91,
          93,
          86,
          null,
          45,
          108,
          66,
          81,
          79,
          84,
          null,
          81,
          82,
          76,
          61,
          79,
          100,
          105,
          67,
          102,
          71,
          null,
          null,
          75,
          76,
          55,
          70,
          75,
          null,
          64,
          60,
          76,
          99,
          79,
          71,
          90,
          86,
          86,
          72,
          null,
          79,
          60,
          69,
          95,
          59,
          123,
          67,
          62,
          null,
          97,
          null,
          77,
          84,
          66,
          98,
          77,
          89,
          97,
          null,
          79,
          91,
          null,
          78,
          61,
          62,
          77,
          65,
          92,
          75,
          65,
          141,
          101,
          100,
          null,
          86,
          71,
          78,
          83,
          119,
          96,
          92,
          99,
          90,
          88,
          null,
          50,
          null,
          109,
          99,
          64,
          56,
          106,
          82,
          null,
          84,
          88,
          72,
          70,
          107,
          85,
          null,
          73,
          100,
          71,
          97,
          87,
          105,
          null,
          86,
          null,
          103,
          68,
          79,
          69,
          100,
          null,
          108,
          128,
          89,
          null,
          58,
          127,
          96,
          133,
          83,
          70,
          70,
          83,
          119,
          null,
          64,
          85,
          62,
          96,
          85,
          112,
          75,
          null,
          null,
          77,
          71,
          80,
          114,
          76,
          80,
          82,
          77,
          101,
          86,
          108,
          132,
          63,
          63,
          69,
          null,
          89,
          84,
          91,
          79,
          77,
          72,
          null,
          88,
          87,
          96,
          83,
          75,
          80,
          81,
          82,
          75,
          67,
          106,
          59,
          87,
          76,
          84,
          80,
          49,
          59,
          null,
          57,
          101,
          69,
          62,
          null,
          66,
          91,
          91,
          98,
          78,
          80,
          87,
          60,
          75,
          70,
          60,
          55,
          67,
          110,
          116,
          94,
          90,
          74,
          83,
          89,
          74,
          62,
          null,
          94,
          96,
          96,
          88,
          null,
          76,
          null,
          58,
          null,
          55,
          96,
          115,
          68,
          null,
          null,
          null,
          73,
          80,
          116,
          86,
          52,
          null,
          62,
          86,
          94,
          null,
          63,
          76,
          88,
          null,
          85,
          79,
          88,
          85,
          57,
          100
         ],
         "xaxis": "x",
         "yaxis": "y"
        }
       ],
       "layout": {
        "autosize": true,
        "barmode": "relative",
        "legend": {
         "title": {
          "text": "variable"
         },
         "tracegroupgap": 0
        },
        "margin": {
         "t": 60
        },
        "template": {
         "data": {
          "bar": [
           {
            "error_x": {
             "color": "#2a3f5f"
            },
            "error_y": {
             "color": "#2a3f5f"
            },
            "marker": {
             "line": {
              "color": "#E5ECF6",
              "width": 0.5
             },
             "pattern": {
              "fillmode": "overlay",
              "size": 10,
              "solidity": 0.2
             }
            },
            "type": "bar"
           }
          ],
          "barpolar": [
           {
            "marker": {
             "line": {
              "color": "#E5ECF6",
              "width": 0.5
             },
             "pattern": {
              "fillmode": "overlay",
              "size": 10,
              "solidity": 0.2
             }
            },
            "type": "barpolar"
           }
          ],
          "carpet": [
           {
            "aaxis": {
             "endlinecolor": "#2a3f5f",
             "gridcolor": "white",
             "linecolor": "white",
             "minorgridcolor": "white",
             "startlinecolor": "#2a3f5f"
            },
            "baxis": {
             "endlinecolor": "#2a3f5f",
             "gridcolor": "white",
             "linecolor": "white",
             "minorgridcolor": "white",
             "startlinecolor": "#2a3f5f"
            },
            "type": "carpet"
           }
          ],
          "choropleth": [
           {
            "colorbar": {
             "outlinewidth": 0,
             "ticks": ""
            },
            "type": "choropleth"
           }
          ],
          "contour": [
           {
            "colorbar": {
             "outlinewidth": 0,
             "ticks": ""
            },
            "colorscale": [
             [
              0,
              "#0d0887"
             ],
             [
              0.1111111111111111,
              "#46039f"
             ],
             [
              0.2222222222222222,
              "#7201a8"
             ],
             [
              0.3333333333333333,
              "#9c179e"
             ],
             [
              0.4444444444444444,
              "#bd3786"
             ],
             [
              0.5555555555555556,
              "#d8576b"
             ],
             [
              0.6666666666666666,
              "#ed7953"
             ],
             [
              0.7777777777777778,
              "#fb9f3a"
             ],
             [
              0.8888888888888888,
              "#fdca26"
             ],
             [
              1,
              "#f0f921"
             ]
            ],
            "type": "contour"
           }
          ],
          "contourcarpet": [
           {
            "colorbar": {
             "outlinewidth": 0,
             "ticks": ""
            },
            "type": "contourcarpet"
           }
          ],
          "heatmap": [
           {
            "colorbar": {
             "outlinewidth": 0,
             "ticks": ""
            },
            "colorscale": [
             [
              0,
              "#0d0887"
             ],
             [
              0.1111111111111111,
              "#46039f"
             ],
             [
              0.2222222222222222,
              "#7201a8"
             ],
             [
              0.3333333333333333,
              "#9c179e"
             ],
             [
              0.4444444444444444,
              "#bd3786"
             ],
             [
              0.5555555555555556,
              "#d8576b"
             ],
             [
              0.6666666666666666,
              "#ed7953"
             ],
             [
              0.7777777777777778,
              "#fb9f3a"
             ],
             [
              0.8888888888888888,
              "#fdca26"
             ],
             [
              1,
              "#f0f921"
             ]
            ],
            "type": "heatmap"
           }
          ],
          "heatmapgl": [
           {
            "colorbar": {
             "outlinewidth": 0,
             "ticks": ""
            },
            "colorscale": [
             [
              0,
              "#0d0887"
             ],
             [
              0.1111111111111111,
              "#46039f"
             ],
             [
              0.2222222222222222,
              "#7201a8"
             ],
             [
              0.3333333333333333,
              "#9c179e"
             ],
             [
              0.4444444444444444,
              "#bd3786"
             ],
             [
              0.5555555555555556,
              "#d8576b"
             ],
             [
              0.6666666666666666,
              "#ed7953"
             ],
             [
              0.7777777777777778,
              "#fb9f3a"
             ],
             [
              0.8888888888888888,
              "#fdca26"
             ],
             [
              1,
              "#f0f921"
             ]
            ],
            "type": "heatmapgl"
           }
          ],
          "histogram": [
           {
            "marker": {
             "pattern": {
              "fillmode": "overlay",
              "size": 10,
              "solidity": 0.2
             }
            },
            "type": "histogram"
           }
          ],
          "histogram2d": [
           {
            "colorbar": {
             "outlinewidth": 0,
             "ticks": ""
            },
            "colorscale": [
             [
              0,
              "#0d0887"
             ],
             [
              0.1111111111111111,
              "#46039f"
             ],
             [
              0.2222222222222222,
              "#7201a8"
             ],
             [
              0.3333333333333333,
              "#9c179e"
             ],
             [
              0.4444444444444444,
              "#bd3786"
             ],
             [
              0.5555555555555556,
              "#d8576b"
             ],
             [
              0.6666666666666666,
              "#ed7953"
             ],
             [
              0.7777777777777778,
              "#fb9f3a"
             ],
             [
              0.8888888888888888,
              "#fdca26"
             ],
             [
              1,
              "#f0f921"
             ]
            ],
            "type": "histogram2d"
           }
          ],
          "histogram2dcontour": [
           {
            "colorbar": {
             "outlinewidth": 0,
             "ticks": ""
            },
            "colorscale": [
             [
              0,
              "#0d0887"
             ],
             [
              0.1111111111111111,
              "#46039f"
             ],
             [
              0.2222222222222222,
              "#7201a8"
             ],
             [
              0.3333333333333333,
              "#9c179e"
             ],
             [
              0.4444444444444444,
              "#bd3786"
             ],
             [
              0.5555555555555556,
              "#d8576b"
             ],
             [
              0.6666666666666666,
              "#ed7953"
             ],
             [
              0.7777777777777778,
              "#fb9f3a"
             ],
             [
              0.8888888888888888,
              "#fdca26"
             ],
             [
              1,
              "#f0f921"
             ]
            ],
            "type": "histogram2dcontour"
           }
          ],
          "mesh3d": [
           {
            "colorbar": {
             "outlinewidth": 0,
             "ticks": ""
            },
            "type": "mesh3d"
           }
          ],
          "parcoords": [
           {
            "line": {
             "colorbar": {
              "outlinewidth": 0,
              "ticks": ""
             }
            },
            "type": "parcoords"
           }
          ],
          "pie": [
           {
            "automargin": true,
            "type": "pie"
           }
          ],
          "scatter": [
           {
            "fillpattern": {
             "fillmode": "overlay",
             "size": 10,
             "solidity": 0.2
            },
            "type": "scatter"
           }
          ],
          "scatter3d": [
           {
            "line": {
             "colorbar": {
              "outlinewidth": 0,
              "ticks": ""
             }
            },
            "marker": {
             "colorbar": {
              "outlinewidth": 0,
              "ticks": ""
             }
            },
            "type": "scatter3d"
           }
          ],
          "scattercarpet": [
           {
            "marker": {
             "colorbar": {
              "outlinewidth": 0,
              "ticks": ""
             }
            },
            "type": "scattercarpet"
           }
          ],
          "scattergeo": [
           {
            "marker": {
             "colorbar": {
              "outlinewidth": 0,
              "ticks": ""
             }
            },
            "type": "scattergeo"
           }
          ],
          "scattergl": [
           {
            "marker": {
             "colorbar": {
              "outlinewidth": 0,
              "ticks": ""
             }
            },
            "type": "scattergl"
           }
          ],
          "scattermapbox": [
           {
            "marker": {
             "colorbar": {
              "outlinewidth": 0,
              "ticks": ""
             }
            },
            "type": "scattermapbox"
           }
          ],
          "scatterpolar": [
           {
            "marker": {
             "colorbar": {
              "outlinewidth": 0,
              "ticks": ""
             }
            },
            "type": "scatterpolar"
           }
          ],
          "scatterpolargl": [
           {
            "marker": {
             "colorbar": {
              "outlinewidth": 0,
              "ticks": ""
             }
            },
            "type": "scatterpolargl"
           }
          ],
          "scatterternary": [
           {
            "marker": {
             "colorbar": {
              "outlinewidth": 0,
              "ticks": ""
             }
            },
            "type": "scatterternary"
           }
          ],
          "surface": [
           {
            "colorbar": {
             "outlinewidth": 0,
             "ticks": ""
            },
            "colorscale": [
             [
              0,
              "#0d0887"
             ],
             [
              0.1111111111111111,
              "#46039f"
             ],
             [
              0.2222222222222222,
              "#7201a8"
             ],
             [
              0.3333333333333333,
              "#9c179e"
             ],
             [
              0.4444444444444444,
              "#bd3786"
             ],
             [
              0.5555555555555556,
              "#d8576b"
             ],
             [
              0.6666666666666666,
              "#ed7953"
             ],
             [
              0.7777777777777778,
              "#fb9f3a"
             ],
             [
              0.8888888888888888,
              "#fdca26"
             ],
             [
              1,
              "#f0f921"
             ]
            ],
            "type": "surface"
           }
          ],
          "table": [
           {
            "cells": {
             "fill": {
              "color": "#EBF0F8"
             },
             "line": {
              "color": "white"
             }
            },
            "header": {
             "fill": {
              "color": "#C8D4E3"
             },
             "line": {
              "color": "white"
             }
            },
            "type": "table"
           }
          ]
         },
         "layout": {
          "annotationdefaults": {
           "arrowcolor": "#2a3f5f",
           "arrowhead": 0,
           "arrowwidth": 1
          },
          "autotypenumbers": "strict",
          "coloraxis": {
           "colorbar": {
            "outlinewidth": 0,
            "ticks": ""
           }
          },
          "colorscale": {
           "diverging": [
            [
             0,
             "#8e0152"
            ],
            [
             0.1,
             "#c51b7d"
            ],
            [
             0.2,
             "#de77ae"
            ],
            [
             0.3,
             "#f1b6da"
            ],
            [
             0.4,
             "#fde0ef"
            ],
            [
             0.5,
             "#f7f7f7"
            ],
            [
             0.6,
             "#e6f5d0"
            ],
            [
             0.7,
             "#b8e186"
            ],
            [
             0.8,
             "#7fbc41"
            ],
            [
             0.9,
             "#4d9221"
            ],
            [
             1,
             "#276419"
            ]
           ],
           "sequential": [
            [
             0,
             "#0d0887"
            ],
            [
             0.1111111111111111,
             "#46039f"
            ],
            [
             0.2222222222222222,
             "#7201a8"
            ],
            [
             0.3333333333333333,
             "#9c179e"
            ],
            [
             0.4444444444444444,
             "#bd3786"
            ],
            [
             0.5555555555555556,
             "#d8576b"
            ],
            [
             0.6666666666666666,
             "#ed7953"
            ],
            [
             0.7777777777777778,
             "#fb9f3a"
            ],
            [
             0.8888888888888888,
             "#fdca26"
            ],
            [
             1,
             "#f0f921"
            ]
           ],
           "sequentialminus": [
            [
             0,
             "#0d0887"
            ],
            [
             0.1111111111111111,
             "#46039f"
            ],
            [
             0.2222222222222222,
             "#7201a8"
            ],
            [
             0.3333333333333333,
             "#9c179e"
            ],
            [
             0.4444444444444444,
             "#bd3786"
            ],
            [
             0.5555555555555556,
             "#d8576b"
            ],
            [
             0.6666666666666666,
             "#ed7953"
            ],
            [
             0.7777777777777778,
             "#fb9f3a"
            ],
            [
             0.8888888888888888,
             "#fdca26"
            ],
            [
             1,
             "#f0f921"
            ]
           ]
          },
          "colorway": [
           "#636efa",
           "#EF553B",
           "#00cc96",
           "#ab63fa",
           "#FFA15A",
           "#19d3f3",
           "#FF6692",
           "#B6E880",
           "#FF97FF",
           "#FECB52"
          ],
          "font": {
           "color": "#2a3f5f"
          },
          "geo": {
           "bgcolor": "white",
           "lakecolor": "white",
           "landcolor": "#E5ECF6",
           "showlakes": true,
           "showland": true,
           "subunitcolor": "white"
          },
          "hoverlabel": {
           "align": "left"
          },
          "hovermode": "closest",
          "mapbox": {
           "style": "light"
          },
          "paper_bgcolor": "white",
          "plot_bgcolor": "#E5ECF6",
          "polar": {
           "angularaxis": {
            "gridcolor": "white",
            "linecolor": "white",
            "ticks": ""
           },
           "bgcolor": "#E5ECF6",
           "radialaxis": {
            "gridcolor": "white",
            "linecolor": "white",
            "ticks": ""
           }
          },
          "scene": {
           "xaxis": {
            "backgroundcolor": "#E5ECF6",
            "gridcolor": "white",
            "gridwidth": 2,
            "linecolor": "white",
            "showbackground": true,
            "ticks": "",
            "zerolinecolor": "white"
           },
           "yaxis": {
            "backgroundcolor": "#E5ECF6",
            "gridcolor": "white",
            "gridwidth": 2,
            "linecolor": "white",
            "showbackground": true,
            "ticks": "",
            "zerolinecolor": "white"
           },
           "zaxis": {
            "backgroundcolor": "#E5ECF6",
            "gridcolor": "white",
            "gridwidth": 2,
            "linecolor": "white",
            "showbackground": true,
            "ticks": "",
            "zerolinecolor": "white"
           }
          },
          "shapedefaults": {
           "line": {
            "color": "#2a3f5f"
           }
          },
          "ternary": {
           "aaxis": {
            "gridcolor": "white",
            "linecolor": "white",
            "ticks": ""
           },
           "baxis": {
            "gridcolor": "white",
            "linecolor": "white",
            "ticks": ""
           },
           "bgcolor": "#E5ECF6",
           "caxis": {
            "gridcolor": "white",
            "linecolor": "white",
            "ticks": ""
           }
          },
          "title": {
           "x": 0.05
          },
          "xaxis": {
           "automargin": true,
           "gridcolor": "white",
           "linecolor": "white",
           "ticks": "",
           "title": {
            "standoff": 15
           },
           "zerolinecolor": "white",
           "zerolinewidth": 2
          },
          "yaxis": {
           "automargin": true,
           "gridcolor": "white",
           "linecolor": "white",
           "ticks": "",
           "title": {
            "standoff": 15
           },
           "zerolinecolor": "white",
           "zerolinewidth": 2
          }
         }
        },
        "xaxis": {
         "anchor": "y",
         "autorange": true,
         "domain": [
          0,
          1
         ],
         "range": [
          39.5,
          149.5
         ],
         "title": {
          "text": "value"
         },
         "type": "linear"
        },
        "yaxis": {
         "anchor": "x",
         "autorange": true,
         "domain": [
          0,
          1
         ],
         "range": [
          0,
          60
         ],
         "title": {
          "text": "count"
         }
        }
       }
      },
      "image/png": "[encoded data removed]",
      "text/html": [
       "<div>                            <div id=\"158b3aa7-6c4e-4c46-b010-1ce05cec2c26\" class=\"plotly-graph-div\" style=\"height:525px; width:100%;\"></div>            <script type=\"text/javascript\">                require([\"plotly\"], function(Plotly) {                    window.PLOTLYENV=window.PLOTLYENV || {};                                    if (document.getElementById(\"158b3aa7-6c4e-4c46-b010-1ce05cec2c26\")) {                    Plotly.newPlot(                        \"158b3aa7-6c4e-4c46-b010-1ce05cec2c26\",                        [{\"alignmentgroup\":\"True\",\"bingroup\":\"x\",\"hovertemplate\":\"variable=pulse<br>value=%{x}<br>count=%{y}<extra></extra>\",\"legendgroup\":\"pulse\",\"marker\":{\"color\":\"#636efa\",\"pattern\":{\"shape\":\"\"}},\"name\":\"pulse\",\"offsetgroup\":\"pulse\",\"orientation\":\"v\",\"showlegend\":true,\"x\":[86.0,54.0,72.0,81.0,null,68.0,149.0,88.0,66.0,72.0,null,55.0,104.0,101.0,76.0,null,null,85.0,null,66.0,null,72.0,52.0,103.0,55.0,69.0,58.0,99.0,98.0,54.0,90.0,61.0,69.0,115.0,null,73.0,79.0,72.0,123.0,77.0,87.0,null,103.0,115.0,70.0,79.0,74.0,79.0,90.0,65.0,62.0,89.0,80.0,73.0,78.0,80.0,64.0,67.0,91.0,null,80.0,null,89.0,64.0,78.0,null,77.0,86.0,78.0,102.0,109.0,84.0,65.0,124.0,null,58.0,81.0,59.0,100.0,77.0,58.0,57.0,59.0,73.0,null,72.0,67.0,76.0,107.0,86.0,79.0,88.0,86.0,68.0,79.0,null,110.0,null,83.0,87.0,null,null,73.0,117.0,121.0,null,91.0,70.0,63.0,75.0,98.0,108.0,null,86.0,82.0,81.0,88.0,69.0,100.0,78.0,65.0,88.0,63.0,78.0,69.0,74.0,58.0,94.0,94.0,98.0,78.0,67.0,82.0,85.0,65.0,63.0,87.0,81.0,80.0,92.0,null,null,80.0,54.0,88.0,86.0,73.0,84.0,86.0,75.0,82.0,44.0,76.0,57.0,57.0,72.0,61.0,65.0,64.0,68.0,73.0,75.0,89.0,96.0,98.0,72.0,83.0,null,89.0,111.0,88.0,null,109.0,68.0,79.0,80.0,68.0,65.0,82.0,106.0,137.0,81.0,89.0,91.0,69.0,100.0,68.0,65.0,83.0,null,70.0,73.0,83.0,68.0,102.0,65.0,80.0,66.0,105.0,77.0,null,92.0,78.0,88.0,68.0,77.0,null,null,null,92.0,71.0,73.0,88.0,96.0,94.0,83.0,67.0,78.0,73.0,98.0,78.0,104.0,97.0,91.0,93.0,86.0,null,45.0,108.0,66.0,81.0,79.0,84.0,null,81.0,82.0,76.0,61.0,79.0,100.0,105.0,67.0,102.0,71.0,null,null,75.0,76.0,55.0,70.0,75.0,null,64.0,60.0,76.0,99.0,79.0,71.0,90.0,86.0,86.0,72.0,null,79.0,60.0,69.0,95.0,59.0,123.0,67.0,62.0,null,97.0,null,77.0,84.0,66.0,98.0,77.0,89.0,97.0,null,79.0,91.0,null,78.0,61.0,62.0,77.0,65.0,92.0,75.0,65.0,141.0,101.0,100.0,null,86.0,71.0,78.0,83.0,119.0,96.0,92.0,99.0,90.0,88.0,null,50.0,null,109.0,99.0,64.0,56.0,106.0,82.0,null,84.0,88.0,72.0,70.0,107.0,85.0,null,73.0,100.0,71.0,97.0,87.0,105.0,null,86.0,null,103.0,68.0,79.0,69.0,100.0,null,108.0,128.0,89.0,null,58.0,127.0,96.0,133.0,83.0,70.0,70.0,83.0,119.0,null,64.0,85.0,62.0,96.0,85.0,112.0,75.0,null,null,77.0,71.0,80.0,114.0,76.0,80.0,82.0,77.0,101.0,86.0,108.0,132.0,63.0,63.0,69.0,null,89.0,84.0,91.0,79.0,77.0,72.0,null,88.0,87.0,96.0,83.0,75.0,80.0,81.0,82.0,75.0,67.0,106.0,59.0,87.0,76.0,84.0,80.0,49.0,59.0,null,57.0,101.0,69.0,62.0,null,66.0,91.0,91.0,98.0,78.0,80.0,87.0,60.0,75.0,70.0,60.0,55.0,67.0,110.0,116.0,94.0,90.0,74.0,83.0,89.0,74.0,62.0,null,94.0,96.0,96.0,88.0,null,76.0,null,58.0,null,55.0,96.0,115.0,68.0,null,null,null,73.0,80.0,116.0,86.0,52.0,null,62.0,86.0,94.0,null,63.0,76.0,88.0,null,85.0,79.0,88.0,85.0,57.0,100.0],\"xaxis\":\"x\",\"yaxis\":\"y\",\"type\":\"histogram\"}],                        {\"template\":{\"data\":{\"histogram2dcontour\":[{\"type\":\"histogram2dcontour\",\"colorbar\":{\"outlinewidth\":0,\"ticks\":\"\"},\"colorscale\":[[0.0,\"#0d0887\"],[0.1111111111111111,\"#46039f\"],[0.2222222222222222,\"#7201a8\"],[0.3333333333333333,\"#9c179e\"],[0.4444444444444444,\"#bd3786\"],[0.5555555555555556,\"#d8576b\"],[0.6666666666666666,\"#ed7953\"],[0.7777777777777778,\"#fb9f3a\"],[0.8888888888888888,\"#fdca26\"],[1.0,\"#f0f921\"]]}],\"choropleth\":[{\"type\":\"choropleth\",\"colorbar\":{\"outlinewidth\":0,\"ticks\":\"\"}}],\"histogram2d\":[{\"type\":\"histogram2d\",\"colorbar\":{\"outlinewidth\":0,\"ticks\":\"\"},\"colorscale\":[[0.0,\"#0d0887\"],[0.1111111111111111,\"#46039f\"],[0.2222222222222222,\"#7201a8\"],[0.3333333333333333,\"#9c179e\"],[0.4444444444444444,\"#bd3786\"],[0.5555555555555556,\"#d8576b\"],[0.6666666666666666,\"#ed7953\"],[0.7777777777777778,\"#fb9f3a\"],[0.8888888888888888,\"#fdca26\"],[1.0,\"#f0f921\"]]}],\"heatmap\":[{\"type\":\"heatmap\",\"colorbar\":{\"outlinewidth\":0,\"ticks\":\"\"},\"colorscale\":[[0.0,\"#0d0887\"],[0.1111111111111111,\"#46039f\"],[0.2222222222222222,\"#7201a8\"],[0.3333333333333333,\"#9c179e\"],[0.4444444444444444,\"#bd3786\"],[0.5555555555555556,\"#d8576b\"],[0.6666666666666666,\"#ed7953\"],[0.7777777777777778,\"#fb9f3a\"],[0.8888888888888888,\"#fdca26\"],[1.0,\"#f0f921\"]]}],\"heatmapgl\":[{\"type\":\"heatmapgl\",\"colorbar\":{\"outlinewidth\":0,\"ticks\":\"\"},\"colorscale\":[[0.0,\"#0d0887\"],[0.1111111111111111,\"#46039f\"],[0.2222222222222222,\"#7201a8\"],[0.3333333333333333,\"#9c179e\"],[0.4444444444444444,\"#bd3786\"],[0.5555555555555556,\"#d8576b\"],[0.6666666666666666,\"#ed7953\"],[0.7777777777777778,\"#fb9f3a\"],[0.8888888888888888,\"#fdca26\"],[1.0,\"#f0f921\"]]}],\"contourcarpet\":[{\"type\":\"contourcarpet\",\"colorbar\":{\"outlinewidth\":0,\"ticks\":\"\"}}],\"contour\":[{\"type\":\"contour\",\"colorbar\":{\"outlinewidth\":0,\"ticks\":\"\"},\"colorscale\":[[0.0,\"#0d0887\"],[0.1111111111111111,\"#46039f\"],[0.2222222222222222,\"#7201a8\"],[0.3333333333333333,\"#9c179e\"],[0.4444444444444444,\"#bd3786\"],[0.5555555555555556,\"#d8576b\"],[0.6666666666666666,\"#ed7953\"],[0.7777777777777778,\"#fb9f3a\"],[0.8888888888888888,\"#fdca26\"],[1.0,\"#f0f921\"]]}],\"surface\":[{\"type\":\"surface\",\"colorbar\":{\"outlinewidth\":0,\"ticks\":\"\"},\"colorscale\":[[0.0,\"#0d0887\"],[0.1111111111111111,\"#46039f\"],[0.2222222222222222,\"#7201a8\"],[0.3333333333333333,\"#9c179e\"],[0.4444444444444444,\"#bd3786\"],[0.5555555555555556,\"#d8576b\"],[0.6666666666666666,\"#ed7953\"],[0.7777777777777778,\"#fb9f3a\"],[0.8888888888888888,\"#fdca26\"],[1.0,\"#f0f921\"]]}],\"mesh3d\":[{\"type\":\"mesh3d\",\"colorbar\":{\"outlinewidth\":0,\"ticks\":\"\"}}],\"scatter\":[{\"fillpattern\":{\"fillmode\":\"overlay\",\"size\":10,\"solidity\":0.2},\"type\":\"scatter\"}],\"parcoords\":[{\"type\":\"parcoords\",\"line\":{\"colorbar\":{\"outlinewidth\":0,\"ticks\":\"\"}}}],\"scatterpolargl\":[{\"type\":\"scatterpolargl\",\"marker\":{\"colorbar\":{\"outlinewidth\":0,\"ticks\":\"\"}}}],\"bar\":[{\"error_x\":{\"color\":\"#2a3f5f\"},\"error_y\":{\"color\":\"#2a3f5f\"},\"marker\":{\"line\":{\"color\":\"#E5ECF6\",\"width\":0.5},\"pattern\":{\"fillmode\":\"overlay\",\"size\":10,\"solidity\":0.2}},\"type\":\"bar\"}],\"scattergeo\":[{\"type\":\"scattergeo\",\"marker\":{\"colorbar\":{\"outlinewidth\":0,\"ticks\":\"\"}}}],\"scatterpolar\":[{\"type\":\"scatterpolar\",\"marker\":{\"colorbar\":{\"outlinewidth\":0,\"ticks\":\"\"}}}],\"histogram\":[{\"marker\":{\"pattern\":{\"fillmode\":\"overlay\",\"size\":10,\"solidity\":0.2}},\"type\":\"histogram\"}],\"scattergl\":[{\"type\":\"scattergl\",\"marker\":{\"colorbar\":{\"outlinewidth\":0,\"ticks\":\"\"}}}],\"scatter3d\":[{\"type\":\"scatter3d\",\"line\":{\"colorbar\":{\"outlinewidth\":0,\"ticks\":\"\"}},\"marker\":{\"colorbar\":{\"outlinewidth\":0,\"ticks\":\"\"}}}],\"scattermapbox\":[{\"type\":\"scattermapbox\",\"marker\":{\"colorbar\":{\"outlinewidth\":0,\"ticks\":\"\"}}}],\"scatterternary\":[{\"type\":\"scatterternary\",\"marker\":{\"colorbar\":{\"outlinewidth\":0,\"ticks\":\"\"}}}],\"scattercarpet\":[{\"type\":\"scattercarpet\",\"marker\":{\"colorbar\":{\"outlinewidth\":0,\"ticks\":\"\"}}}],\"carpet\":[{\"aaxis\":{\"endlinecolor\":\"#2a3f5f\",\"gridcolor\":\"white\",\"linecolor\":\"white\",\"minorgridcolor\":\"white\",\"startlinecolor\":\"#2a3f5f\"},\"baxis\":{\"endlinecolor\":\"#2a3f5f\",\"gridcolor\":\"white\",\"linecolor\":\"white\",\"minorgridcolor\":\"white\",\"startlinecolor\":\"#2a3f5f\"},\"type\":\"carpet\"}],\"table\":[{\"cells\":{\"fill\":{\"color\":\"#EBF0F8\"},\"line\":{\"color\":\"white\"}},\"header\":{\"fill\":{\"color\":\"#C8D4E3\"},\"line\":{\"color\":\"white\"}},\"type\":\"table\"}],\"barpolar\":[{\"marker\":{\"line\":{\"color\":\"#E5ECF6\",\"width\":0.5},\"pattern\":{\"fillmode\":\"overlay\",\"size\":10,\"solidity\":0.2}},\"type\":\"barpolar\"}],\"pie\":[{\"automargin\":true,\"type\":\"pie\"}]},\"layout\":{\"autotypenumbers\":\"strict\",\"colorway\":[\"#636efa\",\"#EF553B\",\"#00cc96\",\"#ab63fa\",\"#FFA15A\",\"#19d3f3\",\"#FF6692\",\"#B6E880\",\"#FF97FF\",\"#FECB52\"],\"font\":{\"color\":\"#2a3f5f\"},\"hovermode\":\"closest\",\"hoverlabel\":{\"align\":\"left\"},\"paper_bgcolor\":\"white\",\"plot_bgcolor\":\"#E5ECF6\",\"polar\":{\"bgcolor\":\"#E5ECF6\",\"angularaxis\":{\"gridcolor\":\"white\",\"linecolor\":\"white\",\"ticks\":\"\"},\"radialaxis\":{\"gridcolor\":\"white\",\"linecolor\":\"white\",\"ticks\":\"\"}},\"ternary\":{\"bgcolor\":\"#E5ECF6\",\"aaxis\":{\"gridcolor\":\"white\",\"linecolor\":\"white\",\"ticks\":\"\"},\"baxis\":{\"gridcolor\":\"white\",\"linecolor\":\"white\",\"ticks\":\"\"},\"caxis\":{\"gridcolor\":\"white\",\"linecolor\":\"white\",\"ticks\":\"\"}},\"coloraxis\":{\"colorbar\":{\"outlinewidth\":0,\"ticks\":\"\"}},\"colorscale\":{\"sequential\":[[0.0,\"#0d0887\"],[0.1111111111111111,\"#46039f\"],[0.2222222222222222,\"#7201a8\"],[0.3333333333333333,\"#9c179e\"],[0.4444444444444444,\"#bd3786\"],[0.5555555555555556,\"#d8576b\"],[0.6666666666666666,\"#ed7953\"],[0.7777777777777778,\"#fb9f3a\"],[0.8888888888888888,\"#fdca26\"],[1.0,\"#f0f921\"]],\"sequentialminus\":[[0.0,\"#0d0887\"],[0.1111111111111111,\"#46039f\"],[0.2222222222222222,\"#7201a8\"],[0.3333333333333333,\"#9c179e\"],[0.4444444444444444,\"#bd3786\"],[0.5555555555555556,\"#d8576b\"],[0.6666666666666666,\"#ed7953\"],[0.7777777777777778,\"#fb9f3a\"],[0.8888888888888888,\"#fdca26\"],[1.0,\"#f0f921\"]],\"diverging\":[[0,\"#8e0152\"],[0.1,\"#c51b7d\"],[0.2,\"#de77ae\"],[0.3,\"#f1b6da\"],[0.4,\"#fde0ef\"],[0.5,\"#f7f7f7\"],[0.6,\"#e6f5d0\"],[0.7,\"#b8e186\"],[0.8,\"#7fbc41\"],[0.9,\"#4d9221\"],[1,\"#276419\"]]},\"xaxis\":{\"gridcolor\":\"white\",\"linecolor\":\"white\",\"ticks\":\"\",\"title\":{\"standoff\":15},\"zerolinecolor\":\"white\",\"automargin\":true,\"zerolinewidth\":2},\"yaxis\":{\"gridcolor\":\"white\",\"linecolor\":\"white\",\"ticks\":\"\",\"title\":{\"standoff\":15},\"zerolinecolor\":\"white\",\"automargin\":true,\"zerolinewidth\":2},\"scene\":{\"xaxis\":{\"backgroundcolor\":\"#E5ECF6\",\"gridcolor\":\"white\",\"linecolor\":\"white\",\"showbackground\":true,\"ticks\":\"\",\"zerolinecolor\":\"white\",\"gridwidth\":2},\"yaxis\":{\"backgroundcolor\":\"#E5ECF6\",\"gridcolor\":\"white\",\"linecolor\":\"white\",\"showbackground\":true,\"ticks\":\"\",\"zerolinecolor\":\"white\",\"gridwidth\":2},\"zaxis\":{\"backgroundcolor\":\"#E5ECF6\",\"gridcolor\":\"white\",\"linecolor\":\"white\",\"showbackground\":true,\"ticks\":\"\",\"zerolinecolor\":\"white\",\"gridwidth\":2}},\"shapedefaults\":{\"line\":{\"color\":\"#2a3f5f\"}},\"annotationdefaults\":{\"arrowcolor\":\"#2a3f5f\",\"arrowhead\":0,\"arrowwidth\":1},\"geo\":{\"bgcolor\":\"white\",\"landcolor\":\"#E5ECF6\",\"subunitcolor\":\"white\",\"showland\":true,\"showlakes\":true,\"lakecolor\":\"white\"},\"title\":{\"x\":0.05},\"mapbox\":{\"style\":\"light\"}}},\"xaxis\":{\"anchor\":\"y\",\"domain\":[0.0,1.0],\"title\":{\"text\":\"value\"}},\"yaxis\":{\"anchor\":\"x\",\"domain\":[0.0,1.0],\"title\":{\"text\":\"count\"}},\"legend\":{\"title\":{\"text\":\"variable\"},\"tracegroupgap\":0},\"margin\":{\"t\":60},\"barmode\":\"relative\"},                        {\"responsive\": true}                    ).then(function(){\n",
       "                            \n",
       "var gd = document.getElementById('158b3aa7-6c4e-4c46-b010-1ce05cec2c26');\n",
       "var x = new MutationObserver(function (mutations, observer) {{\n",
       "        var display = window.getComputedStyle(gd).display;\n",
       "        if (!display || display === 'none') {{\n",
       "            console.log([gd, 'removed!']);\n",
       "            Plotly.purge(gd);\n",
       "            observer.disconnect();\n",
       "        }}\n",
       "}});\n",
       "\n",
       "// Listen for the removal of the full notebook cells\n",
       "var notebookContainer = gd.closest('#notebook-container');\n",
       "if (notebookContainer) {{\n",
       "    x.observe(notebookContainer, {childList: true});\n",
       "}}\n",
       "\n",
       "// Listen for the clearing of the current output cell\n",
       "var outputEl = gd.closest('.output');\n",
       "if (outputEl) {{\n",
       "    x.observe(outputEl, {childList: true});\n",
       "}}\n",
       "\n",
       "                        })                };                });            </script>        </div>"
      ]
     },
     "metadata": {},
     "output_type": "display_data"
    }
   ],
   "source": [
    "px.histogram(df.pulse)"
   ]
  },
  {
   "cell_type": "code",
   "execution_count": 22,
   "id": "1bd99ff0-f278-409b-8820-d375eb30e545",
   "metadata": {
    "execution": {
     "iopub.execute_input": "2022-09-08T23:00:15.586907Z",
     "iopub.status.busy": "2022-09-08T23:00:15.586365Z",
     "iopub.status.idle": "2022-09-08T23:00:15.596975Z",
     "shell.execute_reply": "2022-09-08T23:00:15.596153Z",
     "shell.execute_reply.started": "2022-09-08T23:00:15.586874Z"
    },
    "tags": []
   },
   "outputs": [
    {
     "data": {
      "text/plain": [
       "0       16.0\n",
       "1      324.0\n",
       "2        NaN\n",
       "3       17.0\n",
       "4        NaN\n",
       "       ...  \n",
       "463     17.0\n",
       "464     17.0\n",
       "465      NaN\n",
       "466     17.0\n",
       "467    284.0\n",
       "Name: hours_to_discharge, Length: 468, dtype: float64"
      ]
     },
     "execution_count": 22,
     "metadata": {},
     "output_type": "execute_result"
    }
   ],
   "source": [
    "df.hours_to_discharge"
   ]
  },
  {
   "cell_type": "code",
   "execution_count": 23,
   "id": "9dabcfc0-0fb4-4aed-bbb7-230e0a4349cf",
   "metadata": {
    "execution": {
     "iopub.execute_input": "2022-09-08T23:00:18.680432Z",
     "iopub.status.busy": "2022-09-08T23:00:18.679871Z",
     "iopub.status.idle": "2022-09-08T23:00:18.777657Z",
     "shell.execute_reply": "2022-09-08T23:00:18.776811Z",
     "shell.execute_reply.started": "2022-09-08T23:00:18.680399Z"
    },
    "tags": []
   },
   "outputs": [
    {
     "data": {
      "application/vnd.plotly.v1+json": {
       "config": {
        "plotlyServerURL": "https://plot.ly"
       },
       "data": [
        {
         "alignmentgroup": "True",
         "bingroup": "x",
         "hovertemplate": "variable=hours_to_discharge<br>value=%{x}<br>count=%{y}<extra></extra>",
         "legendgroup": "hours_to_discharge",
         "marker": {
          "color": "#636efa",
          "pattern": {
           "shape": ""
          }
         },
         "name": "hours_to_discharge",
         "offsetgroup": "hours_to_discharge",
         "orientation": "v",
         "showlegend": true,
         "type": "histogram",
         "x": [
          16,
          324,
          null,
          17,
          null,
          40,
          17,
          15,
          81,
          14,
          null,
          112,
          null,
          322,
          null,
          null,
          null,
          91,
          null,
          62,
          null,
          16,
          13,
          18,
          156,
          113,
          16,
          328,
          null,
          null,
          null,
          42,
          204,
          115,
          null,
          null,
          64,
          null,
          null,
          11,
          18,
          null,
          189,
          157,
          281,
          293,
          65,
          155,
          17,
          112,
          15,
          null,
          138,
          137,
          20,
          187,
          138,
          136,
          44,
          null,
          137,
          null,
          null,
          285,
          12,
          null,
          136,
          163,
          137,
          255,
          170,
          157,
          null,
          43,
          null,
          186,
          113,
          301,
          187,
          181,
          20,
          112,
          184,
          null,
          null,
          118,
          4,
          null,
          null,
          62,
          null,
          113,
          null,
          136,
          18,
          null,
          68,
          null,
          null,
          133,
          null,
          null,
          null,
          19,
          null,
          null,
          279,
          20,
          211,
          84,
          null,
          328,
          null,
          39,
          145,
          14,
          null,
          256,
          null,
          null,
          null,
          null,
          60,
          44,
          182,
          18,
          18,
          284,
          168,
          135,
          21,
          83,
          91,
          136,
          14,
          16,
          187,
          19,
          21,
          181,
          null,
          null,
          163,
          63,
          210,
          null,
          15,
          185,
          229,
          null,
          37,
          186,
          116,
          39,
          161,
          113,
          null,
          185,
          43,
          157,
          null,
          19,
          161,
          null,
          null,
          65,
          140,
          null,
          305,
          20,
          21,
          null,
          null,
          203,
          284,
          225,
          17,
          23,
          73,
          24,
          null,
          37,
          206,
          114,
          38,
          159,
          null,
          null,
          null,
          93,
          43,
          null,
          202,
          111,
          176,
          null,
          20,
          14,
          116,
          null,
          null,
          176,
          null,
          null,
          160,
          20,
          null,
          null,
          null,
          137,
          43,
          null,
          null,
          85,
          324,
          112,
          null,
          17,
          66,
          null,
          40,
          null,
          65,
          136,
          87,
          null,
          null,
          308,
          null,
          328,
          67,
          null,
          88,
          null,
          205,
          259,
          35,
          329,
          276,
          187,
          113,
          null,
          44,
          186,
          null,
          null,
          null,
          null,
          306,
          16,
          null,
          null,
          184,
          142,
          181,
          304,
          null,
          170,
          null,
          null,
          null,
          19,
          null,
          17,
          274,
          39,
          59,
          null,
          90,
          160,
          null,
          null,
          null,
          null,
          40,
          null,
          15,
          21,
          277,
          16,
          null,
          null,
          null,
          null,
          null,
          17,
          183,
          17,
          null,
          null,
          null,
          null,
          230,
          null,
          null,
          89,
          null,
          null,
          null,
          259,
          160,
          null,
          42,
          156,
          null,
          null,
          null,
          null,
          88,
          null,
          null,
          114,
          null,
          44,
          213,
          307,
          null,
          144,
          null,
          211,
          331,
          161,
          114,
          null,
          6,
          20,
          162,
          307,
          null,
          258,
          null,
          20,
          null,
          20,
          39,
          159,
          159,
          110,
          null,
          164,
          null,
          208,
          null,
          114,
          15,
          115,
          null,
          null,
          22,
          68,
          null,
          248,
          null,
          13,
          139,
          187,
          181,
          null,
          null,
          39,
          null,
          null,
          null,
          null,
          null,
          68,
          null,
          null,
          20,
          null,
          null,
          20,
          null,
          25,
          107,
          null,
          38,
          null,
          null,
          40,
          19,
          16,
          null,
          20,
          null,
          20,
          17,
          18,
          17,
          23,
          36,
          303,
          300,
          null,
          134,
          null,
          67,
          133,
          20,
          null,
          43,
          64,
          86,
          null,
          19,
          135,
          null,
          19,
          292,
          null,
          118,
          null,
          140,
          13,
          116,
          40,
          18,
          null,
          19,
          14,
          null,
          null,
          114,
          null,
          138,
          34,
          88,
          null,
          22,
          138,
          16,
          null,
          161,
          135,
          38,
          12,
          null,
          11,
          null,
          43,
          null,
          87,
          1,
          64,
          43,
          null,
          null,
          null,
          253,
          1,
          213,
          13,
          186,
          null,
          21,
          233,
          68,
          null,
          17,
          null,
          162,
          null,
          15,
          17,
          17,
          null,
          17,
          284
         ],
         "xaxis": "x",
         "yaxis": "y"
        }
       ],
       "layout": {
        "autosize": true,
        "barmode": "relative",
        "legend": {
         "title": {
          "text": "variable"
         },
         "tracegroupgap": 0
        },
        "margin": {
         "t": 60
        },
        "template": {
         "data": {
          "bar": [
           {
            "error_x": {
             "color": "#2a3f5f"
            },
            "error_y": {
             "color": "#2a3f5f"
            },
            "marker": {
             "line": {
              "color": "#E5ECF6",
              "width": 0.5
             },
             "pattern": {
              "fillmode": "overlay",
              "size": 10,
              "solidity": 0.2
             }
            },
            "type": "bar"
           }
          ],
          "barpolar": [
           {
            "marker": {
             "line": {
              "color": "#E5ECF6",
              "width": 0.5
             },
             "pattern": {
              "fillmode": "overlay",
              "size": 10,
              "solidity": 0.2
             }
            },
            "type": "barpolar"
           }
          ],
          "carpet": [
           {
            "aaxis": {
             "endlinecolor": "#2a3f5f",
             "gridcolor": "white",
             "linecolor": "white",
             "minorgridcolor": "white",
             "startlinecolor": "#2a3f5f"
            },
            "baxis": {
             "endlinecolor": "#2a3f5f",
             "gridcolor": "white",
             "linecolor": "white",
             "minorgridcolor": "white",
             "startlinecolor": "#2a3f5f"
            },
            "type": "carpet"
           }
          ],
          "choropleth": [
           {
            "colorbar": {
             "outlinewidth": 0,
             "ticks": ""
            },
            "type": "choropleth"
           }
          ],
          "contour": [
           {
            "colorbar": {
             "outlinewidth": 0,
             "ticks": ""
            },
            "colorscale": [
             [
              0,
              "#0d0887"
             ],
             [
              0.1111111111111111,
              "#46039f"
             ],
             [
              0.2222222222222222,
              "#7201a8"
             ],
             [
              0.3333333333333333,
              "#9c179e"
             ],
             [
              0.4444444444444444,
              "#bd3786"
             ],
             [
              0.5555555555555556,
              "#d8576b"
             ],
             [
              0.6666666666666666,
              "#ed7953"
             ],
             [
              0.7777777777777778,
              "#fb9f3a"
             ],
             [
              0.8888888888888888,
              "#fdca26"
             ],
             [
              1,
              "#f0f921"
             ]
            ],
            "type": "contour"
           }
          ],
          "contourcarpet": [
           {
            "colorbar": {
             "outlinewidth": 0,
             "ticks": ""
            },
            "type": "contourcarpet"
           }
          ],
          "heatmap": [
           {
            "colorbar": {
             "outlinewidth": 0,
             "ticks": ""
            },
            "colorscale": [
             [
              0,
              "#0d0887"
             ],
             [
              0.1111111111111111,
              "#46039f"
             ],
             [
              0.2222222222222222,
              "#7201a8"
             ],
             [
              0.3333333333333333,
              "#9c179e"
             ],
             [
              0.4444444444444444,
              "#bd3786"
             ],
             [
              0.5555555555555556,
              "#d8576b"
             ],
             [
              0.6666666666666666,
              "#ed7953"
             ],
             [
              0.7777777777777778,
              "#fb9f3a"
             ],
             [
              0.8888888888888888,
              "#fdca26"
             ],
             [
              1,
              "#f0f921"
             ]
            ],
            "type": "heatmap"
           }
          ],
          "heatmapgl": [
           {
            "colorbar": {
             "outlinewidth": 0,
             "ticks": ""
            },
            "colorscale": [
             [
              0,
              "#0d0887"
             ],
             [
              0.1111111111111111,
              "#46039f"
             ],
             [
              0.2222222222222222,
              "#7201a8"
             ],
             [
              0.3333333333333333,
              "#9c179e"
             ],
             [
              0.4444444444444444,
              "#bd3786"
             ],
             [
              0.5555555555555556,
              "#d8576b"
             ],
             [
              0.6666666666666666,
              "#ed7953"
             ],
             [
              0.7777777777777778,
              "#fb9f3a"
             ],
             [
              0.8888888888888888,
              "#fdca26"
             ],
             [
              1,
              "#f0f921"
             ]
            ],
            "type": "heatmapgl"
           }
          ],
          "histogram": [
           {
            "marker": {
             "pattern": {
              "fillmode": "overlay",
              "size": 10,
              "solidity": 0.2
             }
            },
            "type": "histogram"
           }
          ],
          "histogram2d": [
           {
            "colorbar": {
             "outlinewidth": 0,
             "ticks": ""
            },
            "colorscale": [
             [
              0,
              "#0d0887"
             ],
             [
              0.1111111111111111,
              "#46039f"
             ],
             [
              0.2222222222222222,
              "#7201a8"
             ],
             [
              0.3333333333333333,
              "#9c179e"
             ],
             [
              0.4444444444444444,
              "#bd3786"
             ],
             [
              0.5555555555555556,
              "#d8576b"
             ],
             [
              0.6666666666666666,
              "#ed7953"
             ],
             [
              0.7777777777777778,
              "#fb9f3a"
             ],
             [
              0.8888888888888888,
              "#fdca26"
             ],
             [
              1,
              "#f0f921"
             ]
            ],
            "type": "histogram2d"
           }
          ],
          "histogram2dcontour": [
           {
            "colorbar": {
             "outlinewidth": 0,
             "ticks": ""
            },
            "colorscale": [
             [
              0,
              "#0d0887"
             ],
             [
              0.1111111111111111,
              "#46039f"
             ],
             [
              0.2222222222222222,
              "#7201a8"
             ],
             [
              0.3333333333333333,
              "#9c179e"
             ],
             [
              0.4444444444444444,
              "#bd3786"
             ],
             [
              0.5555555555555556,
              "#d8576b"
             ],
             [
              0.6666666666666666,
              "#ed7953"
             ],
             [
              0.7777777777777778,
              "#fb9f3a"
             ],
             [
              0.8888888888888888,
              "#fdca26"
             ],
             [
              1,
              "#f0f921"
             ]
            ],
            "type": "histogram2dcontour"
           }
          ],
          "mesh3d": [
           {
            "colorbar": {
             "outlinewidth": 0,
             "ticks": ""
            },
            "type": "mesh3d"
           }
          ],
          "parcoords": [
           {
            "line": {
             "colorbar": {
              "outlinewidth": 0,
              "ticks": ""
             }
            },
            "type": "parcoords"
           }
          ],
          "pie": [
           {
            "automargin": true,
            "type": "pie"
           }
          ],
          "scatter": [
           {
            "fillpattern": {
             "fillmode": "overlay",
             "size": 10,
             "solidity": 0.2
            },
            "type": "scatter"
           }
          ],
          "scatter3d": [
           {
            "line": {
             "colorbar": {
              "outlinewidth": 0,
              "ticks": ""
             }
            },
            "marker": {
             "colorbar": {
              "outlinewidth": 0,
              "ticks": ""
             }
            },
            "type": "scatter3d"
           }
          ],
          "scattercarpet": [
           {
            "marker": {
             "colorbar": {
              "outlinewidth": 0,
              "ticks": ""
             }
            },
            "type": "scattercarpet"
           }
          ],
          "scattergeo": [
           {
            "marker": {
             "colorbar": {
              "outlinewidth": 0,
              "ticks": ""
             }
            },
            "type": "scattergeo"
           }
          ],
          "scattergl": [
           {
            "marker": {
             "colorbar": {
              "outlinewidth": 0,
              "ticks": ""
             }
            },
            "type": "scattergl"
           }
          ],
          "scattermapbox": [
           {
            "marker": {
             "colorbar": {
              "outlinewidth": 0,
              "ticks": ""
             }
            },
            "type": "scattermapbox"
           }
          ],
          "scatterpolar": [
           {
            "marker": {
             "colorbar": {
              "outlinewidth": 0,
              "ticks": ""
             }
            },
            "type": "scatterpolar"
           }
          ],
          "scatterpolargl": [
           {
            "marker": {
             "colorbar": {
              "outlinewidth": 0,
              "ticks": ""
             }
            },
            "type": "scatterpolargl"
           }
          ],
          "scatterternary": [
           {
            "marker": {
             "colorbar": {
              "outlinewidth": 0,
              "ticks": ""
             }
            },
            "type": "scatterternary"
           }
          ],
          "surface": [
           {
            "colorbar": {
             "outlinewidth": 0,
             "ticks": ""
            },
            "colorscale": [
             [
              0,
              "#0d0887"
             ],
             [
              0.1111111111111111,
              "#46039f"
             ],
             [
              0.2222222222222222,
              "#7201a8"
             ],
             [
              0.3333333333333333,
              "#9c179e"
             ],
             [
              0.4444444444444444,
              "#bd3786"
             ],
             [
              0.5555555555555556,
              "#d8576b"
             ],
             [
              0.6666666666666666,
              "#ed7953"
             ],
             [
              0.7777777777777778,
              "#fb9f3a"
             ],
             [
              0.8888888888888888,
              "#fdca26"
             ],
             [
              1,
              "#f0f921"
             ]
            ],
            "type": "surface"
           }
          ],
          "table": [
           {
            "cells": {
             "fill": {
              "color": "#EBF0F8"
             },
             "line": {
              "color": "white"
             }
            },
            "header": {
             "fill": {
              "color": "#C8D4E3"
             },
             "line": {
              "color": "white"
             }
            },
            "type": "table"
           }
          ]
         },
         "layout": {
          "annotationdefaults": {
           "arrowcolor": "#2a3f5f",
           "arrowhead": 0,
           "arrowwidth": 1
          },
          "autotypenumbers": "strict",
          "coloraxis": {
           "colorbar": {
            "outlinewidth": 0,
            "ticks": ""
           }
          },
          "colorscale": {
           "diverging": [
            [
             0,
             "#8e0152"
            ],
            [
             0.1,
             "#c51b7d"
            ],
            [
             0.2,
             "#de77ae"
            ],
            [
             0.3,
             "#f1b6da"
            ],
            [
             0.4,
             "#fde0ef"
            ],
            [
             0.5,
             "#f7f7f7"
            ],
            [
             0.6,
             "#e6f5d0"
            ],
            [
             0.7,
             "#b8e186"
            ],
            [
             0.8,
             "#7fbc41"
            ],
            [
             0.9,
             "#4d9221"
            ],
            [
             1,
             "#276419"
            ]
           ],
           "sequential": [
            [
             0,
             "#0d0887"
            ],
            [
             0.1111111111111111,
             "#46039f"
            ],
            [
             0.2222222222222222,
             "#7201a8"
            ],
            [
             0.3333333333333333,
             "#9c179e"
            ],
            [
             0.4444444444444444,
             "#bd3786"
            ],
            [
             0.5555555555555556,
             "#d8576b"
            ],
            [
             0.6666666666666666,
             "#ed7953"
            ],
            [
             0.7777777777777778,
             "#fb9f3a"
            ],
            [
             0.8888888888888888,
             "#fdca26"
            ],
            [
             1,
             "#f0f921"
            ]
           ],
           "sequentialminus": [
            [
             0,
             "#0d0887"
            ],
            [
             0.1111111111111111,
             "#46039f"
            ],
            [
             0.2222222222222222,
             "#7201a8"
            ],
            [
             0.3333333333333333,
             "#9c179e"
            ],
            [
             0.4444444444444444,
             "#bd3786"
            ],
            [
             0.5555555555555556,
             "#d8576b"
            ],
            [
             0.6666666666666666,
             "#ed7953"
            ],
            [
             0.7777777777777778,
             "#fb9f3a"
            ],
            [
             0.8888888888888888,
             "#fdca26"
            ],
            [
             1,
             "#f0f921"
            ]
           ]
          },
          "colorway": [
           "#636efa",
           "#EF553B",
           "#00cc96",
           "#ab63fa",
           "#FFA15A",
           "#19d3f3",
           "#FF6692",
           "#B6E880",
           "#FF97FF",
           "#FECB52"
          ],
          "font": {
           "color": "#2a3f5f"
          },
          "geo": {
           "bgcolor": "white",
           "lakecolor": "white",
           "landcolor": "#E5ECF6",
           "showlakes": true,
           "showland": true,
           "subunitcolor": "white"
          },
          "hoverlabel": {
           "align": "left"
          },
          "hovermode": "closest",
          "mapbox": {
           "style": "light"
          },
          "paper_bgcolor": "white",
          "plot_bgcolor": "#E5ECF6",
          "polar": {
           "angularaxis": {
            "gridcolor": "white",
            "linecolor": "white",
            "ticks": ""
           },
           "bgcolor": "#E5ECF6",
           "radialaxis": {
            "gridcolor": "white",
            "linecolor": "white",
            "ticks": ""
           }
          },
          "scene": {
           "xaxis": {
            "backgroundcolor": "#E5ECF6",
            "gridcolor": "white",
            "gridwidth": 2,
            "linecolor": "white",
            "showbackground": true,
            "ticks": "",
            "zerolinecolor": "white"
           },
           "yaxis": {
            "backgroundcolor": "#E5ECF6",
            "gridcolor": "white",
            "gridwidth": 2,
            "linecolor": "white",
            "showbackground": true,
            "ticks": "",
            "zerolinecolor": "white"
           },
           "zaxis": {
            "backgroundcolor": "#E5ECF6",
            "gridcolor": "white",
            "gridwidth": 2,
            "linecolor": "white",
            "showbackground": true,
            "ticks": "",
            "zerolinecolor": "white"
           }
          },
          "shapedefaults": {
           "line": {
            "color": "#2a3f5f"
           }
          },
          "ternary": {
           "aaxis": {
            "gridcolor": "white",
            "linecolor": "white",
            "ticks": ""
           },
           "baxis": {
            "gridcolor": "white",
            "linecolor": "white",
            "ticks": ""
           },
           "bgcolor": "#E5ECF6",
           "caxis": {
            "gridcolor": "white",
            "linecolor": "white",
            "ticks": ""
           }
          },
          "title": {
           "x": 0.05
          },
          "xaxis": {
           "automargin": true,
           "gridcolor": "white",
           "linecolor": "white",
           "ticks": "",
           "title": {
            "standoff": 15
           },
           "zerolinecolor": "white",
           "zerolinewidth": 2
          },
          "yaxis": {
           "automargin": true,
           "gridcolor": "white",
           "linecolor": "white",
           "ticks": "",
           "title": {
            "standoff": 15
           },
           "zerolinecolor": "white",
           "zerolinewidth": 2
          }
         }
        },
        "xaxis": {
         "anchor": "y",
         "autorange": true,
         "domain": [
          0,
          1
         ],
         "range": [
          -0.5,
          339.5
         ],
         "title": {
          "text": "value"
         },
         "type": "linear"
        },
        "yaxis": {
         "anchor": "x",
         "autorange": true,
         "domain": [
          0,
          1
         ],
         "range": [
          0,
          63.1578947368421
         ],
         "title": {
          "text": "count"
         }
        }
       }
      },
      "image/png": "[encoded data removed]",
      "text/html": [
       "<div>                            <div id=\"624d0aa1-af54-4964-8174-f82e75216265\" class=\"plotly-graph-div\" style=\"height:525px; width:100%;\"></div>            <script type=\"text/javascript\">                require([\"plotly\"], function(Plotly) {                    window.PLOTLYENV=window.PLOTLYENV || {};                                    if (document.getElementById(\"624d0aa1-af54-4964-8174-f82e75216265\")) {                    Plotly.newPlot(                        \"624d0aa1-af54-4964-8174-f82e75216265\",                        [{\"alignmentgroup\":\"True\",\"bingroup\":\"x\",\"hovertemplate\":\"variable=hours_to_discharge<br>value=%{x}<br>count=%{y}<extra></extra>\",\"legendgroup\":\"hours_to_discharge\",\"marker\":{\"color\":\"#636efa\",\"pattern\":{\"shape\":\"\"}},\"name\":\"hours_to_discharge\",\"offsetgroup\":\"hours_to_discharge\",\"orientation\":\"v\",\"showlegend\":true,\"x\":[16.0,324.0,null,17.0,null,40.0,17.0,15.0,81.0,14.0,null,112.0,null,322.0,null,null,null,91.0,null,62.0,null,16.0,13.0,18.0,156.0,113.0,16.0,328.0,null,null,null,42.0,204.0,115.0,null,null,64.0,null,null,11.0,18.0,null,189.0,157.0,281.0,293.0,65.0,155.0,17.0,112.0,15.0,null,138.0,137.0,20.0,187.0,138.0,136.0,44.0,null,137.0,null,null,285.0,12.0,null,136.0,163.0,137.0,255.0,170.0,157.0,null,43.0,null,186.0,113.0,301.0,187.0,181.0,20.0,112.0,184.0,null,null,118.0,4.0,null,null,62.0,null,113.0,null,136.0,18.0,null,68.0,null,null,133.0,null,null,null,19.0,null,null,279.0,20.0,211.0,84.0,null,328.0,null,39.0,145.0,14.0,null,256.0,null,null,null,null,60.0,44.0,182.0,18.0,18.0,284.0,168.0,135.0,21.0,83.0,91.0,136.0,14.0,16.0,187.0,19.0,21.0,181.0,null,null,163.0,63.0,210.0,null,15.0,185.0,229.0,null,37.0,186.0,116.0,39.0,161.0,113.0,null,185.0,43.0,157.0,null,19.0,161.0,null,null,65.0,140.0,null,305.0,20.0,21.0,null,null,203.0,284.0,225.0,17.0,23.0,73.0,24.0,null,37.0,206.0,114.0,38.0,159.0,null,null,null,93.0,43.0,null,202.0,111.0,176.0,null,20.0,14.0,116.0,null,null,176.0,null,null,160.0,20.0,null,null,null,137.0,43.0,null,null,85.0,324.0,112.0,null,17.0,66.0,null,40.0,null,65.0,136.0,87.0,null,null,308.0,null,328.0,67.0,null,88.0,null,205.0,259.0,35.0,329.0,276.0,187.0,113.0,null,44.0,186.0,null,null,null,null,306.0,16.0,null,null,184.0,142.0,181.0,304.0,null,170.0,null,null,null,19.0,null,17.0,274.0,39.0,59.0,null,90.0,160.0,null,null,null,null,40.0,null,15.0,21.0,277.0,16.0,null,null,null,null,null,17.0,183.0,17.0,null,null,null,null,230.0,null,null,89.0,null,null,null,259.0,160.0,null,42.0,156.0,null,null,null,null,88.0,null,null,114.0,null,44.0,213.0,307.0,null,144.0,null,211.0,331.0,161.0,114.0,null,6.0,20.0,162.0,307.0,null,258.0,null,20.0,null,20.0,39.0,159.0,159.0,110.0,null,164.0,null,208.0,null,114.0,15.0,115.0,null,null,22.0,68.0,null,248.0,null,13.0,139.0,187.0,181.0,null,null,39.0,null,null,null,null,null,68.0,null,null,20.0,null,null,20.0,null,25.0,107.0,null,38.0,null,null,40.0,19.0,16.0,null,20.0,null,20.0,17.0,18.0,17.0,23.0,36.0,303.0,300.0,null,134.0,null,67.0,133.0,20.0,null,43.0,64.0,86.0,null,19.0,135.0,null,19.0,292.0,null,118.0,null,140.0,13.0,116.0,40.0,18.0,null,19.0,14.0,null,null,114.0,null,138.0,34.0,88.0,null,22.0,138.0,16.0,null,161.0,135.0,38.0,12.0,null,11.0,null,43.0,null,87.0,1.0,64.0,43.0,null,null,null,253.0,1.0,213.0,13.0,186.0,null,21.0,233.0,68.0,null,17.0,null,162.0,null,15.0,17.0,17.0,null,17.0,284.0],\"xaxis\":\"x\",\"yaxis\":\"y\",\"type\":\"histogram\"}],                        {\"template\":{\"data\":{\"histogram2dcontour\":[{\"type\":\"histogram2dcontour\",\"colorbar\":{\"outlinewidth\":0,\"ticks\":\"\"},\"colorscale\":[[0.0,\"#0d0887\"],[0.1111111111111111,\"#46039f\"],[0.2222222222222222,\"#7201a8\"],[0.3333333333333333,\"#9c179e\"],[0.4444444444444444,\"#bd3786\"],[0.5555555555555556,\"#d8576b\"],[0.6666666666666666,\"#ed7953\"],[0.7777777777777778,\"#fb9f3a\"],[0.8888888888888888,\"#fdca26\"],[1.0,\"#f0f921\"]]}],\"choropleth\":[{\"type\":\"choropleth\",\"colorbar\":{\"outlinewidth\":0,\"ticks\":\"\"}}],\"histogram2d\":[{\"type\":\"histogram2d\",\"colorbar\":{\"outlinewidth\":0,\"ticks\":\"\"},\"colorscale\":[[0.0,\"#0d0887\"],[0.1111111111111111,\"#46039f\"],[0.2222222222222222,\"#7201a8\"],[0.3333333333333333,\"#9c179e\"],[0.4444444444444444,\"#bd3786\"],[0.5555555555555556,\"#d8576b\"],[0.6666666666666666,\"#ed7953\"],[0.7777777777777778,\"#fb9f3a\"],[0.8888888888888888,\"#fdca26\"],[1.0,\"#f0f921\"]]}],\"heatmap\":[{\"type\":\"heatmap\",\"colorbar\":{\"outlinewidth\":0,\"ticks\":\"\"},\"colorscale\":[[0.0,\"#0d0887\"],[0.1111111111111111,\"#46039f\"],[0.2222222222222222,\"#7201a8\"],[0.3333333333333333,\"#9c179e\"],[0.4444444444444444,\"#bd3786\"],[0.5555555555555556,\"#d8576b\"],[0.6666666666666666,\"#ed7953\"],[0.7777777777777778,\"#fb9f3a\"],[0.8888888888888888,\"#fdca26\"],[1.0,\"#f0f921\"]]}],\"heatmapgl\":[{\"type\":\"heatmapgl\",\"colorbar\":{\"outlinewidth\":0,\"ticks\":\"\"},\"colorscale\":[[0.0,\"#0d0887\"],[0.1111111111111111,\"#46039f\"],[0.2222222222222222,\"#7201a8\"],[0.3333333333333333,\"#9c179e\"],[0.4444444444444444,\"#bd3786\"],[0.5555555555555556,\"#d8576b\"],[0.6666666666666666,\"#ed7953\"],[0.7777777777777778,\"#fb9f3a\"],[0.8888888888888888,\"#fdca26\"],[1.0,\"#f0f921\"]]}],\"contourcarpet\":[{\"type\":\"contourcarpet\",\"colorbar\":{\"outlinewidth\":0,\"ticks\":\"\"}}],\"contour\":[{\"type\":\"contour\",\"colorbar\":{\"outlinewidth\":0,\"ticks\":\"\"},\"colorscale\":[[0.0,\"#0d0887\"],[0.1111111111111111,\"#46039f\"],[0.2222222222222222,\"#7201a8\"],[0.3333333333333333,\"#9c179e\"],[0.4444444444444444,\"#bd3786\"],[0.5555555555555556,\"#d8576b\"],[0.6666666666666666,\"#ed7953\"],[0.7777777777777778,\"#fb9f3a\"],[0.8888888888888888,\"#fdca26\"],[1.0,\"#f0f921\"]]}],\"surface\":[{\"type\":\"surface\",\"colorbar\":{\"outlinewidth\":0,\"ticks\":\"\"},\"colorscale\":[[0.0,\"#0d0887\"],[0.1111111111111111,\"#46039f\"],[0.2222222222222222,\"#7201a8\"],[0.3333333333333333,\"#9c179e\"],[0.4444444444444444,\"#bd3786\"],[0.5555555555555556,\"#d8576b\"],[0.6666666666666666,\"#ed7953\"],[0.7777777777777778,\"#fb9f3a\"],[0.8888888888888888,\"#fdca26\"],[1.0,\"#f0f921\"]]}],\"mesh3d\":[{\"type\":\"mesh3d\",\"colorbar\":{\"outlinewidth\":0,\"ticks\":\"\"}}],\"scatter\":[{\"fillpattern\":{\"fillmode\":\"overlay\",\"size\":10,\"solidity\":0.2},\"type\":\"scatter\"}],\"parcoords\":[{\"type\":\"parcoords\",\"line\":{\"colorbar\":{\"outlinewidth\":0,\"ticks\":\"\"}}}],\"scatterpolargl\":[{\"type\":\"scatterpolargl\",\"marker\":{\"colorbar\":{\"outlinewidth\":0,\"ticks\":\"\"}}}],\"bar\":[{\"error_x\":{\"color\":\"#2a3f5f\"},\"error_y\":{\"color\":\"#2a3f5f\"},\"marker\":{\"line\":{\"color\":\"#E5ECF6\",\"width\":0.5},\"pattern\":{\"fillmode\":\"overlay\",\"size\":10,\"solidity\":0.2}},\"type\":\"bar\"}],\"scattergeo\":[{\"type\":\"scattergeo\",\"marker\":{\"colorbar\":{\"outlinewidth\":0,\"ticks\":\"\"}}}],\"scatterpolar\":[{\"type\":\"scatterpolar\",\"marker\":{\"colorbar\":{\"outlinewidth\":0,\"ticks\":\"\"}}}],\"histogram\":[{\"marker\":{\"pattern\":{\"fillmode\":\"overlay\",\"size\":10,\"solidity\":0.2}},\"type\":\"histogram\"}],\"scattergl\":[{\"type\":\"scattergl\",\"marker\":{\"colorbar\":{\"outlinewidth\":0,\"ticks\":\"\"}}}],\"scatter3d\":[{\"type\":\"scatter3d\",\"line\":{\"colorbar\":{\"outlinewidth\":0,\"ticks\":\"\"}},\"marker\":{\"colorbar\":{\"outlinewidth\":0,\"ticks\":\"\"}}}],\"scattermapbox\":[{\"type\":\"scattermapbox\",\"marker\":{\"colorbar\":{\"outlinewidth\":0,\"ticks\":\"\"}}}],\"scatterternary\":[{\"type\":\"scatterternary\",\"marker\":{\"colorbar\":{\"outlinewidth\":0,\"ticks\":\"\"}}}],\"scattercarpet\":[{\"type\":\"scattercarpet\",\"marker\":{\"colorbar\":{\"outlinewidth\":0,\"ticks\":\"\"}}}],\"carpet\":[{\"aaxis\":{\"endlinecolor\":\"#2a3f5f\",\"gridcolor\":\"white\",\"linecolor\":\"white\",\"minorgridcolor\":\"white\",\"startlinecolor\":\"#2a3f5f\"},\"baxis\":{\"endlinecolor\":\"#2a3f5f\",\"gridcolor\":\"white\",\"linecolor\":\"white\",\"minorgridcolor\":\"white\",\"startlinecolor\":\"#2a3f5f\"},\"type\":\"carpet\"}],\"table\":[{\"cells\":{\"fill\":{\"color\":\"#EBF0F8\"},\"line\":{\"color\":\"white\"}},\"header\":{\"fill\":{\"color\":\"#C8D4E3\"},\"line\":{\"color\":\"white\"}},\"type\":\"table\"}],\"barpolar\":[{\"marker\":{\"line\":{\"color\":\"#E5ECF6\",\"width\":0.5},\"pattern\":{\"fillmode\":\"overlay\",\"size\":10,\"solidity\":0.2}},\"type\":\"barpolar\"}],\"pie\":[{\"automargin\":true,\"type\":\"pie\"}]},\"layout\":{\"autotypenumbers\":\"strict\",\"colorway\":[\"#636efa\",\"#EF553B\",\"#00cc96\",\"#ab63fa\",\"#FFA15A\",\"#19d3f3\",\"#FF6692\",\"#B6E880\",\"#FF97FF\",\"#FECB52\"],\"font\":{\"color\":\"#2a3f5f\"},\"hovermode\":\"closest\",\"hoverlabel\":{\"align\":\"left\"},\"paper_bgcolor\":\"white\",\"plot_bgcolor\":\"#E5ECF6\",\"polar\":{\"bgcolor\":\"#E5ECF6\",\"angularaxis\":{\"gridcolor\":\"white\",\"linecolor\":\"white\",\"ticks\":\"\"},\"radialaxis\":{\"gridcolor\":\"white\",\"linecolor\":\"white\",\"ticks\":\"\"}},\"ternary\":{\"bgcolor\":\"#E5ECF6\",\"aaxis\":{\"gridcolor\":\"white\",\"linecolor\":\"white\",\"ticks\":\"\"},\"baxis\":{\"gridcolor\":\"white\",\"linecolor\":\"white\",\"ticks\":\"\"},\"caxis\":{\"gridcolor\":\"white\",\"linecolor\":\"white\",\"ticks\":\"\"}},\"coloraxis\":{\"colorbar\":{\"outlinewidth\":0,\"ticks\":\"\"}},\"colorscale\":{\"sequential\":[[0.0,\"#0d0887\"],[0.1111111111111111,\"#46039f\"],[0.2222222222222222,\"#7201a8\"],[0.3333333333333333,\"#9c179e\"],[0.4444444444444444,\"#bd3786\"],[0.5555555555555556,\"#d8576b\"],[0.6666666666666666,\"#ed7953\"],[0.7777777777777778,\"#fb9f3a\"],[0.8888888888888888,\"#fdca26\"],[1.0,\"#f0f921\"]],\"sequentialminus\":[[0.0,\"#0d0887\"],[0.1111111111111111,\"#46039f\"],[0.2222222222222222,\"#7201a8\"],[0.3333333333333333,\"#9c179e\"],[0.4444444444444444,\"#bd3786\"],[0.5555555555555556,\"#d8576b\"],[0.6666666666666666,\"#ed7953\"],[0.7777777777777778,\"#fb9f3a\"],[0.8888888888888888,\"#fdca26\"],[1.0,\"#f0f921\"]],\"diverging\":[[0,\"#8e0152\"],[0.1,\"#c51b7d\"],[0.2,\"#de77ae\"],[0.3,\"#f1b6da\"],[0.4,\"#fde0ef\"],[0.5,\"#f7f7f7\"],[0.6,\"#e6f5d0\"],[0.7,\"#b8e186\"],[0.8,\"#7fbc41\"],[0.9,\"#4d9221\"],[1,\"#276419\"]]},\"xaxis\":{\"gridcolor\":\"white\",\"linecolor\":\"white\",\"ticks\":\"\",\"title\":{\"standoff\":15},\"zerolinecolor\":\"white\",\"automargin\":true,\"zerolinewidth\":2},\"yaxis\":{\"gridcolor\":\"white\",\"linecolor\":\"white\",\"ticks\":\"\",\"title\":{\"standoff\":15},\"zerolinecolor\":\"white\",\"automargin\":true,\"zerolinewidth\":2},\"scene\":{\"xaxis\":{\"backgroundcolor\":\"#E5ECF6\",\"gridcolor\":\"white\",\"linecolor\":\"white\",\"showbackground\":true,\"ticks\":\"\",\"zerolinecolor\":\"white\",\"gridwidth\":2},\"yaxis\":{\"backgroundcolor\":\"#E5ECF6\",\"gridcolor\":\"white\",\"linecolor\":\"white\",\"showbackground\":true,\"ticks\":\"\",\"zerolinecolor\":\"white\",\"gridwidth\":2},\"zaxis\":{\"backgroundcolor\":\"#E5ECF6\",\"gridcolor\":\"white\",\"linecolor\":\"white\",\"showbackground\":true,\"ticks\":\"\",\"zerolinecolor\":\"white\",\"gridwidth\":2}},\"shapedefaults\":{\"line\":{\"color\":\"#2a3f5f\"}},\"annotationdefaults\":{\"arrowcolor\":\"#2a3f5f\",\"arrowhead\":0,\"arrowwidth\":1},\"geo\":{\"bgcolor\":\"white\",\"landcolor\":\"#E5ECF6\",\"subunitcolor\":\"white\",\"showland\":true,\"showlakes\":true,\"lakecolor\":\"white\"},\"title\":{\"x\":0.05},\"mapbox\":{\"style\":\"light\"}}},\"xaxis\":{\"anchor\":\"y\",\"domain\":[0.0,1.0],\"title\":{\"text\":\"value\"}},\"yaxis\":{\"anchor\":\"x\",\"domain\":[0.0,1.0],\"title\":{\"text\":\"count\"}},\"legend\":{\"title\":{\"text\":\"variable\"},\"tracegroupgap\":0},\"margin\":{\"t\":60},\"barmode\":\"relative\"},                        {\"responsive\": true}                    ).then(function(){\n",
       "                            \n",
       "var gd = document.getElementById('624d0aa1-af54-4964-8174-f82e75216265');\n",
       "var x = new MutationObserver(function (mutations, observer) {{\n",
       "        var display = window.getComputedStyle(gd).display;\n",
       "        if (!display || display === 'none') {{\n",
       "            console.log([gd, 'removed!']);\n",
       "            Plotly.purge(gd);\n",
       "            observer.disconnect();\n",
       "        }}\n",
       "}});\n",
       "\n",
       "// Listen for the removal of the full notebook cells\n",
       "var notebookContainer = gd.closest('#notebook-container');\n",
       "if (notebookContainer) {{\n",
       "    x.observe(notebookContainer, {childList: true});\n",
       "}}\n",
       "\n",
       "// Listen for the clearing of the current output cell\n",
       "var outputEl = gd.closest('.output');\n",
       "if (outputEl) {{\n",
       "    x.observe(outputEl, {childList: true});\n",
       "}}\n",
       "\n",
       "                        })                };                });            </script>        </div>"
      ]
     },
     "metadata": {},
     "output_type": "display_data"
    }
   ],
   "source": [
    "px.histogram(df.hours_to_discharge)"
   ]
  },
  {
   "cell_type": "code",
   "execution_count": null,
   "id": "607849a9-f993-48a5-939f-37bafc92c705",
   "metadata": {},
   "outputs": [],
   "source": []
  }
 ],
 "metadata": {
  "kernelspec": {
   "display_name": "Python 3",
   "language": "python",
   "name": "python3"
  },
  "language_info": {
   "codemirror_mode": {
    "name": "ipython",
    "version": 3
   },
   "file_extension": ".py",
   "mimetype": "text/x-python",
   "name": "python",
   "nbconvert_exporter": "python",
   "pygments_lexer": "ipython3",
   "version": "3.9.5"
  }
 },
 "nbformat": 4,
 "nbformat_minor": 5
}
