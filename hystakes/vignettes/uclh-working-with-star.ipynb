{
 "cells": [
  {
   "cell_type": "markdown",
   "id": "73201884-5561-4b6c-8e7a-94c25f169d67",
   "metadata": {},
   "source": [
    "# Working with EMAP star"
   ]
  },
  {
   "cell_type": "markdown",
   "id": "6bfc003f-b6d4-4506-87c7-f95483063da6",
   "metadata": {},
   "source": [
    "A template JupyterNotebook for working with EMAP. The following features of this notebook, and associated files are documented here to minimise the risk of data leaks or other incidents.\n",
    "\n",
    "- Usernames and passwords are stored in a .env file that is excluded from version control. An example file is found at `./.env.example` (which is tracked and shared via version control).\n",
    "- .gitattributes are set to strip JupyterNotebook cells when pushing to GitHub"
   ]
  },
  {
   "cell_type": "markdown",
   "id": "31e88be2-f178-4419-9f34-ffd1b99bf306",
   "metadata": {
    "tags": []
   },
   "source": [
    "**NOTE**\n",
    "\n",
    "This notebook will be be run manually.  \n",
    "That should happen from the _project root directory_ where the `readme.md` and the `.env` file are stored.\n",
    "\n",
    "The following changes to the project root assuming that the notebook kernel is normally starting from the same directory as the notebook itself."
   ]
  },
  {
   "cell_type": "code",
   "execution_count": null,
   "id": "c6c12e67-515e-49a7-aeb0-370db90f59d7",
   "metadata": {
    "tags": []
   },
   "outputs": [],
   "source": [
    "%cd ../.."
   ]
  },
  {
   "cell_type": "markdown",
   "id": "4855cc63-3c75-4c19-9577-9ce1775e83cc",
   "metadata": {},
   "source": [
    "## Basic set-up"
   ]
  },
  {
   "cell_type": "markdown",
   "id": "6ad06f26-b33a-4798-bc83-a3970319535b",
   "metadata": {},
   "source": [
    "Load libraries"
   ]
  },
  {
   "cell_type": "code",
   "execution_count": null,
   "id": "b66a7c55-fe17-45e7-ba6a-b29efc241932",
   "metadata": {
    "tags": []
   },
   "outputs": [],
   "source": [
    "import os\n",
    "from dotenv import load_dotenv\n",
    "from pathlib import Path\n",
    "\n",
    "import matplotlib.pyplot as plt\n",
    "import numpy as np\n",
    "import pandas as pd\n",
    "from sqlalchemy import create_engine"
   ]
  },
  {
   "cell_type": "markdown",
   "id": "fd187f27-949f-4d33-8051-388ec3a45953",
   "metadata": {
    "execution": {
     "iopub.execute_input": "2021-09-22T21:58:10.979482Z",
     "iopub.status.busy": "2021-09-22T21:58:10.979109Z",
     "iopub.status.idle": "2021-09-22T21:58:10.984761Z",
     "shell.execute_reply": "2021-09-22T21:58:10.983337Z",
     "shell.execute_reply.started": "2021-09-22T21:58:10.979452Z"
    }
   },
   "source": [
    "## Load environment variables\n",
    "\n",
    "Load environment variables and set-up SQLAlchemy connection engine for the EMAP Star"
   ]
  },
  {
   "cell_type": "code",
   "execution_count": null,
   "id": "598d7fea-11cf-496c-a150-3018737ee858",
   "metadata": {
    "tags": []
   },
   "outputs": [],
   "source": [
    "load_dotenv(dotenv_path=\".env\")\n",
    "try:\n",
    "    assert os.getenv(\"DOTENV_FILE_EXISTS\") == 'TRUE'\n",
    "except AssertionError:\n",
    "    print(\"!!! ERROR: check that the .env file exists at the top level of the project\")\n",
    "    print(\"!!! ERROR: check that the relative path is correct\")"
   ]
  },
  {
   "cell_type": "code",
   "execution_count": null,
   "id": "8a484ab1-3f8b-4111-b5df-6e29fc1d4a45",
   "metadata": {
    "tags": []
   },
   "outputs": [],
   "source": [
    "# Construct the PostgreSQL connection\n",
    "uds_host = os.getenv('EMAP_DB_HOST')\n",
    "uds_name = os.getenv('EMAP_DB_NAME')\n",
    "uds_port = os.getenv('EMAP_DB_PORT')\n",
    "uds_user = os.getenv('EMAP_DB_USER')\n",
    "uds_passwd = os.getenv('EMAP_DB_PASSWORD')\n",
    "\n",
    "emapdb_engine = create_engine(f'postgresql://{uds_user}:{uds_passwd}@{uds_host}:{uds_port}/{uds_name}')"
   ]
  },
  {
   "cell_type": "markdown",
   "id": "30ce5471-7e0e-45d8-a32d-ae04cc1a4f28",
   "metadata": {
    "tags": []
   },
   "source": [
    "## A first example script\n",
    "\n",
    "Now use the connection to work with EMAP.\n",
    "\n",
    "For example, let's inspect patients currently in ED or Resus.\n",
    "\n",
    "Here's the SQL:\n",
    "\n",
    "```sql\n",
    "-- Example script \n",
    "-- to pick out patients currently in A&E resus or majors\n",
    "\n",
    "SELECT\n",
    "   vd.location_visit_id\n",
    "  ,vd.hospital_visit_id\n",
    "  ,vd.location_id\n",
    "  -- ugly HL7 location string \n",
    "  ,lo.location_string\n",
    "  -- time admitted to that bed/theatre/scan etc.\n",
    "  ,vd.admission_datetime\n",
    "  -- time discharged from that bed\n",
    "  ,vd.discharge_datetime\n",
    "\n",
    "FROM star.location_visit vd\n",
    "-- location label\n",
    "INNER JOIN star.location lo ON vd.location_id = lo.location_id\n",
    "WHERE \n",
    "-- last few hours\n",
    "vd.admission_datetime > NOW() - '12 HOURS'::INTERVAL    \n",
    "-- just CURRENT patients\n",
    "AND\n",
    "vd.discharge_datetime IS NULL\n",
    "-- filter out just ED and Resus or Majors\n",
    "AND\n",
    "-- unpacking the HL7 string formatted as \n",
    "-- Department^Ward^Bed string\n",
    "SPLIT_PART(lo.location_string,'^',1) = 'ED'\n",
    "AND\n",
    "SPLIT_PART(lo.location_string,'^',2) ~ '(RESUS|MAJORS)'\n",
    "-- sort\n",
    "ORDER BY lo.location_string\n",
    ";\n",
    "\n",
    "```\n"
   ]
  },
  {
   "cell_type": "markdown",
   "id": "835a5624-d5eb-4425-8c47-1451723f0c2a",
   "metadata": {},
   "source": [
    "The SQL script is stored at `./utils/queries/current_bed.sql`.\\\n",
    "We can load the script, and read the results into a Pandas dataframe."
   ]
  },
  {
   "cell_type": "code",
   "execution_count": null,
   "id": "f948b8d7-749b-4ce4-85f6-685bd04b76db",
   "metadata": {
    "tags": []
   },
   "outputs": [],
   "source": [
    "# Read the sql file into a query 'q' and the query into a dataframe\n",
    "q = Path('utils/queries/current_bed.sql').read_text()\n",
    "df = pd.read_sql_query(q, emapdb_engine)"
   ]
  },
  {
   "cell_type": "code",
   "execution_count": null,
   "id": "1e75965b-a1ca-47b7-8f86-cca7e71b26bf",
   "metadata": {
    "tags": []
   },
   "outputs": [],
   "source": [
    "df.head()"
   ]
  },
  {
   "cell_type": "markdown",
   "id": "38d941c9-8af6-4905-9f5b-e6949304b54a",
   "metadata": {},
   "source": [
    "## Working with hospital visits\n",
    "\n",
    "A series of three scripts\n",
    "\n",
    "1. Simply pull hospital visits\n",
    "2. Add in hospital numbers (MRN) and handle patient merges\n",
    "3. Add in patient demographics"
   ]
  },
  {
   "cell_type": "markdown",
   "id": "638cd171-4731-44a4-9334-96e17ce88044",
   "metadata": {
    "execution": {
     "iopub.execute_input": "2021-09-23T21:53:20.890749Z",
     "iopub.status.busy": "2021-09-23T21:53:20.890384Z",
     "iopub.status.idle": "2021-09-23T21:53:20.897313Z",
     "shell.execute_reply": "2021-09-23T21:53:20.896540Z",
     "shell.execute_reply.started": "2021-09-23T21:53:20.890716Z"
    }
   },
   "source": [
    "### Simply pull hospital visits\n",
    "\n",
    "```sql\n",
    "SELECT\n",
    "   vo.hospital_visit_id\n",
    "  ,vo.encounter\n",
    "  -- admission to hospital\n",
    "  ,vo.admission_datetime\n",
    "  ,vo.arrival_method\n",
    "  ,vo.presentation_datetime\n",
    "  -- discharge from hospital\n",
    "  -- NB: Outpatients have admission events but not discharge events\n",
    "  ,vo.discharge_datetime\n",
    "  ,vo.discharge_disposition\n",
    "\n",
    "-- start from hospital visits\n",
    "FROM star.hospital_visit vo\n",
    "WHERE \n",
    "      -- hospital visits within the last 12 hours\n",
    "      vo.presentation_datetime > NOW() - '12 HOURS'::INTERVAL\t\n",
    "      -- emergencies\n",
    "  AND vo.patient_class = 'EMERGENCY'\n",
    "      -- attending via ambulance\n",
    "  AND vo.arrival_method = 'Ambulance'\n",
    "      -- sort descending\n",
    "ORDER BY vo.presentation_datetime DESC\n",
    "; \n",
    "```"
   ]
  },
  {
   "cell_type": "code",
   "execution_count": null,
   "id": "28c3ecf1-89d2-4f65-8831-135fd4de24de",
   "metadata": {
    "tags": []
   },
   "outputs": [],
   "source": [
    "# Read the sql file into a query 'q' and the query into a dataframe\n",
    "q = Path('./utils/queries/hospital_visit_1.sql').read_text()\n",
    "df = pd.read_sql_query(q, emapdb_engine)\n",
    "\n",
    "df.head()"
   ]
  },
  {
   "cell_type": "markdown",
   "id": "75d7fcb5-09e4-4485-ba47-c02073ade631",
   "metadata": {
    "execution": {
     "iopub.execute_input": "2021-09-23T21:56:01.727402Z",
     "iopub.status.busy": "2021-09-23T21:56:01.727120Z",
     "iopub.status.idle": "2021-09-23T21:56:01.733609Z",
     "shell.execute_reply": "2021-09-23T21:56:01.732509Z",
     "shell.execute_reply.started": "2021-09-23T21:56:01.727375Z"
    }
   },
   "source": [
    "### Add in hospital numbers (MRN) and handle patient merges\n",
    "\n",
    "See the series of joins in the middle of the script that retrieve the live MRN.\n",
    "That is we recognise that patients may have had an episode of care with one MRN, and then that episode was merged with another historical MRN. One of those two MRNs will then become the 'live' MRN and can be used to trace the patient across what otherwise would be different identities.\n",
    "\n",
    "```sql\n",
    "SELECT\n",
    "   vo.hospital_visit_id\n",
    "  ,vo.encounter\n",
    "  ,vo.admission_datetime\n",
    "  ,vo.arrival_method\n",
    "  ,vo.presentation_datetime\n",
    "  ,vo.discharge_datetime\n",
    "  ,vo.discharge_disposition\n",
    "  -- original MRN\n",
    "  ,original_mrn.mrn AS original_mrn\n",
    "  -- live MRN\n",
    "  ,live_mrn.mrn AS live_mrn\n",
    "\n",
    "-- start from hospital visits\n",
    "FROM star.hospital_visit vo\n",
    "-- get original mrn\n",
    "INNER JOIN star.mrn original_mrn ON vo.mrn_id = original_mrn.mrn_id\n",
    "-- get mrn to live mapping \n",
    "INNER JOIN star.mrn_to_live mtl ON vo.mrn_id = mtl.mrn_id \n",
    "-- get live mrn \n",
    "INNER JOIN star.mrn live_mrn ON mtl.live_mrn_id = live_mrn.mrn_id \n",
    "\n",
    "WHERE \n",
    "      -- hospital visits within the last 12 hours\n",
    "      vo.presentation_datetime > NOW() - '12 HOURS'::INTERVAL\t\n",
    "      -- emergencies\n",
    "  AND vo.patient_class = 'EMERGENCY'\n",
    "      -- attending via ambulance\n",
    "  AND vo.arrival_method = 'Ambulance'\n",
    "      -- sort descending\n",
    "ORDER BY vo.presentation_datetime DESC\n",
    "; \n",
    "```"
   ]
  },
  {
   "cell_type": "code",
   "execution_count": null,
   "id": "382e3881-3afc-4e72-9bd8-22c7b671d7ec",
   "metadata": {
    "tags": []
   },
   "outputs": [],
   "source": [
    "# Read the sql file into a query 'q' and the query into a dataframe\n",
    "q = Path('./utils/queries/hospital_visit_2.sql').read_text()\n",
    "df = pd.read_sql_query(q, emapdb_engine)\n",
    "\n",
    "df.head()"
   ]
  },
  {
   "cell_type": "markdown",
   "id": "62387ed9-5e4a-44d0-91be-e44727436a56",
   "metadata": {
    "execution": {
     "iopub.execute_input": "2021-09-23T21:59:36.433959Z",
     "iopub.status.busy": "2021-09-23T21:59:36.433607Z",
     "iopub.status.idle": "2021-09-23T21:59:36.438315Z",
     "shell.execute_reply": "2021-09-23T21:59:36.437435Z",
     "shell.execute_reply.started": "2021-09-23T21:59:36.433930Z"
    },
    "tags": []
   },
   "source": [
    "### Add in patient demographics \n",
    "\n",
    "```sql\n",
    "SELECT\n",
    "   vo.hospital_visit_id\n",
    "  ,vo.encounter\n",
    "  ,vo.admission_datetime\n",
    "  ,vo.arrival_method\n",
    "  ,vo.presentation_datetime\n",
    "  ,vo.discharge_datetime\n",
    "  ,vo.discharge_disposition\n",
    "  -- original MRN\n",
    "  ,original_mrn.mrn AS original_mrn\n",
    "  -- live MRN\n",
    "  ,live_mrn.mrn AS live_mrn\n",
    "\n",
    "  -- core demographics\n",
    "  ,cd.date_of_birth\n",
    "  -- convert dob to age in years\n",
    "  ,date_part('year', AGE(cd.date_of_birth)) AS age\n",
    "  ,cd.sex\n",
    "  ,cd.home_postcode\n",
    "  -- grab initials from first and last name\n",
    "  ,CONCAT(LEFT(cd.firstname, 1), LEFT(cd.lastname, 1)) AS initials\n",
    "\n",
    "-- start from hospital visits\n",
    "FROM star.hospital_visit vo\n",
    "INNER JOIN star.core_demographic cd ON vo.mrn_id = cd.mrn_id\n",
    "\n",
    "-- get original mrn\n",
    "INNER JOIN star.mrn original_mrn ON vo.mrn_id = original_mrn.mrn_id\n",
    "-- get mrn to live mapping \n",
    "INNER JOIN star.mrn_to_live mtl ON vo.mrn_id = mtl.mrn_id \n",
    "-- get live mrn \n",
    "INNER JOIN star.mrn live_mrn ON mtl.live_mrn_id = live_mrn.mrn_id \n",
    "\n",
    "WHERE \n",
    "      -- hospital visits within the last 12 hours\n",
    "      vo.presentation_datetime > NOW() - '12 HOURS'::INTERVAL\t\n",
    "      -- emergencies\n",
    "  AND vo.patient_class = 'EMERGENCY'\n",
    "      -- attending via ambulance\n",
    "  AND vo.arrival_method = 'Ambulance'\n",
    "      -- sort descending\n",
    "ORDER BY vo.presentation_datetime DESC\n",
    "; \n",
    "```"
   ]
  },
  {
   "cell_type": "code",
   "execution_count": null,
   "id": "cddf1392-2df8-4a12-901e-2bec1def7f2d",
   "metadata": {
    "tags": []
   },
   "outputs": [],
   "source": [
    "# Read the sql file into a query 'q' and the query into a dataframe\n",
    "q = Path('./utils/queries/hospital_visit_3.sql').read_text()\n",
    "df = pd.read_sql_query(q, emapdb_engine)\n",
    "\n",
    "df.head()"
   ]
  },
  {
   "cell_type": "code",
   "execution_count": null,
   "id": "bf7ad76d-8ce0-406b-91d7-43d398220909",
   "metadata": {},
   "outputs": [],
   "source": []
  }
 ],
 "metadata": {
  "kernelspec": {
   "display_name": "Python 3",
   "language": "python",
   "name": "python3"
  },
  "language_info": {
   "codemirror_mode": {
    "name": "ipython",
    "version": 3
   },
   "file_extension": ".py",
   "mimetype": "text/x-python",
   "name": "python",
   "nbconvert_exporter": "python",
   "pygments_lexer": "ipython3",
   "version": "3.9.5"
  }
 },
 "nbformat": 4,
 "nbformat_minor": 5
}
