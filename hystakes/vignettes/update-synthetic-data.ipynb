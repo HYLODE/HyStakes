{
 "cells": [
  {
   "cell_type": "markdown",
   "id": "44ebd930-b2b4-4a05-96e6-450296a4e229",
   "metadata": {},
   "source": [
    "# Update synthetic data\n",
    "\n",
    "- Zella King\n",
    "- 2022-09-30\n",
    "\n",
    "Sythentic data was created by taking random draws from samples for time-to-dicharge and age. \n",
    "Update synthetic data so that older people stay longer, on averaage. "
   ]
  },
  {
   "cell_type": "code",
   "execution_count": 4,
   "id": "76896b08-547e-4b9e-965b-f6f91a862cb7",
   "metadata": {
    "execution": {
     "iopub.execute_input": "2022-09-11T22:36:58.995461Z",
     "iopub.status.busy": "2022-09-11T22:36:58.995084Z",
     "iopub.status.idle": "2022-09-11T22:37:01.107025Z",
     "shell.execute_reply": "2022-09-11T22:37:01.106152Z",
     "shell.execute_reply.started": "2022-09-11T22:36:58.995432Z"
    },
    "tags": []
   },
   "outputs": [],
   "source": [
    "import os\n",
    "from pathlib import Path\n",
    "\n",
    "import matplotlib.pyplot as plt\n",
    "import numpy as np\n",
    "import pandas as pd\n",
    "from scipy.stats import poisson, lognorm\n",
    "import sqlalchemy as sa"
   ]
  },
  {
   "cell_type": "code",
   "execution_count": null,
   "id": "b0fb50f5-6782-4a8f-9485-c62ac927bde7",
   "metadata": {
    "execution": {
     "iopub.execute_input": "2022-09-11T22:37:01.111585Z",
     "iopub.status.busy": "2022-09-11T22:37:01.111291Z",
     "iopub.status.idle": "2022-09-11T22:37:01.129827Z",
     "shell.execute_reply": "2022-09-11T22:37:01.128798Z",
     "shell.execute_reply.started": "2022-09-11T22:37:01.111556Z"
    }
   },
   "outputs": [],
   "source": [
    "%matplotlib inline"
   ]
  },
  {
   "cell_type": "markdown",
   "id": "80faf7f3-4cc7-47d1-bff5-a3151bb7c29f",
   "metadata": {},
   "source": [
    "## Read dummy data frame"
   ]
  },
  {
   "cell_type": "code",
   "execution_count": 69,
   "id": "fa56bc9b",
   "metadata": {},
   "outputs": [
    {
     "name": "stdout",
     "output_type": "stream",
     "text": [
      "Number of people discharged in 24 hours: 52\n",
      "Total number of people observed: 444\n"
     ]
    }
   ],
   "source": [
    "#os.chdir('/Users/zellaking/Repos/HyStakes/hystakes/icu_discharges')\n",
    "\n",
    "sqlite_engine = sa.create_engine('sqlite:///../../data/dummy.db')\n",
    "df = pd.read_sql_query(\"SELECT id, hours_to_discharge, department, age, pulse from discharges\", sqlite_engine)\n",
    "\n",
    "# Let N be the number of patients observed\n",
    "N = df.shape[0]\n",
    "\n",
    "# Let X be the number of patients who were discharged in 24 hours\n",
    "X = df[df.hours_to_discharge <= 24].shape[0]\n",
    "print(\"Number of people discharged in 24 hours: \" + str(X))\n",
    "print(\"Total number of people observed: \" + str(N))"
   ]
  },
  {
   "cell_type": "markdown",
   "id": "4b4f8a64",
   "metadata": {},
   "source": [
    "For everyone over the mean age, we'll multiply their hours to discharge by a factor randomly selected from a normal distribution "
   ]
  },
  {
   "cell_type": "code",
   "execution_count": 70,
   "id": "2f3d3525-d594-437d-9f35-9ae00e498c49",
   "metadata": {
    "execution": {
     "iopub.execute_input": "2022-09-11T22:44:25.174714Z",
     "iopub.status.busy": "2022-09-11T22:44:25.174029Z",
     "iopub.status.idle": "2022-09-11T22:44:25.179846Z",
     "shell.execute_reply": "2022-09-11T22:44:25.179151Z",
     "shell.execute_reply.started": "2022-09-11T22:44:25.174681Z"
    },
    "tags": []
   },
   "outputs": [],
   "source": [
    "def update_los_(hours_to_discharge):\n",
    "    hours_to_discharge = hours_to_discharge * np.random.normal(2, .5) \n",
    "    return hours_to_discharge\n",
    "\n",
    "\n",
    "df['hours_to_discharge'] = df.apply(lambda x: update_los_(x.hours_to_discharge) if x.age > df.age.mean() else x.hours_to_discharge, axis = 1)\n"
   ]
  },
  {
   "cell_type": "code",
   "execution_count": 71,
   "id": "bf78a9df",
   "metadata": {},
   "outputs": [
    {
     "name": "stdout",
     "output_type": "stream",
     "text": [
      "Number of people discharged in 24 hours: 32\n",
      "Total number of people observed: 444\n"
     ]
    }
   ],
   "source": [
    "X = df[df.hours_to_discharge <= 24].shape[0]\n",
    "print(\"Number of people discharged in 24 hours: \" + str(X))\n",
    "print(\"Total number of people observed: \" + str(N))"
   ]
  },
  {
   "cell_type": "markdown",
   "id": "72300b3c-6030-4722-b6f2-18b16dc75356",
   "metadata": {},
   "source": [
    "Write dummy data out"
   ]
  },
  {
   "cell_type": "code",
   "execution_count": 72,
   "id": "dc2892e2-07da-4626-86c8-a43f307e0d91",
   "metadata": {
    "execution": {
     "iopub.execute_input": "2022-09-11T22:53:09.508470Z",
     "iopub.status.busy": "2022-09-11T22:53:09.507276Z",
     "iopub.status.idle": "2022-09-11T22:53:09.545485Z",
     "shell.execute_reply": "2022-09-11T22:53:09.544609Z",
     "shell.execute_reply.started": "2022-09-11T22:53:09.508432Z"
    },
    "tags": []
   },
   "outputs": [
    {
     "data": {
      "text/plain": [
       "444"
      ]
     },
     "execution_count": 72,
     "metadata": {},
     "output_type": "execute_result"
    }
   ],
   "source": [
    "df.to_sql('discharges_age_adjusted', con=sqlite_engine, if_exists='replace') "
   ]
  },
  {
   "cell_type": "code",
   "execution_count": null,
   "id": "0c3a0d90",
   "metadata": {},
   "outputs": [],
   "source": []
  }
 ],
 "metadata": {
  "kernelspec": {
   "display_name": "Python 3.9.13 ('hystakes')",
   "language": "python",
   "name": "python3"
  },
  "language_info": {
   "codemirror_mode": {
    "name": "ipython",
    "version": 3
   },
   "file_extension": ".py",
   "mimetype": "text/x-python",
   "name": "python",
   "nbconvert_exporter": "python",
   "pygments_lexer": "ipython3",
   "version": "3.9.13"
  },
  "vscode": {
   "interpreter": {
    "hash": "777d76e45dee6605b55d3e20abadc559ebb627ce5062984b1aa5036d21f44d79"
   }
  }
 },
 "nbformat": 4,
 "nbformat_minor": 5
}
