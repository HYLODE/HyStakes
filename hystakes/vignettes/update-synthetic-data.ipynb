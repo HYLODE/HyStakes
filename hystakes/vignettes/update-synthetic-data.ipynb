{
 "cells": [
  {
   "cell_type": "markdown",
   "id": "44ebd930-b2b4-4a05-96e6-450296a4e229",
   "metadata": {},
   "source": [
    "# Prepare synthetic data\n",
    "\n",
    "- Steve Harris\n",
    "- 2022-09-11\n",
    "\n",
    "We need synthetic data.  \n",
    "We will inspect live data in this notebook, and then derive a short script that will generate suitable dummy data."
   ]
  },
  {
   "cell_type": "markdown",
   "id": "6625867f-b7eb-47cc-9a54-7d7093768e98",
   "metadata": {
    "tags": []
   },
   "source": [
    "**NOTE**\n",
    "\n",
    "This notebook will be be run manually.  \n",
    "That should happen from the _project root directory_ where the `readme.md` and the `.env` file are stored.\n",
    "\n",
    "The following changes to the project root assuming that the notebook kernel is normally starting from the same directory as the notebook itself."
   ]
  },
  {
   "cell_type": "code",
   "execution_count": 1,
   "id": "c6c12e67-515e-49a7-aeb0-370db90f59d7",
   "metadata": {
    "execution": {
     "iopub.execute_input": "2022-09-11T22:36:58.980387Z",
     "iopub.status.busy": "2022-09-11T22:36:58.979672Z",
     "iopub.status.idle": "2022-09-11T22:36:58.992199Z",
     "shell.execute_reply": "2022-09-11T22:36:58.991141Z",
     "shell.execute_reply.started": "2022-09-11T22:36:58.980313Z"
    },
    "tags": []
   },
   "outputs": [
    {
     "name": "stdout",
     "output_type": "stream",
     "text": [
      "/data/hymind/home/steve/HyStakes\n"
     ]
    }
   ],
   "source": [
    "%cd ../.."
   ]
  },
  {
   "cell_type": "code",
   "execution_count": 2,
   "id": "76896b08-547e-4b9e-965b-f6f91a862cb7",
   "metadata": {
    "execution": {
     "iopub.execute_input": "2022-09-11T22:36:58.995461Z",
     "iopub.status.busy": "2022-09-11T22:36:58.995084Z",
     "iopub.status.idle": "2022-09-11T22:37:01.107025Z",
     "shell.execute_reply": "2022-09-11T22:37:01.106152Z",
     "shell.execute_reply.started": "2022-09-11T22:36:58.995432Z"
    },
    "tags": []
   },
   "outputs": [],
   "source": [
    "import os\n",
    "from dotenv import load_dotenv\n",
    "from pathlib import Path\n",
    "\n",
    "import matplotlib.pyplot as plt\n",
    "import numpy as np\n",
    "import pandas as pd\n",
    "from scipy.stats import poisson, lognorm\n",
    "import sqlalchemy as sa"
   ]
  },
  {
   "cell_type": "code",
   "execution_count": 3,
   "id": "b0fb50f5-6782-4a8f-9485-c62ac927bde7",
   "metadata": {
    "execution": {
     "iopub.execute_input": "2022-09-11T22:37:01.111585Z",
     "iopub.status.busy": "2022-09-11T22:37:01.111291Z",
     "iopub.status.idle": "2022-09-11T22:37:01.129827Z",
     "shell.execute_reply": "2022-09-11T22:37:01.128798Z",
     "shell.execute_reply.started": "2022-09-11T22:37:01.111556Z"
    }
   },
   "outputs": [],
   "source": [
    "%matplotlib inline"
   ]
  },
  {
   "cell_type": "markdown",
   "id": "0fff9d0c-e0cd-4cec-acc8-5630d90c3a83",
   "metadata": {
    "execution": {
     "iopub.execute_input": "2021-09-22T21:58:10.979482Z",
     "iopub.status.busy": "2021-09-22T21:58:10.979109Z",
     "iopub.status.idle": "2021-09-22T21:58:10.984761Z",
     "shell.execute_reply": "2021-09-22T21:58:10.983337Z",
     "shell.execute_reply.started": "2021-09-22T21:58:10.979452Z"
    },
    "tags": []
   },
   "source": [
    "## Load environment variables\n",
    "\n",
    "Load environment variables and set-up SQLAlchemy connection engine for the EMAP Star"
   ]
  },
  {
   "cell_type": "code",
   "execution_count": 4,
   "id": "0ec87771-99d3-4753-9b2a-26820370b16d",
   "metadata": {
    "execution": {
     "iopub.execute_input": "2022-09-11T22:37:01.131202Z",
     "iopub.status.busy": "2022-09-11T22:37:01.130899Z",
     "iopub.status.idle": "2022-09-11T22:37:01.138461Z",
     "shell.execute_reply": "2022-09-11T22:37:01.137172Z",
     "shell.execute_reply.started": "2022-09-11T22:37:01.131173Z"
    },
    "tags": []
   },
   "outputs": [],
   "source": [
    "load_dotenv(dotenv_path=\".env\")\n",
    "try:\n",
    "    assert os.getenv(\"DOTENV_FILE_EXISTS\") == 'TRUE'\n",
    "except AssertionError:\n",
    "    print(\"!!! ERROR: check that the .env file exists at the top level of the project\")\n",
    "    print(\"!!! ERROR: check that the relative path is correct\")"
   ]
  },
  {
   "cell_type": "code",
   "execution_count": 5,
   "id": "ac6fd269-77f5-4694-88e9-3546ed3795a1",
   "metadata": {
    "execution": {
     "iopub.execute_input": "2022-09-11T22:37:01.140900Z",
     "iopub.status.busy": "2022-09-11T22:37:01.140230Z",
     "iopub.status.idle": "2022-09-11T22:37:01.294023Z",
     "shell.execute_reply": "2022-09-11T22:37:01.285023Z",
     "shell.execute_reply.started": "2022-09-11T22:37:01.140851Z"
    },
    "tags": []
   },
   "outputs": [],
   "source": [
    "# Construct the PostgreSQL connection\n",
    "uds_host = os.getenv('EMAP_DB_HOST')\n",
    "uds_name = os.getenv('EMAP_DB_NAME')\n",
    "uds_port = os.getenv('EMAP_DB_PORT')\n",
    "uds_user = os.getenv('EMAP_DB_USER')\n",
    "uds_passwd = os.getenv('EMAP_DB_PASSWORD')\n",
    "\n",
    "emapdb_engine = sa.create_engine(f'postgresql://{uds_user}:{uds_passwd}@{uds_host}:{uds_port}/{uds_name}')"
   ]
  },
  {
   "cell_type": "markdown",
   "id": "16446753-e141-4e28-82e2-f5b0d89947da",
   "metadata": {},
   "source": [
    "## Prepare the 'live' query"
   ]
  },
  {
   "cell_type": "markdown",
   "id": "29357ecc-f69e-4a09-9c36-6e48871ddb35",
   "metadata": {},
   "source": [
    "Here's the _very_ long query that I built.  \n",
    "It selects all patients on tower wards 2 weeks ago (336 hours), and then finds the age (rounded) and the last heart rate. The remaining data has _no_ identifiers."
   ]
  },
  {
   "cell_type": "markdown",
   "id": "26b3d976-b5f2-4677-8e12-033ba0d0b951",
   "metadata": {},
   "source": [
    "```sql\n",
    "\n",
    "SELECT\n",
    " left(md5(lv.hospital_visit_id::TEXT), 6) id\n",
    "--,lv.location_visit_id\n",
    "--,lv.admission_datetime admit_dt_bed\n",
    "--,lv.discharge_datetime disch_dt_bed\n",
    "--,hv.admission_datetime admit_dt_hosp\n",
    "--,hv.discharge_datetime disch_dt_hosp\n",
    ",ROUND(EXTRACT(epoch FROM \n",
    "    (hv.discharge_datetime - (NOW() - '336 HOURS'::INTERVAL)\n",
    "    ))/3600) hours_to_discharge\n",
    "--,hv.discharge_destination\n",
    "--,hv.patient_class\n",
    "--,lo.location_string\n",
    ",dept.name department\n",
    "\n",
    "-- include age rounded to 5\n",
    ", ROUND(DATE_PART('year',AGE(cd.date_of_birth ))/5) * 5 AGE\n",
    "\n",
    "-- add last heart rate\n",
    ",hr.value_as_real pulse\n",
    "--,hr.observation_datetime\n",
    "\n",
    "\n",
    "FROM star.location_visit lv\n",
    "LEFT JOIN star.location lo ON lv.location_id = lo.location_id\n",
    "LEFT JOIN star.department dept ON lo.department_id = dept.department_id \n",
    "LEFT JOIN star.hospital_visit hv ON lv.hospital_visit_id = hv.hospital_visit_id\n",
    "LEFT JOIN star.core_demographic cd ON hv.mrn_id = cd.mrn_id\n",
    "LEFT JOIN (\n",
    "    WITH obs AS (\n",
    "        SELECT\n",
    "\n",
    "         vo.visit_observation_id\n",
    "        ,vo.hospital_visit_id\n",
    "        ,vo.observation_datetime\n",
    "        ,vo.value_as_real\n",
    "        ,ot.name\n",
    "\n",
    "        FROM star.visit_observation vo\n",
    "        LEFT JOIN star.visit_observation_type ot ON vo.visit_observation_type_id = ot.visit_observation_type_id\n",
    "        WHERE \n",
    "        ot.id_in_application = '8' -- heart rate\n",
    "        AND\n",
    "        vo.observation_datetime < NOW() - '336 HOURS'::INTERVAL \n",
    "        AND\n",
    "        vo.observation_datetime > NOW() - '360 HOURS'::INTERVAL \n",
    "    ),\n",
    "    obs_tail AS (\n",
    "        SELECT \n",
    "         obs.*\n",
    "        ,row_number() over (partition BY obs.hospital_visit_id ORDER BY obs.observation_datetime DESC) obs_tail\n",
    "        FROM obs\n",
    "    )\n",
    "    SELECT \n",
    "     visit_observation_id\n",
    "    ,hospital_visit_id\n",
    "    ,observation_datetime\n",
    "    ,value_as_real\n",
    "    ,NAME\n",
    "    FROM obs_tail \n",
    "    WHERE obs_tail = 1\n",
    ") hr -- heart rate\n",
    "ON lv.hospital_visit_id = hr.hospital_visit_id\n",
    "\n",
    "WHERE \n",
    "dept.name IN (\n",
    "'UCH T03 INTENSIVE CARE'\n",
    ",'UCH SDEC'\n",
    ",'UCH T01 ACUTE MEDICAL'\n",
    ",'UCH T01 ENHANCED CARE'\n",
    ",'UCH T06 HEAD (T06H)'\n",
    ",'UCH T06 CENTRAL (T06C)'\n",
    ",'UCH T06 SOUTH PACU'\n",
    ",'UCH T06 GYNAE (T06G)'\n",
    ",'UCH T07 NORTH (T07N)'\n",
    ",'UCH T07 CV SURGE'\n",
    ",'UCH T07 SOUTH'\n",
    ",'UCH T07 SOUTH (T07S)'\n",
    ",'UCH T07 HDRU'\n",
    ",'UCH T08 NORTH (T08N)'\n",
    ",'UCH T08 SOUTH (T08S)'\n",
    ",'UCH T08S ARCU'\n",
    ",'UCH T09 SOUTH (T09S)'\n",
    ",'UCH T09 NORTH (T09N)'\n",
    ",'UCH T09 CENTRAL (T09C)'\n",
    ",'UCH T10 SOUTH (T10S)'\n",
    ",'UCH T10 NORTH (T10N)'\n",
    ",'UCH T10 MED (T10M)'\n",
    ",'UCH T11 SOUTH (T11S)'\n",
    ",'UCH T11 NORTH (T11N)'\n",
    ",'UCH T11 EAST (T11E)'\n",
    ",'UCH T11 NORTH (T11NO)'\n",
    ",'UCH T12 SOUTH (T12S)'\n",
    ",'UCH T12 NORTH (T12N)'\n",
    ",'UCH T13 SOUTH (T13S)'\n",
    ",'UCH T13 NORTH ONCOLOGY'\n",
    ",'UCH T13 NORTH (T13N)'\n",
    ",'UCH T14 NORTH TRAUMA'\n",
    ",'UCH T14 NORTH (T14N)'\n",
    ",'UCH T14 SOUTH ASU'\n",
    ",'UCH T14 SOUTH (T14S)'\n",
    ",'UCH T15 SOUTH DECANT'\n",
    ",'UCH T15 SOUTH (T15S)'\n",
    ",'UCH T15 NORTH (T15N)'\n",
    ",'UCH T15 NORTH DECANT'\n",
    ",'UCH T16 NORTH (T16N)'\n",
    ",'UCH T16 SOUTH (T16S)'\n",
    ",'UCH T16 SOUTH WINTER'\n",
    "\n",
    ")\n",
    "AND\n",
    "lv.admission_datetime < NOW() - '336 HOURS'::INTERVAL \n",
    "AND\n",
    "    (lv.discharge_datetime > NOW() - '336 HOURS'::INTERVAL \n",
    "     OR\n",
    "      (lv.discharge_datetime IS NULL AND hv.discharge_datetime IS NULL)\n",
    "    )\n",
    "AND \n",
    "lo.location_string NOT LIKE '%WAIT%'\n",
    "AND \n",
    "lo.location_string NOT LIKE '%null%'\n",
    ";\n",
    "```"
   ]
  },
  {
   "cell_type": "markdown",
   "id": "262422b8-d245-46ec-b3f3-b6474d03aa88",
   "metadata": {},
   "source": [
    "To benefit from syntax highlighting, proper version control and other goodness then we'll actually load the query from its own file. The list above is there just to improve the flow and readability of this notebook."
   ]
  },
  {
   "cell_type": "code",
   "execution_count": 6,
   "id": "40a8e2cd-47a3-494d-a115-8b0720539c92",
   "metadata": {
    "execution": {
     "iopub.execute_input": "2022-09-11T22:37:01.298191Z",
     "iopub.status.busy": "2022-09-11T22:37:01.297825Z",
     "iopub.status.idle": "2022-09-11T22:37:01.304687Z",
     "shell.execute_reply": "2022-09-11T22:37:01.302464Z",
     "shell.execute_reply.started": "2022-09-11T22:37:01.298161Z"
    },
    "tags": []
   },
   "outputs": [],
   "source": [
    "q = Path('utils/queries/discharges_dummy.sql').read_text()\n",
    "\n",
    "# this handles escaping etc (e.g. % in the LIKE clause becomes %%)\n",
    "q = sa.text(q)"
   ]
  },
  {
   "cell_type": "code",
   "execution_count": 7,
   "id": "22908be3-6cb5-4dd8-b2c1-a769397c9078",
   "metadata": {
    "execution": {
     "iopub.execute_input": "2022-09-11T22:37:01.306344Z",
     "iopub.status.busy": "2022-09-11T22:37:01.306042Z",
     "iopub.status.idle": "2022-09-11T22:37:03.104060Z",
     "shell.execute_reply": "2022-09-11T22:37:03.103011Z",
     "shell.execute_reply.started": "2022-09-11T22:37:01.306315Z"
    },
    "tags": []
   },
   "outputs": [],
   "source": [
    "df = pd.read_sql_query(q, emapdb_engine)"
   ]
  },
  {
   "cell_type": "markdown",
   "id": "1eeaedc6-dbdb-490e-bea8-2b808046e8b0",
   "metadata": {},
   "source": [
    "Now inspect the fields"
   ]
  },
  {
   "cell_type": "code",
   "execution_count": 8,
   "id": "770f4611-afb7-4300-b65d-e4e3ba10c11c",
   "metadata": {
    "execution": {
     "iopub.execute_input": "2022-09-11T22:37:03.105967Z",
     "iopub.status.busy": "2022-09-11T22:37:03.105623Z",
     "iopub.status.idle": "2022-09-11T22:37:03.123753Z",
     "shell.execute_reply": "2022-09-11T22:37:03.122731Z",
     "shell.execute_reply.started": "2022-09-11T22:37:03.105933Z"
    },
    "tags": []
   },
   "outputs": [
    {
     "name": "stdout",
     "output_type": "stream",
     "text": [
      "<class 'pandas.core.frame.DataFrame'>\n",
      "RangeIndex: 444 entries, 0 to 443\n",
      "Data columns (total 5 columns):\n",
      " #   Column              Non-Null Count  Dtype  \n",
      "---  ------              --------------  -----  \n",
      " 0   id                  444 non-null    object \n",
      " 1   hours_to_discharge  263 non-null    float64\n",
      " 2   department          444 non-null    object \n",
      " 3   age                 444 non-null    float64\n",
      " 4   pulse               381 non-null    float64\n",
      "dtypes: float64(3), object(2)\n",
      "memory usage: 17.5+ KB\n"
     ]
    }
   ],
   "source": [
    "df.info()"
   ]
  },
  {
   "cell_type": "markdown",
   "id": "4bbe2924-7715-4a22-b2d8-035f3d9a2bcc",
   "metadata": {
    "tags": []
   },
   "source": [
    "## Simulate/fake each field"
   ]
  },
  {
   "cell_type": "markdown",
   "id": "752c8ba9-6cec-41db-a8d8-ccab7fa23545",
   "metadata": {
    "tags": []
   },
   "source": [
    "### Hours to discharge"
   ]
  },
  {
   "cell_type": "markdown",
   "id": "e5bc4935-0da1-4bd7-b4e9-d63f7048315f",
   "metadata": {},
   "source": [
    "Plot the distribution, then pick a distribution and create a simple sample"
   ]
  },
  {
   "cell_type": "code",
   "execution_count": 9,
   "id": "6ad6fd56-abcc-43f5-a5e9-ae8c9c1119bf",
   "metadata": {
    "execution": {
     "iopub.execute_input": "2022-09-11T22:37:03.125737Z",
     "iopub.status.busy": "2022-09-11T22:37:03.125167Z",
     "iopub.status.idle": "2022-09-11T22:37:03.146807Z",
     "shell.execute_reply": "2022-09-11T22:37:03.145823Z",
     "shell.execute_reply.started": "2022-09-11T22:37:03.125608Z"
    },
    "tags": []
   },
   "outputs": [
    {
     "data": {
      "text/plain": [
       "count    263.000000\n",
       "mean     108.049430\n",
       "std       82.814341\n",
       "min        1.000000\n",
       "25%       43.000000\n",
       "50%       86.000000\n",
       "75%      157.500000\n",
       "max      332.000000\n",
       "Name: hours_to_discharge, dtype: float64"
      ]
     },
     "execution_count": 9,
     "metadata": {},
     "output_type": "execute_result"
    }
   ],
   "source": [
    "LoS = df['hours_to_discharge']\n",
    "LoS.describe()"
   ]
  },
  {
   "cell_type": "code",
   "execution_count": 10,
   "id": "47b77a82-f6ea-4ef4-8dfe-6473d895c080",
   "metadata": {
    "execution": {
     "iopub.execute_input": "2022-09-11T22:37:03.148498Z",
     "iopub.status.busy": "2022-09-11T22:37:03.148017Z",
     "iopub.status.idle": "2022-09-11T22:37:03.367250Z",
     "shell.execute_reply": "2022-09-11T22:37:03.366219Z",
     "shell.execute_reply.started": "2022-09-11T22:37:03.148468Z"
    }
   },
   "outputs": [
    {
     "data": {
      "image/png": "[encoded data removed]",
      "text/plain": [
       "<Figure size 432x288 with 1 Axes>"
      ]
     },
     "metadata": {
      "needs_background": "light"
     },
     "output_type": "display_data"
    }
   ],
   "source": [
    "n, bins, patches = plt.hist(LoS, bins=20)"
   ]
  },
  {
   "cell_type": "markdown",
   "id": "58d4f7bc-7b78-4b54-9620-80eb1f59acba",
   "metadata": {
    "execution": {
     "iopub.execute_input": "2022-09-11T22:10:35.462010Z",
     "iopub.status.busy": "2022-09-11T22:10:35.461465Z",
     "iopub.status.idle": "2022-09-11T22:10:35.468304Z",
     "shell.execute_reply": "2022-09-11T22:10:35.466966Z",
     "shell.execute_reply.started": "2022-09-11T22:10:35.461978Z"
    }
   },
   "source": [
    "Now generate an empirical distribution that roughly matches as above by sampling with replacement"
   ]
  },
  {
   "cell_type": "code",
   "execution_count": 11,
   "id": "9162d64c-11d3-4d97-91e6-f286ae0d6ff3",
   "metadata": {
    "execution": {
     "iopub.execute_input": "2022-09-11T22:37:03.368981Z",
     "iopub.status.busy": "2022-09-11T22:37:03.368645Z",
     "iopub.status.idle": "2022-09-11T22:37:03.380851Z",
     "shell.execute_reply": "2022-09-11T22:37:03.379743Z",
     "shell.execute_reply.started": "2022-09-11T22:37:03.368949Z"
    },
    "tags": []
   },
   "outputs": [
    {
     "data": {
      "text/plain": [
       "count    263.000000\n",
       "mean      96.634981\n",
       "std       80.698500\n",
       "min        1.000000\n",
       "25%       40.000000\n",
       "50%       68.000000\n",
       "75%      138.500000\n",
       "max      305.000000\n",
       "Name: hours_to_discharge, dtype: float64"
      ]
     },
     "execution_count": 11,
     "metadata": {},
     "output_type": "execute_result"
    }
   ],
   "source": [
    "LoS_sample = LoS.sample(frac=1, replace=True)\n",
    "LoS_sample.describe()"
   ]
  },
  {
   "cell_type": "code",
   "execution_count": 12,
   "id": "912c763a-34f3-4139-8ddb-9567bfc5d634",
   "metadata": {
    "execution": {
     "iopub.execute_input": "2022-09-11T22:37:03.382588Z",
     "iopub.status.busy": "2022-09-11T22:37:03.381769Z",
     "iopub.status.idle": "2022-09-11T22:37:03.586995Z",
     "shell.execute_reply": "2022-09-11T22:37:03.586052Z",
     "shell.execute_reply.started": "2022-09-11T22:37:03.382555Z"
    }
   },
   "outputs": [
    {
     "data": {
      "image/png": "[encoded data removed]",
      "text/plain": [
       "<Figure size 432x288 with 1 Axes>"
      ]
     },
     "metadata": {
      "needs_background": "light"
     },
     "output_type": "display_data"
    }
   ],
   "source": [
    "n, bins, patches = plt.hist(LoS_sample, bins=20)"
   ]
  },
  {
   "cell_type": "markdown",
   "id": "28feb135-a2c8-4d68-8b76-8d43fd04301b",
   "metadata": {},
   "source": [
    "### Department"
   ]
  },
  {
   "cell_type": "markdown",
   "id": "ca1fbae9-08ac-4090-bf9b-811651e0f3e5",
   "metadata": {},
   "source": [
    "Plot the distribution, then pick a distribution and create a simple sample"
   ]
  },
  {
   "cell_type": "code",
   "execution_count": 13,
   "id": "f7e2ba2e-70c2-4a49-8d75-436ae35f3039",
   "metadata": {
    "execution": {
     "iopub.execute_input": "2022-09-11T22:37:03.588259Z",
     "iopub.status.busy": "2022-09-11T22:37:03.587948Z",
     "iopub.status.idle": "2022-09-11T22:37:03.598017Z",
     "shell.execute_reply": "2022-09-11T22:37:03.596673Z",
     "shell.execute_reply.started": "2022-09-11T22:37:03.588229Z"
    },
    "tags": []
   },
   "outputs": [
    {
     "data": {
      "text/plain": [
       "UCH T01 ACUTE MEDICAL     36\n",
       "UCH T10 SOUTH (T10S)      35\n",
       "UCH T10 NORTH (T10N)      24\n",
       "UCH T09 NORTH (T09N)      24\n",
       "UCH T13 NORTH ONCOLOGY    24\n",
       "UCH SDEC                  23\n",
       "UCH T13 SOUTH (T13S)      22\n",
       "UCH T08 SOUTH (T08S)      21\n",
       "UCH T08 NORTH (T08N)      20\n",
       "UCH T09 CENTRAL (T09C)    19\n",
       "UCH T03 INTENSIVE CARE    19\n",
       "UCH T12 NORTH (T12N)      18\n",
       "UCH T14 NORTH TRAUMA      17\n",
       "UCH T16 NORTH (T16N)      15\n",
       "UCH T07 NORTH (T07N)      15\n",
       "UCH T16 SOUTH WINTER      14\n",
       "UCH T14 SOUTH ASU         13\n",
       "UCH T06 HEAD (T06H)       12\n",
       "UCH T12 SOUTH (T12S)      10\n",
       "UCH T11 NORTH (T11N)       9\n",
       "UCH T01 ENHANCED CARE      9\n",
       "UCH T11 SOUTH (T11S)       9\n",
       "UCH T07 SOUTH              7\n",
       "UCH T06 CENTRAL (T06C)     6\n",
       "UCH T14 NORTH (T14N)       4\n",
       "UCH T06 SOUTH PACU         4\n",
       "UCH T09 SOUTH (T09S)       3\n",
       "UCH T06 GYNAE (T06G)       3\n",
       "UCH T15 SOUTH (T15S)       2\n",
       "UCH T07 SOUTH (T07S)       2\n",
       "UCH T10 MED (T10M)         1\n",
       "UCH T08S ARCU              1\n",
       "UCH T15 NORTH (T15N)       1\n",
       "UCH T11 EAST (T11E)        1\n",
       "UCH T16 SOUTH (T16S)       1\n",
       "Name: department, dtype: int64"
      ]
     },
     "execution_count": 13,
     "metadata": {},
     "output_type": "execute_result"
    }
   ],
   "source": [
    "department = df['department']\n",
    "department.value_counts()"
   ]
  },
  {
   "cell_type": "code",
   "execution_count": 14,
   "id": "96080964-2373-4448-b9cc-1f9daf4d8c4d",
   "metadata": {
    "execution": {
     "iopub.execute_input": "2022-09-11T22:37:03.600030Z",
     "iopub.status.busy": "2022-09-11T22:37:03.599325Z",
     "iopub.status.idle": "2022-09-11T22:37:03.606337Z",
     "shell.execute_reply": "2022-09-11T22:37:03.605183Z",
     "shell.execute_reply.started": "2022-09-11T22:37:03.599998Z"
    },
    "tags": []
   },
   "outputs": [],
   "source": [
    "X = df.groupby('department')['department'].count()"
   ]
  },
  {
   "cell_type": "code",
   "execution_count": 15,
   "id": "e84eb62f-571b-4b42-88ad-af3faaf0e7bc",
   "metadata": {
    "execution": {
     "iopub.execute_input": "2022-09-11T22:37:03.608642Z",
     "iopub.status.busy": "2022-09-11T22:37:03.607670Z",
     "iopub.status.idle": "2022-09-11T22:37:04.028092Z",
     "shell.execute_reply": "2022-09-11T22:37:04.027086Z",
     "shell.execute_reply.started": "2022-09-11T22:37:03.608611Z"
    },
    "tags": []
   },
   "outputs": [
    {
     "data": {
      "image/png": "[encoded data removed]",
      "text/plain": [
       "<Figure size 648x432 with 1 Axes>"
      ]
     },
     "metadata": {
      "needs_background": "light"
     },
     "output_type": "display_data"
    }
   ],
   "source": [
    "fig, ax = plt.subplots(dpi=1.5*72)\n",
    "ax.bar(X.index, X.values)\n",
    "ax.tick_params(axis='x', rotation=90)\n",
    "plt.show()"
   ]
  },
  {
   "cell_type": "markdown",
   "id": "5472b82a-a7f8-49e1-9965-18ff13b80687",
   "metadata": {
    "execution": {
     "iopub.execute_input": "2022-09-11T22:10:35.462010Z",
     "iopub.status.busy": "2022-09-11T22:10:35.461465Z",
     "iopub.status.idle": "2022-09-11T22:10:35.468304Z",
     "shell.execute_reply": "2022-09-11T22:10:35.466966Z",
     "shell.execute_reply.started": "2022-09-11T22:10:35.461978Z"
    }
   },
   "source": [
    "Now generate an empirical distribution that roughly matches as above by sampling with replacement"
   ]
  },
  {
   "cell_type": "code",
   "execution_count": 16,
   "id": "8098ba2e-9ed0-4118-98ff-0bc23632f777",
   "metadata": {
    "execution": {
     "iopub.execute_input": "2022-09-11T22:37:04.029333Z",
     "iopub.status.busy": "2022-09-11T22:37:04.029027Z",
     "iopub.status.idle": "2022-09-11T22:37:04.038957Z",
     "shell.execute_reply": "2022-09-11T22:37:04.038082Z",
     "shell.execute_reply.started": "2022-09-11T22:37:04.029303Z"
    },
    "tags": []
   },
   "outputs": [
    {
     "data": {
      "text/plain": [
       "UCH T01 ACUTE MEDICAL     45\n",
       "UCH T10 SOUTH (T10S)      37\n",
       "UCH T09 CENTRAL (T09C)    30\n",
       "UCH T13 NORTH ONCOLOGY    26\n",
       "UCH T10 NORTH (T10N)      26\n",
       "UCH T09 NORTH (T09N)      25\n",
       "UCH T13 SOUTH (T13S)      23\n",
       "UCH T03 INTENSIVE CARE    22\n",
       "UCH SDEC                  22\n",
       "UCH T07 NORTH (T07N)      21\n",
       "UCH T06 HEAD (T06H)       16\n",
       "UCH T12 NORTH (T12N)      16\n",
       "UCH T16 NORTH (T16N)      16\n",
       "UCH T14 SOUTH ASU         14\n",
       "UCH T08 SOUTH (T08S)      14\n",
       "UCH T14 NORTH TRAUMA      12\n",
       "UCH T16 SOUTH WINTER      12\n",
       "UCH T08 NORTH (T08N)      11\n",
       "UCH T11 NORTH (T11N)      10\n",
       "UCH T11 SOUTH (T11S)       7\n",
       "UCH T01 ENHANCED CARE      6\n",
       "UCH T07 SOUTH              6\n",
       "UCH T12 SOUTH (T12S)       5\n",
       "UCH T06 SOUTH PACU         5\n",
       "UCH T14 NORTH (T14N)       3\n",
       "UCH T06 CENTRAL (T06C)     3\n",
       "UCH T06 GYNAE (T06G)       3\n",
       "UCH T15 SOUTH (T15S)       3\n",
       "UCH T07 SOUTH (T07S)       1\n",
       "UCH T15 NORTH (T15N)       1\n",
       "UCH T16 SOUTH (T16S)       1\n",
       "UCH T10 MED (T10M)         1\n",
       "UCH T09 SOUTH (T09S)       1\n",
       "Name: department, dtype: int64"
      ]
     },
     "execution_count": 16,
     "metadata": {},
     "output_type": "execute_result"
    }
   ],
   "source": [
    "department_sample =department.sample(frac=1, replace=True)\n",
    "department_sample.value_counts()"
   ]
  },
  {
   "cell_type": "code",
   "execution_count": 17,
   "id": "2a1ad800-5d22-4d85-9683-c0d8c3fb42b1",
   "metadata": {
    "execution": {
     "iopub.execute_input": "2022-09-11T22:37:04.040854Z",
     "iopub.status.busy": "2022-09-11T22:37:04.040339Z",
     "iopub.status.idle": "2022-09-11T22:37:04.431584Z",
     "shell.execute_reply": "2022-09-11T22:37:04.430573Z",
     "shell.execute_reply.started": "2022-09-11T22:37:04.040822Z"
    },
    "tags": []
   },
   "outputs": [
    {
     "data": {
      "image/png": "[encoded data removed]",
      "text/plain": [
       "<Figure size 648x432 with 1 Axes>"
      ]
     },
     "metadata": {
      "needs_background": "light"
     },
     "output_type": "display_data"
    }
   ],
   "source": [
    "X_s = department_sample.value_counts()\n",
    "X_s = X_s.reindex(X.index)\n",
    "fig, ax = plt.subplots(dpi=1.5*72)\n",
    "ax.bar(X_s.index, X_s.values)\n",
    "ax.tick_params(axis='x', rotation=90)\n",
    "plt.show()"
   ]
  },
  {
   "cell_type": "markdown",
   "id": "5f564f6d-140b-4a45-8919-d5058bdc0322",
   "metadata": {
    "tags": []
   },
   "source": [
    "### Age"
   ]
  },
  {
   "cell_type": "markdown",
   "id": "747d5b81-85dc-424e-8420-b0e19a0cf66f",
   "metadata": {},
   "source": [
    "Plot the distribution, then pick a distribution and create a simple sample"
   ]
  },
  {
   "cell_type": "code",
   "execution_count": 18,
   "id": "b875beea-ec69-4b8a-b646-2a197daa4626",
   "metadata": {
    "execution": {
     "iopub.execute_input": "2022-09-11T22:37:04.433229Z",
     "iopub.status.busy": "2022-09-11T22:37:04.432925Z",
     "iopub.status.idle": "2022-09-11T22:37:04.443985Z",
     "shell.execute_reply": "2022-09-11T22:37:04.442851Z",
     "shell.execute_reply.started": "2022-09-11T22:37:04.433199Z"
    },
    "tags": []
   },
   "outputs": [
    {
     "data": {
      "text/plain": [
       "count    444.000000\n",
       "mean      57.927928\n",
       "std       23.748289\n",
       "min        0.000000\n",
       "25%       40.000000\n",
       "50%       65.000000\n",
       "75%       75.000000\n",
       "max      100.000000\n",
       "Name: age, dtype: float64"
      ]
     },
     "execution_count": 18,
     "metadata": {},
     "output_type": "execute_result"
    }
   ],
   "source": [
    "age = df['age']\n",
    "age.describe()"
   ]
  },
  {
   "cell_type": "code",
   "execution_count": 19,
   "id": "45a2b6c4-60b8-4b49-a06b-9416234da7d1",
   "metadata": {
    "execution": {
     "iopub.execute_input": "2022-09-11T22:37:04.445803Z",
     "iopub.status.busy": "2022-09-11T22:37:04.444840Z",
     "iopub.status.idle": "2022-09-11T22:37:04.627006Z",
     "shell.execute_reply": "2022-09-11T22:37:04.625983Z",
     "shell.execute_reply.started": "2022-09-11T22:37:04.445773Z"
    },
    "tags": []
   },
   "outputs": [
    {
     "data": {
      "image/png": "[encoded data removed]",
      "text/plain": [
       "<Figure size 432x288 with 1 Axes>"
      ]
     },
     "metadata": {
      "needs_background": "light"
     },
     "output_type": "display_data"
    }
   ],
   "source": [
    "n, bins, patches = plt.hist(age, bins=20)"
   ]
  },
  {
   "cell_type": "markdown",
   "id": "6c7c5c0d-75e7-40ec-88b1-1ad67ef643ba",
   "metadata": {
    "execution": {
     "iopub.execute_input": "2022-09-11T22:10:35.462010Z",
     "iopub.status.busy": "2022-09-11T22:10:35.461465Z",
     "iopub.status.idle": "2022-09-11T22:10:35.468304Z",
     "shell.execute_reply": "2022-09-11T22:10:35.466966Z",
     "shell.execute_reply.started": "2022-09-11T22:10:35.461978Z"
    }
   },
   "source": [
    "Now generate an empirical distribution that roughly matches as above by sampling with replacement"
   ]
  },
  {
   "cell_type": "code",
   "execution_count": 20,
   "id": "3fbb002b-4684-4361-9b77-1ccf9b9b86bb",
   "metadata": {
    "execution": {
     "iopub.execute_input": "2022-09-11T22:37:04.629369Z",
     "iopub.status.busy": "2022-09-11T22:37:04.628516Z",
     "iopub.status.idle": "2022-09-11T22:37:04.639886Z",
     "shell.execute_reply": "2022-09-11T22:37:04.638951Z",
     "shell.execute_reply.started": "2022-09-11T22:37:04.629333Z"
    },
    "tags": []
   },
   "outputs": [
    {
     "data": {
      "text/plain": [
       "count    444.000000\n",
       "mean      58.355856\n",
       "std       22.933793\n",
       "min        5.000000\n",
       "25%       43.750000\n",
       "50%       65.000000\n",
       "75%       75.000000\n",
       "max      100.000000\n",
       "Name: age, dtype: float64"
      ]
     },
     "execution_count": 20,
     "metadata": {},
     "output_type": "execute_result"
    }
   ],
   "source": [
    "age_sample = age.sample(frac=1, replace=True)\n",
    "age_sample.describe()"
   ]
  },
  {
   "cell_type": "code",
   "execution_count": 21,
   "id": "b3fb3783-a62d-4a49-b378-2b5d7fd21f6d",
   "metadata": {
    "execution": {
     "iopub.execute_input": "2022-09-11T22:37:04.644501Z",
     "iopub.status.busy": "2022-09-11T22:37:04.644187Z",
     "iopub.status.idle": "2022-09-11T22:37:04.843016Z",
     "shell.execute_reply": "2022-09-11T22:37:04.841950Z",
     "shell.execute_reply.started": "2022-09-11T22:37:04.644472Z"
    },
    "tags": []
   },
   "outputs": [
    {
     "data": {
      "image/png": "[encoded data removed]",
      "text/plain": [
       "<Figure size 432x288 with 1 Axes>"
      ]
     },
     "metadata": {
      "needs_background": "light"
     },
     "output_type": "display_data"
    }
   ],
   "source": [
    "n, bins, patches = plt.hist(age_sample, bins=20)"
   ]
  },
  {
   "cell_type": "markdown",
   "id": "ecd04c7e-6db9-457d-b817-d96939a0d719",
   "metadata": {
    "tags": []
   },
   "source": [
    "### Pulse"
   ]
  },
  {
   "cell_type": "markdown",
   "id": "849840b1-f964-4278-97e5-ad34e8314e07",
   "metadata": {},
   "source": [
    "Plot the distribution, then pick a distribution and create a simple sample"
   ]
  },
  {
   "cell_type": "code",
   "execution_count": 22,
   "id": "0193541a-2c91-4734-b19e-c745ce4f9d79",
   "metadata": {
    "execution": {
     "iopub.execute_input": "2022-09-11T22:37:04.844821Z",
     "iopub.status.busy": "2022-09-11T22:37:04.844348Z",
     "iopub.status.idle": "2022-09-11T22:37:04.855868Z",
     "shell.execute_reply": "2022-09-11T22:37:04.854929Z",
     "shell.execute_reply.started": "2022-09-11T22:37:04.844788Z"
    },
    "tags": []
   },
   "outputs": [
    {
     "data": {
      "text/plain": [
       "count    381.000000\n",
       "mean      81.391076\n",
       "std       17.147712\n",
       "min       42.000000\n",
       "25%       70.000000\n",
       "50%       80.000000\n",
       "75%       90.000000\n",
       "max      187.000000\n",
       "Name: pulse, dtype: float64"
      ]
     },
     "execution_count": 22,
     "metadata": {},
     "output_type": "execute_result"
    }
   ],
   "source": [
    "pulse = df['pulse']\n",
    "pulse.describe()"
   ]
  },
  {
   "cell_type": "code",
   "execution_count": 23,
   "id": "ddca33d2-ff24-479a-ba95-476dd7e86733",
   "metadata": {
    "execution": {
     "iopub.execute_input": "2022-09-11T22:37:04.857712Z",
     "iopub.status.busy": "2022-09-11T22:37:04.857076Z",
     "iopub.status.idle": "2022-09-11T22:37:05.073867Z",
     "shell.execute_reply": "2022-09-11T22:37:05.072931Z",
     "shell.execute_reply.started": "2022-09-11T22:37:04.857681Z"
    },
    "tags": []
   },
   "outputs": [
    {
     "data": {
      "image/png": "[encoded data removed]",
      "text/plain": [
       "<Figure size 432x288 with 1 Axes>"
      ]
     },
     "metadata": {
      "needs_background": "light"
     },
     "output_type": "display_data"
    }
   ],
   "source": [
    "n, bins, patches = plt.hist(pulse, bins=20)"
   ]
  },
  {
   "cell_type": "markdown",
   "id": "a09c6404-91f9-432d-b725-49e83b2efbc9",
   "metadata": {
    "execution": {
     "iopub.execute_input": "2022-09-11T22:10:35.462010Z",
     "iopub.status.busy": "2022-09-11T22:10:35.461465Z",
     "iopub.status.idle": "2022-09-11T22:10:35.468304Z",
     "shell.execute_reply": "2022-09-11T22:10:35.466966Z",
     "shell.execute_reply.started": "2022-09-11T22:10:35.461978Z"
    }
   },
   "source": [
    "Now generate an empirical distribution that roughly matches as above by sampling with replacement"
   ]
  },
  {
   "cell_type": "code",
   "execution_count": 24,
   "id": "aae03b9f-cad6-4738-8851-738d132f3876",
   "metadata": {
    "execution": {
     "iopub.execute_input": "2022-09-11T22:37:05.075647Z",
     "iopub.status.busy": "2022-09-11T22:37:05.075219Z",
     "iopub.status.idle": "2022-09-11T22:37:05.087954Z",
     "shell.execute_reply": "2022-09-11T22:37:05.086696Z",
     "shell.execute_reply.started": "2022-09-11T22:37:05.075606Z"
    },
    "tags": []
   },
   "outputs": [
    {
     "data": {
      "text/plain": [
       "count    375.000000\n",
       "mean      79.696000\n",
       "std       15.435336\n",
       "min       46.000000\n",
       "25%       68.500000\n",
       "50%       78.000000\n",
       "75%       89.000000\n",
       "max      133.000000\n",
       "Name: pulse, dtype: float64"
      ]
     },
     "execution_count": 24,
     "metadata": {},
     "output_type": "execute_result"
    }
   ],
   "source": [
    "pulse_sample = pulse.sample(frac=1, replace=True)\n",
    "pulse_sample.describe()"
   ]
  },
  {
   "cell_type": "code",
   "execution_count": 25,
   "id": "bbdef891-9f1e-4fef-96e1-10db275d3d42",
   "metadata": {
    "execution": {
     "iopub.execute_input": "2022-09-11T22:37:05.090032Z",
     "iopub.status.busy": "2022-09-11T22:37:05.089139Z",
     "iopub.status.idle": "2022-09-11T22:37:05.274742Z",
     "shell.execute_reply": "2022-09-11T22:37:05.273497Z",
     "shell.execute_reply.started": "2022-09-11T22:37:05.089998Z"
    },
    "tags": []
   },
   "outputs": [
    {
     "data": {
      "image/png": "[encoded data removed]",
      "text/plain": [
       "<Figure size 432x288 with 1 Axes>"
      ]
     },
     "metadata": {
      "needs_background": "light"
     },
     "output_type": "display_data"
    }
   ],
   "source": [
    "n, bins, patches = plt.hist(pulse_sample, bins=20)"
   ]
  },
  {
   "cell_type": "code",
   "execution_count": 31,
   "id": "50d2fcd2-8789-4e9c-95b7-cb1006ac5c65",
   "metadata": {
    "execution": {
     "iopub.execute_input": "2022-09-11T22:38:08.972222Z",
     "iopub.status.busy": "2022-09-11T22:38:08.971696Z",
     "iopub.status.idle": "2022-09-11T22:38:08.980757Z",
     "shell.execute_reply": "2022-09-11T22:38:08.979618Z",
     "shell.execute_reply.started": "2022-09-11T22:38:08.972190Z"
    },
    "tags": []
   },
   "outputs": [
    {
     "data": {
      "text/plain": [
       "115     59.0\n",
       "363    102.0\n",
       "317     72.0\n",
       "257     60.0\n",
       "265      NaN\n",
       "       ...  \n",
       "237      NaN\n",
       "118     87.0\n",
       "47      78.0\n",
       "253     63.0\n",
       "394     77.0\n",
       "Name: pulse, Length: 444, dtype: float64"
      ]
     },
     "execution_count": 31,
     "metadata": {},
     "output_type": "execute_result"
    }
   ],
   "source": [
    "pulse_sample"
   ]
  },
  {
   "cell_type": "markdown",
   "id": "80faf7f3-4cc7-47d1-bff5-a3151bb7c29f",
   "metadata": {},
   "source": [
    "## Prepare dummy data frame"
   ]
  },
  {
   "cell_type": "code",
   "execution_count": 44,
   "id": "2f3d3525-d594-437d-9f35-9ae00e498c49",
   "metadata": {
    "execution": {
     "iopub.execute_input": "2022-09-11T22:44:25.174714Z",
     "iopub.status.busy": "2022-09-11T22:44:25.174029Z",
     "iopub.status.idle": "2022-09-11T22:44:25.179846Z",
     "shell.execute_reply": "2022-09-11T22:44:25.179151Z",
     "shell.execute_reply.started": "2022-09-11T22:44:25.174681Z"
    },
    "tags": []
   },
   "outputs": [],
   "source": [
    "LoS_sample.reset_index(inplace=True, drop=True)\n",
    "department_sample.reset_index(inplace=True, drop=True)\n",
    "age_sample.reset_index(inplace=True, drop=True)\n",
    "pulse_sample.reset_index(inplace=True, drop=True)"
   ]
  },
  {
   "cell_type": "code",
   "execution_count": 45,
   "id": "607849a9-f993-48a5-939f-37bafc92c705",
   "metadata": {
    "execution": {
     "iopub.execute_input": "2022-09-11T22:44:25.742662Z",
     "iopub.status.busy": "2022-09-11T22:44:25.742148Z",
     "iopub.status.idle": "2022-09-11T22:44:25.750197Z",
     "shell.execute_reply": "2022-09-11T22:44:25.749206Z",
     "shell.execute_reply.started": "2022-09-11T22:44:25.742629Z"
    },
    "tags": []
   },
   "outputs": [],
   "source": [
    "df_dummy = pd.concat([LoS_sample, department_sample, age_sample, pulse_sample], axis=1)"
   ]
  },
  {
   "cell_type": "code",
   "execution_count": 47,
   "id": "c7b4d2b8-5d94-4ac7-99a9-037aca7226f8",
   "metadata": {
    "execution": {
     "iopub.execute_input": "2022-09-11T22:45:38.586478Z",
     "iopub.status.busy": "2022-09-11T22:45:38.585512Z",
     "iopub.status.idle": "2022-09-11T22:45:38.592421Z",
     "shell.execute_reply": "2022-09-11T22:45:38.591015Z",
     "shell.execute_reply.started": "2022-09-11T22:45:38.586445Z"
    },
    "tags": []
   },
   "outputs": [],
   "source": [
    "df_dummy.reset_index(inplace=True)"
   ]
  },
  {
   "cell_type": "code",
   "execution_count": 51,
   "id": "b3c2502c-75d0-4a62-ac62-6fdc72540061",
   "metadata": {
    "execution": {
     "iopub.execute_input": "2022-09-11T22:47:07.474397Z",
     "iopub.status.busy": "2022-09-11T22:47:07.473854Z",
     "iopub.status.idle": "2022-09-11T22:47:07.480094Z",
     "shell.execute_reply": "2022-09-11T22:47:07.479229Z",
     "shell.execute_reply.started": "2022-09-11T22:47:07.474363Z"
    },
    "tags": []
   },
   "outputs": [],
   "source": [
    "df_dummy.rename({'index': 'id'}, axis=1, inplace=True)"
   ]
  },
  {
   "cell_type": "code",
   "execution_count": 52,
   "id": "e1e987f1-32bb-4e9c-b5d4-50058ca09b7a",
   "metadata": {
    "execution": {
     "iopub.execute_input": "2022-09-11T22:47:08.043036Z",
     "iopub.status.busy": "2022-09-11T22:47:08.042642Z",
     "iopub.status.idle": "2022-09-11T22:47:08.057182Z",
     "shell.execute_reply": "2022-09-11T22:47:08.055700Z",
     "shell.execute_reply.started": "2022-09-11T22:47:08.043003Z"
    },
    "tags": []
   },
   "outputs": [
    {
     "data": {
      "text/html": [
       "<div>\n",
       "<style scoped>\n",
       "    .dataframe tbody tr th:only-of-type {\n",
       "        vertical-align: middle;\n",
       "    }\n",
       "\n",
       "    .dataframe tbody tr th {\n",
       "        vertical-align: top;\n",
       "    }\n",
       "\n",
       "    .dataframe thead th {\n",
       "        text-align: right;\n",
       "    }\n",
       "</style>\n",
       "<table border=\"1\" class=\"dataframe\">\n",
       "  <thead>\n",
       "    <tr style=\"text-align: right;\">\n",
       "      <th></th>\n",
       "      <th>id</th>\n",
       "      <th>hours_to_discharge</th>\n",
       "      <th>department</th>\n",
       "      <th>age</th>\n",
       "      <th>pulse</th>\n",
       "    </tr>\n",
       "  </thead>\n",
       "  <tbody>\n",
       "    <tr>\n",
       "      <th>0</th>\n",
       "      <td>0</td>\n",
       "      <td>42.0</td>\n",
       "      <td>UCH T11 NORTH (T11N)</td>\n",
       "      <td>60.0</td>\n",
       "      <td>59.0</td>\n",
       "    </tr>\n",
       "    <tr>\n",
       "      <th>1</th>\n",
       "      <td>1</td>\n",
       "      <td>NaN</td>\n",
       "      <td>UCH T03 INTENSIVE CARE</td>\n",
       "      <td>65.0</td>\n",
       "      <td>102.0</td>\n",
       "    </tr>\n",
       "    <tr>\n",
       "      <th>2</th>\n",
       "      <td>2</td>\n",
       "      <td>132.0</td>\n",
       "      <td>UCH T13 NORTH ONCOLOGY</td>\n",
       "      <td>60.0</td>\n",
       "      <td>72.0</td>\n",
       "    </tr>\n",
       "    <tr>\n",
       "      <th>3</th>\n",
       "      <td>3</td>\n",
       "      <td>206.0</td>\n",
       "      <td>UCH T01 ACUTE MEDICAL</td>\n",
       "      <td>10.0</td>\n",
       "      <td>60.0</td>\n",
       "    </tr>\n",
       "    <tr>\n",
       "      <th>4</th>\n",
       "      <td>4</td>\n",
       "      <td>90.0</td>\n",
       "      <td>UCH T11 SOUTH (T11S)</td>\n",
       "      <td>65.0</td>\n",
       "      <td>NaN</td>\n",
       "    </tr>\n",
       "  </tbody>\n",
       "</table>\n",
       "</div>"
      ],
      "text/plain": [
       "   id  hours_to_discharge              department   age  pulse\n",
       "0   0                42.0    UCH T11 NORTH (T11N)  60.0   59.0\n",
       "1   1                 NaN  UCH T03 INTENSIVE CARE  65.0  102.0\n",
       "2   2               132.0  UCH T13 NORTH ONCOLOGY  60.0   72.0\n",
       "3   3               206.0   UCH T01 ACUTE MEDICAL  10.0   60.0\n",
       "4   4                90.0    UCH T11 SOUTH (T11S)  65.0    NaN"
      ]
     },
     "execution_count": 52,
     "metadata": {},
     "output_type": "execute_result"
    }
   ],
   "source": [
    "df_dummy.head()"
   ]
  },
  {
   "cell_type": "markdown",
   "id": "72300b3c-6030-4722-b6f2-18b16dc75356",
   "metadata": {},
   "source": [
    "Write dummy data out. Use sqlite to manage typing etc."
   ]
  },
  {
   "cell_type": "code",
   "execution_count": 57,
   "id": "dc2892e2-07da-4626-86c8-a43f307e0d91",
   "metadata": {
    "execution": {
     "iopub.execute_input": "2022-09-11T22:53:09.508470Z",
     "iopub.status.busy": "2022-09-11T22:53:09.507276Z",
     "iopub.status.idle": "2022-09-11T22:53:09.545485Z",
     "shell.execute_reply": "2022-09-11T22:53:09.544609Z",
     "shell.execute_reply.started": "2022-09-11T22:53:09.508432Z"
    },
    "tags": []
   },
   "outputs": [],
   "source": [
    "sqlite_engine = sa.create_engine('sqlite:///data/dummy.db')\n",
    "df_dummy.to_sql('discharges', con=sqlite_engine, if_exists='replace') "
   ]
  }
 ],
 "metadata": {
  "kernelspec": {
   "display_name": "Python 3.9.13 ('hystakes')",
   "language": "python",
   "name": "python3"
  },
  "language_info": {
   "codemirror_mode": {
    "name": "ipython",
    "version": 3
   },
   "file_extension": ".py",
   "mimetype": "text/x-python",
   "name": "python",
   "nbconvert_exporter": "python",
   "pygments_lexer": "ipython3",
   "version": "3.9.13"
  },
  "vscode": {
   "interpreter": {
    "hash": "777d76e45dee6605b55d3e20abadc559ebb627ce5062984b1aa5036d21f44d79"
   }
  }
 },
 "nbformat": 4,
 "nbformat_minor": 5
}
